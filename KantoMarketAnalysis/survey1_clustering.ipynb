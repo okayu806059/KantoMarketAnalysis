{
 "cells": [
  {
   "cell_type": "code",
   "execution_count": 1,
   "metadata": {},
   "outputs": [],
   "source": [
    "import pandas as pd\n",
    "import numpy as np\n",
    "import scipy \n",
    "import matplotlib.pyplot as plt\n",
    "import statistics as stat\n",
    "from sklearn.cluster import KMeans\n",
    "from sklearn.preprocessing import StandardScaler\n",
    "\n",
    "survey1 = pd.read_csv(\"/Users/yuuki/survey1.csv\")"
   ]
  },
  {
   "cell_type": "code",
   "execution_count": 2,
   "metadata": {},
   "outputs": [
    {
     "name": "stdout",
     "output_type": "stream",
     "text": [
      "Index(['SEX', 'AGE', 'GEN', 'PRE', 'ARE', 'JOB', 'MAR', 'CHI', 'q1s1', 'q1s2',\n",
      "       ...\n",
      "       'q7s6', 'q7s7', 'q7s8', 'q7s9', 'q8c1', 'q8c2', 'q8c3', 'q8c4', 'q8c5',\n",
      "       'q8c6'],\n",
      "      dtype='object', length=110)\n"
     ]
    }
   ],
   "source": [
    "print(survey1.columns)"
   ]
  },
  {
   "cell_type": "code",
   "execution_count": 3,
   "metadata": {},
   "outputs": [
    {
     "name": "stdout",
     "output_type": "stream",
     "text": [
      "Index(['q1s1', 'q1s2', 'q1s3', 'q1s4', 'q1s5', 'q1s6', 'q1s7', 'q1s8', 'q1s9',\n",
      "       'q1s10',\n",
      "       ...\n",
      "       'q7s6', 'q7s7', 'q7s8', 'q7s9', 'q8c1', 'q8c2', 'q8c3', 'q8c4', 'q8c5',\n",
      "       'q8c6'],\n",
      "      dtype='object', length=102)\n"
     ]
    }
   ],
   "source": [
    "col = survey1.columns[8:]\n",
    "print(col)"
   ]
  },
  {
   "cell_type": "code",
   "execution_count": 4,
   "metadata": {},
   "outputs": [],
   "source": [
    "cols = ['SEX']"
   ]
  },
  {
   "cell_type": "code",
   "execution_count": 5,
   "metadata": {},
   "outputs": [],
   "source": [
    "cols.extend(col)"
   ]
  },
  {
   "cell_type": "code",
   "execution_count": 6,
   "metadata": {},
   "outputs": [
    {
     "name": "stdout",
     "output_type": "stream",
     "text": [
      "['SEX', 'q1s1', 'q1s2', 'q1s3', 'q1s4', 'q1s5', 'q1s6', 'q1s7', 'q1s8', 'q1s9', 'q1s10', 'q1s11', 'q1s12', 'q2s1c1', 'q2s1c2', 'q2s1c3', 'q2s1c4', 'q2s1c5', 'q2s2c1', 'q2s2c2', 'q2s2c3', 'q2s2c4', 'q2s2c5', 'q2s3c1', 'q2s3c2', 'q2s3c3', 'q2s3c4', 'q2s3c5', 'q2s4c1', 'q2s4c2', 'q2s4c3', 'q2s4c4', 'q2s4c5', 'q2s5c1', 'q2s5c2', 'q2s5c3', 'q2s5c4', 'q2s5c5', 'q2s6c1', 'q2s6c2', 'q2s6c3', 'q2s6c4', 'q2s6c5', 'q2s7c1', 'q2s7c2', 'q2s7c3', 'q2s7c4', 'q2s7c5', 'q2s8c1', 'q2s8c2', 'q2s8c3', 'q2s8c4', 'q2s8c5', 'q2s9c1', 'q2s9c2', 'q2s9c3', 'q2s9c4', 'q2s9c5', 'q2s10c1', 'q2s10c2', 'q2s10c3', 'q2s10c4', 'q2s10c5', 'q2s11c1', 'q2s11c2', 'q2s11c3', 'q2s11c4', 'q2s11c5', 'q2s12c1', 'q2s12c2', 'q2s12c3', 'q2s12c4', 'q2s12c5', 'q2s13c1', 'q2s13c2', 'q2s13c3', 'q2s13c4', 'q2s13c5', 'q3', 'q4', 'q5', 'q6s1', 'q6s2', 'q6s3', 'q6s4', 'q6s5', 'q6s6', 'q6s7', 'q7s1', 'q7s2', 'q7s3', 'q7s4', 'q7s5', 'q7s6', 'q7s7', 'q7s8', 'q7s9', 'q8c1', 'q8c2', 'q8c3', 'q8c4', 'q8c5', 'q8c6']\n"
     ]
    }
   ],
   "source": [
    "print(cols)"
   ]
  },
  {
   "cell_type": "code",
   "execution_count": 7,
   "metadata": {},
   "outputs": [
    {
     "name": "stdout",
     "output_type": "stream",
     "text": [
      "[2 0 3 1]\n"
     ]
    },
    {
     "name": "stderr",
     "output_type": "stream",
     "text": [
      "/Users/yuuki/opt/anaconda3/lib/python3.7/site-packages/ipykernel_launcher.py:14: SettingWithCopyWarning: \n",
      "A value is trying to be set on a copy of a slice from a DataFrame.\n",
      "Try using .loc[row_indexer,col_indexer] = value instead\n",
      "\n",
      "See the caveats in the documentation: http://pandas.pydata.org/pandas-docs/stable/user_guide/indexing.html#returning-a-view-versus-a-copy\n",
      "  \n"
     ]
    },
    {
     "data": {
      "text/html": [
       "<div>\n",
       "<style scoped>\n",
       "    .dataframe tbody tr th:only-of-type {\n",
       "        vertical-align: middle;\n",
       "    }\n",
       "\n",
       "    .dataframe tbody tr th {\n",
       "        vertical-align: top;\n",
       "    }\n",
       "\n",
       "    .dataframe thead th {\n",
       "        text-align: right;\n",
       "    }\n",
       "</style>\n",
       "<table border=\"1\" class=\"dataframe\">\n",
       "  <thead>\n",
       "    <tr style=\"text-align: right;\">\n",
       "      <th></th>\n",
       "      <th>SEX</th>\n",
       "      <th>q1s1</th>\n",
       "      <th>q1s2</th>\n",
       "      <th>q1s3</th>\n",
       "      <th>q1s4</th>\n",
       "      <th>q1s5</th>\n",
       "      <th>q1s6</th>\n",
       "      <th>q1s7</th>\n",
       "      <th>q1s8</th>\n",
       "      <th>q1s9</th>\n",
       "      <th>...</th>\n",
       "      <th>q7s7</th>\n",
       "      <th>q7s8</th>\n",
       "      <th>q7s9</th>\n",
       "      <th>q8c1</th>\n",
       "      <th>q8c2</th>\n",
       "      <th>q8c3</th>\n",
       "      <th>q8c4</th>\n",
       "      <th>q8c5</th>\n",
       "      <th>q8c6</th>\n",
       "      <th>cluster</th>\n",
       "    </tr>\n",
       "  </thead>\n",
       "  <tbody>\n",
       "    <tr>\n",
       "      <td>0</td>\n",
       "      <td>1</td>\n",
       "      <td>4</td>\n",
       "      <td>4</td>\n",
       "      <td>4</td>\n",
       "      <td>4</td>\n",
       "      <td>4</td>\n",
       "      <td>2</td>\n",
       "      <td>4</td>\n",
       "      <td>4</td>\n",
       "      <td>4</td>\n",
       "      <td>...</td>\n",
       "      <td>1</td>\n",
       "      <td>2</td>\n",
       "      <td>1</td>\n",
       "      <td>0</td>\n",
       "      <td>0</td>\n",
       "      <td>1</td>\n",
       "      <td>0</td>\n",
       "      <td>0</td>\n",
       "      <td>0</td>\n",
       "      <td>2</td>\n",
       "    </tr>\n",
       "    <tr>\n",
       "      <td>1</td>\n",
       "      <td>1</td>\n",
       "      <td>3</td>\n",
       "      <td>4</td>\n",
       "      <td>3</td>\n",
       "      <td>4</td>\n",
       "      <td>4</td>\n",
       "      <td>4</td>\n",
       "      <td>4</td>\n",
       "      <td>4</td>\n",
       "      <td>4</td>\n",
       "      <td>...</td>\n",
       "      <td>5</td>\n",
       "      <td>5</td>\n",
       "      <td>5</td>\n",
       "      <td>1</td>\n",
       "      <td>0</td>\n",
       "      <td>0</td>\n",
       "      <td>0</td>\n",
       "      <td>0</td>\n",
       "      <td>0</td>\n",
       "      <td>0</td>\n",
       "    </tr>\n",
       "    <tr>\n",
       "      <td>2</td>\n",
       "      <td>2</td>\n",
       "      <td>4</td>\n",
       "      <td>4</td>\n",
       "      <td>4</td>\n",
       "      <td>4</td>\n",
       "      <td>4</td>\n",
       "      <td>3</td>\n",
       "      <td>4</td>\n",
       "      <td>4</td>\n",
       "      <td>4</td>\n",
       "      <td>...</td>\n",
       "      <td>3</td>\n",
       "      <td>3</td>\n",
       "      <td>2</td>\n",
       "      <td>1</td>\n",
       "      <td>0</td>\n",
       "      <td>0</td>\n",
       "      <td>0</td>\n",
       "      <td>0</td>\n",
       "      <td>0</td>\n",
       "      <td>3</td>\n",
       "    </tr>\n",
       "    <tr>\n",
       "      <td>3</td>\n",
       "      <td>2</td>\n",
       "      <td>4</td>\n",
       "      <td>4</td>\n",
       "      <td>4</td>\n",
       "      <td>3</td>\n",
       "      <td>4</td>\n",
       "      <td>4</td>\n",
       "      <td>4</td>\n",
       "      <td>4</td>\n",
       "      <td>4</td>\n",
       "      <td>...</td>\n",
       "      <td>5</td>\n",
       "      <td>4</td>\n",
       "      <td>4</td>\n",
       "      <td>1</td>\n",
       "      <td>0</td>\n",
       "      <td>0</td>\n",
       "      <td>0</td>\n",
       "      <td>0</td>\n",
       "      <td>0</td>\n",
       "      <td>0</td>\n",
       "    </tr>\n",
       "    <tr>\n",
       "      <td>4</td>\n",
       "      <td>2</td>\n",
       "      <td>4</td>\n",
       "      <td>4</td>\n",
       "      <td>3</td>\n",
       "      <td>4</td>\n",
       "      <td>4</td>\n",
       "      <td>4</td>\n",
       "      <td>4</td>\n",
       "      <td>4</td>\n",
       "      <td>4</td>\n",
       "      <td>...</td>\n",
       "      <td>1</td>\n",
       "      <td>1</td>\n",
       "      <td>1</td>\n",
       "      <td>0</td>\n",
       "      <td>0</td>\n",
       "      <td>1</td>\n",
       "      <td>0</td>\n",
       "      <td>0</td>\n",
       "      <td>0</td>\n",
       "      <td>3</td>\n",
       "    </tr>\n",
       "  </tbody>\n",
       "</table>\n",
       "<p>5 rows × 104 columns</p>\n",
       "</div>"
      ],
      "text/plain": [
       "   SEX  q1s1  q1s2  q1s3  q1s4  q1s5  q1s6  q1s7  q1s8  q1s9  ...  q7s7  q7s8  \\\n",
       "0    1     4     4     4     4     4     2     4     4     4  ...     1     2   \n",
       "1    1     3     4     3     4     4     4     4     4     4  ...     5     5   \n",
       "2    2     4     4     4     4     4     3     4     4     4  ...     3     3   \n",
       "3    2     4     4     4     3     4     4     4     4     4  ...     5     4   \n",
       "4    2     4     4     3     4     4     4     4     4     4  ...     1     1   \n",
       "\n",
       "   q7s9  q8c1  q8c2  q8c3  q8c4  q8c5  q8c6  cluster  \n",
       "0     1     0     0     1     0     0     0        2  \n",
       "1     5     1     0     0     0     0     0        0  \n",
       "2     2     1     0     0     0     0     0        3  \n",
       "3     4     1     0     0     0     0     0        0  \n",
       "4     1     0     0     1     0     0     0        3  \n",
       "\n",
       "[5 rows x 104 columns]"
      ]
     },
     "execution_count": 7,
     "metadata": {},
     "output_type": "execute_result"
    }
   ],
   "source": [
    "# k-means\n",
    "\n",
    "# お試し\n",
    "# クラスタリングする列を指定\n",
    "survey1_clustering = survey1[cols]\n",
    "\n",
    "sc = StandardScaler()\n",
    "survey1_clustering_sc = sc.fit_transform(survey1_clustering)\n",
    "\n",
    "kmeans = KMeans(n_clusters=4, random_state=0)\n",
    "\n",
    "clusters = kmeans.fit(survey1_clustering_sc)\n",
    "\n",
    "survey1_clustering[\"cluster\"] = clusters.labels_\n",
    "\n",
    "print(survey1_clustering[\"cluster\"].unique())\n",
    "\n",
    "survey1_clustering.head()"
   ]
  },
  {
   "cell_type": "code",
   "execution_count": 8,
   "metadata": {},
   "outputs": [
    {
     "data": {
      "image/png": "[encoded data removed]",
      "text/plain": [
       "<Figure size 432x288 with 1 Axes>"
      ]
     },
     "metadata": {
      "needs_background": "light"
     },
     "output_type": "display_data"
    }
   ],
   "source": [
    "# エルボー法でベストなクラスター数を計算\n",
    "distortions = []\n",
    "\n",
    "for i  in range(1,11):                # 1~10クラスタまで一気に計算 \n",
    "    km = KMeans(n_clusters=i,\n",
    "                random_state=0)\n",
    "    km.fit(survey1_clustering_sc)                         # クラスタリングの計算を実行\n",
    "    distortions.append(km.inertia_)   # km.fitするとkm.inertia_が得られる\n",
    "\n",
    "plt.plot(range(1,11),distortions,marker='o')\n",
    "plt.xlabel('Number of clusters')\n",
    "plt.ylabel('Distortion')\n",
    "plt.title(\"Elbow\")\n",
    "plt.show()"
   ]
  },
  {
   "cell_type": "code",
   "execution_count": 25,
   "metadata": {},
   "outputs": [
    {
     "name": "stdout",
     "output_type": "stream",
     "text": [
      "ベストクラスタ数  0\n"
     ]
    }
   ],
   "source": [
    "best_clusters = 0\n",
    "for i in range(1, 10):\n",
    "    if (distortions[i-1] - distortions[i] < 100):\n",
    "        best_clusters = i\n",
    "        break\n",
    "\n",
    "print(\"ベストクラスタ数 \", best_clusters)\n"
   ]
  },
  {
   "cell_type": "code",
   "execution_count": 19,
   "metadata": {},
   "outputs": [
    {
     "name": "stdout",
     "output_type": "stream",
     "text": [
      "[37183.0, 31777.113655519293, 29616.713079300065, 28069.349035927902, 26537.272899712385, 25502.7773866731, 24493.217212219286, 23626.639878295413, 22745.824681194623, 22346.6159589556]\n"
     ]
    }
   ],
   "source": [
    "print(distortions)"
   ]
  },
  {
   "cell_type": "code",
   "execution_count": 20,
   "metadata": {},
   "outputs": [
    {
     "data": {
      "text/plain": [
       "10"
      ]
     },
     "execution_count": 20,
     "metadata": {},
     "output_type": "execute_result"
    }
   ],
   "source": [
    "len(distortions)"
   ]
  },
  {
   "cell_type": "markdown",
   "metadata": {},
   "source": [
    "ベストなクラスター数は、2または9"
   ]
  },
  {
   "cell_type": "code",
   "execution_count": 26,
   "metadata": {},
   "outputs": [
    {
     "name": "stdout",
     "output_type": "stream",
     "text": [
      "[0 1]\n"
     ]
    },
    {
     "name": "stderr",
     "output_type": "stream",
     "text": [
      "/Users/yuuki/opt/anaconda3/lib/python3.7/site-packages/ipykernel_launcher.py:11: SettingWithCopyWarning: \n",
      "A value is trying to be set on a copy of a slice from a DataFrame.\n",
      "Try using .loc[row_indexer,col_indexer] = value instead\n",
      "\n",
      "See the caveats in the documentation: http://pandas.pydata.org/pandas-docs/stable/user_guide/indexing.html#returning-a-view-versus-a-copy\n",
      "  # This is added back by InteractiveShellApp.init_path()\n"
     ]
    },
    {
     "data": {
      "text/html": [
       "<div>\n",
       "<style scoped>\n",
       "    .dataframe tbody tr th:only-of-type {\n",
       "        vertical-align: middle;\n",
       "    }\n",
       "\n",
       "    .dataframe tbody tr th {\n",
       "        vertical-align: top;\n",
       "    }\n",
       "\n",
       "    .dataframe thead th {\n",
       "        text-align: right;\n",
       "    }\n",
       "</style>\n",
       "<table border=\"1\" class=\"dataframe\">\n",
       "  <thead>\n",
       "    <tr style=\"text-align: right;\">\n",
       "      <th></th>\n",
       "      <th>SEX</th>\n",
       "      <th>q1s1</th>\n",
       "      <th>q1s2</th>\n",
       "      <th>q1s3</th>\n",
       "      <th>q1s4</th>\n",
       "      <th>q1s5</th>\n",
       "      <th>q1s6</th>\n",
       "      <th>q1s7</th>\n",
       "      <th>q1s8</th>\n",
       "      <th>q1s9</th>\n",
       "      <th>...</th>\n",
       "      <th>q7s7</th>\n",
       "      <th>q7s8</th>\n",
       "      <th>q7s9</th>\n",
       "      <th>q8c1</th>\n",
       "      <th>q8c2</th>\n",
       "      <th>q8c3</th>\n",
       "      <th>q8c4</th>\n",
       "      <th>q8c5</th>\n",
       "      <th>q8c6</th>\n",
       "      <th>cluster</th>\n",
       "    </tr>\n",
       "  </thead>\n",
       "  <tbody>\n",
       "    <tr>\n",
       "      <td>0</td>\n",
       "      <td>1</td>\n",
       "      <td>4</td>\n",
       "      <td>4</td>\n",
       "      <td>4</td>\n",
       "      <td>4</td>\n",
       "      <td>4</td>\n",
       "      <td>2</td>\n",
       "      <td>4</td>\n",
       "      <td>4</td>\n",
       "      <td>4</td>\n",
       "      <td>...</td>\n",
       "      <td>1</td>\n",
       "      <td>2</td>\n",
       "      <td>1</td>\n",
       "      <td>0</td>\n",
       "      <td>0</td>\n",
       "      <td>1</td>\n",
       "      <td>0</td>\n",
       "      <td>0</td>\n",
       "      <td>0</td>\n",
       "      <td>0</td>\n",
       "    </tr>\n",
       "    <tr>\n",
       "      <td>1</td>\n",
       "      <td>1</td>\n",
       "      <td>3</td>\n",
       "      <td>4</td>\n",
       "      <td>3</td>\n",
       "      <td>4</td>\n",
       "      <td>4</td>\n",
       "      <td>4</td>\n",
       "      <td>4</td>\n",
       "      <td>4</td>\n",
       "      <td>4</td>\n",
       "      <td>...</td>\n",
       "      <td>5</td>\n",
       "      <td>5</td>\n",
       "      <td>5</td>\n",
       "      <td>1</td>\n",
       "      <td>0</td>\n",
       "      <td>0</td>\n",
       "      <td>0</td>\n",
       "      <td>0</td>\n",
       "      <td>0</td>\n",
       "      <td>1</td>\n",
       "    </tr>\n",
       "    <tr>\n",
       "      <td>2</td>\n",
       "      <td>2</td>\n",
       "      <td>4</td>\n",
       "      <td>4</td>\n",
       "      <td>4</td>\n",
       "      <td>4</td>\n",
       "      <td>4</td>\n",
       "      <td>3</td>\n",
       "      <td>4</td>\n",
       "      <td>4</td>\n",
       "      <td>4</td>\n",
       "      <td>...</td>\n",
       "      <td>3</td>\n",
       "      <td>3</td>\n",
       "      <td>2</td>\n",
       "      <td>1</td>\n",
       "      <td>0</td>\n",
       "      <td>0</td>\n",
       "      <td>0</td>\n",
       "      <td>0</td>\n",
       "      <td>0</td>\n",
       "      <td>1</td>\n",
       "    </tr>\n",
       "    <tr>\n",
       "      <td>3</td>\n",
       "      <td>2</td>\n",
       "      <td>4</td>\n",
       "      <td>4</td>\n",
       "      <td>4</td>\n",
       "      <td>3</td>\n",
       "      <td>4</td>\n",
       "      <td>4</td>\n",
       "      <td>4</td>\n",
       "      <td>4</td>\n",
       "      <td>4</td>\n",
       "      <td>...</td>\n",
       "      <td>5</td>\n",
       "      <td>4</td>\n",
       "      <td>4</td>\n",
       "      <td>1</td>\n",
       "      <td>0</td>\n",
       "      <td>0</td>\n",
       "      <td>0</td>\n",
       "      <td>0</td>\n",
       "      <td>0</td>\n",
       "      <td>1</td>\n",
       "    </tr>\n",
       "    <tr>\n",
       "      <td>4</td>\n",
       "      <td>2</td>\n",
       "      <td>4</td>\n",
       "      <td>4</td>\n",
       "      <td>3</td>\n",
       "      <td>4</td>\n",
       "      <td>4</td>\n",
       "      <td>4</td>\n",
       "      <td>4</td>\n",
       "      <td>4</td>\n",
       "      <td>4</td>\n",
       "      <td>...</td>\n",
       "      <td>1</td>\n",
       "      <td>1</td>\n",
       "      <td>1</td>\n",
       "      <td>0</td>\n",
       "      <td>0</td>\n",
       "      <td>1</td>\n",
       "      <td>0</td>\n",
       "      <td>0</td>\n",
       "      <td>0</td>\n",
       "      <td>1</td>\n",
       "    </tr>\n",
       "  </tbody>\n",
       "</table>\n",
       "<p>5 rows × 104 columns</p>\n",
       "</div>"
      ],
      "text/plain": [
       "   SEX  q1s1  q1s2  q1s3  q1s4  q1s5  q1s6  q1s7  q1s8  q1s9  ...  q7s7  q7s8  \\\n",
       "0    1     4     4     4     4     4     2     4     4     4  ...     1     2   \n",
       "1    1     3     4     3     4     4     4     4     4     4  ...     5     5   \n",
       "2    2     4     4     4     4     4     3     4     4     4  ...     3     3   \n",
       "3    2     4     4     4     3     4     4     4     4     4  ...     5     4   \n",
       "4    2     4     4     3     4     4     4     4     4     4  ...     1     1   \n",
       "\n",
       "   q7s9  q8c1  q8c2  q8c3  q8c4  q8c5  q8c6  cluster  \n",
       "0     1     0     0     1     0     0     0        0  \n",
       "1     5     1     0     0     0     0     0        1  \n",
       "2     2     1     0     0     0     0     0        1  \n",
       "3     4     1     0     0     0     0     0        1  \n",
       "4     1     0     0     1     0     0     0        1  \n",
       "\n",
       "[5 rows x 104 columns]"
      ]
     },
     "execution_count": 26,
     "metadata": {},
     "output_type": "execute_result"
    }
   ],
   "source": [
    "# クラスター数を2に設定\n",
    "survey1_clustering = survey1[cols]\n",
    "\n",
    "sc = StandardScaler()\n",
    "survey1_clustering_sc = sc.fit_transform(survey1_clustering)\n",
    "\n",
    "kmeans = KMeans(n_clusters=2, random_state=0)\n",
    "\n",
    "clusters = kmeans.fit(survey1_clustering_sc)\n",
    "\n",
    "survey1_clustering[\"cluster\"] = clusters.labels_\n",
    "\n",
    "print(survey1_clustering[\"cluster\"].unique())\n",
    "\n",
    "survey1_clustering.head()"
   ]
  },
  {
   "cell_type": "code",
   "execution_count": 28,
   "metadata": {},
   "outputs": [],
   "source": [
    "# クラスターごとに分ける\n",
    "\n",
    "cluster0 = survey1_clustering[survey1_clustering[\"cluster\"]==0]\n",
    "cluster0 = cluster0.reset_index(drop=True)\n",
    "cluster1 = survey1_clustering[survey1_clustering[\"cluster\"]==1]\n",
    "cluster1 = cluster1.reset_index(drop=True)"
   ]
  },
  {
   "cell_type": "code",
   "execution_count": 29,
   "metadata": {},
   "outputs": [
    {
     "data": {
      "text/plain": [
       "1.3404255319148937"
      ]
     },
     "execution_count": 29,
     "metadata": {},
     "output_type": "execute_result"
    }
   ],
   "source": [
    "cluster0[\"SEX\"].mean()"
   ]
  },
  {
   "cell_type": "code",
   "execution_count": 30,
   "metadata": {},
   "outputs": [
    {
     "data": {
      "text/plain": [
       "47"
      ]
     },
     "execution_count": 30,
     "metadata": {},
     "output_type": "execute_result"
    }
   ],
   "source": [
    "len(cluster0)"
   ]
  },
  {
   "cell_type": "code",
   "execution_count": 31,
   "metadata": {},
   "outputs": [
    {
     "data": {
      "text/plain": [
       "314"
      ]
     },
     "execution_count": 31,
     "metadata": {},
     "output_type": "execute_result"
    }
   ],
   "source": [
    "len(cluster1)"
   ]
  },
  {
   "cell_type": "code",
   "execution_count": 32,
   "metadata": {},
   "outputs": [
    {
     "name": "stdout",
     "output_type": "stream",
     "text": [
      "31\n"
     ]
    }
   ],
   "source": [
    "print(len(cluster0[cluster0[\"SEX\"]==1]))"
   ]
  },
  {
   "cell_type": "code",
   "execution_count": 33,
   "metadata": {},
   "outputs": [
    {
     "name": "stdout",
     "output_type": "stream",
     "text": [
      "16\n"
     ]
    }
   ],
   "source": [
    "print(len(cluster0[cluster0[\"SEX\"]==2]))"
   ]
  },
  {
   "cell_type": "code",
   "execution_count": 34,
   "metadata": {},
   "outputs": [
    {
     "name": "stdout",
     "output_type": "stream",
     "text": [
      "149\n"
     ]
    }
   ],
   "source": [
    "print(len(cluster1[cluster1[\"SEX\"]==1]))"
   ]
  },
  {
   "cell_type": "code",
   "execution_count": 35,
   "metadata": {},
   "outputs": [
    {
     "name": "stdout",
     "output_type": "stream",
     "text": [
      "165\n"
     ]
    }
   ],
   "source": [
    "print(len(cluster1[cluster1[\"SEX\"]==2]))"
   ]
  },
  {
   "cell_type": "code",
   "execution_count": 37,
   "metadata": {},
   "outputs": [
    {
     "data": {
      "text/plain": [
       "q1s1     3.382979\n",
       "q1s2     3.744681\n",
       "q1s3     3.617021\n",
       "q1s4     3.659574\n",
       "q1s5     3.680851\n",
       "q1s6     3.340426\n",
       "q1s7     3.659574\n",
       "q1s8     3.744681\n",
       "q1s9     3.808511\n",
       "q1s10    3.765957\n",
       "q1s11    3.851064\n",
       "q1s12    3.936170\n",
       "dtype: float64"
      ]
     },
     "execution_count": 37,
     "metadata": {},
     "output_type": "execute_result"
    }
   ],
   "source": [
    "q1_cols = ['q1s1', 'q1s2', 'q1s3', 'q1s4', 'q1s5', 'q1s6', 'q1s7', 'q1s8', 'q1s9', 'q1s10', 'q1s11', 'q1s12']\n",
    "\n",
    "cluster0.loc[:, q1_cols].mean()"
   ]
  },
  {
   "cell_type": "code",
   "execution_count": 38,
   "metadata": {},
   "outputs": [
    {
     "data": {
      "text/plain": [
       "q1s1     3.828025\n",
       "q1s2     3.974522\n",
       "q1s3     3.904459\n",
       "q1s4     3.952229\n",
       "q1s5     3.869427\n",
       "q1s6     3.773885\n",
       "q1s7     3.878981\n",
       "q1s8     3.993631\n",
       "q1s9     3.958599\n",
       "q1s10    3.901274\n",
       "q1s11    3.968153\n",
       "q1s12    3.977707\n",
       "dtype: float64"
      ]
     },
     "execution_count": 38,
     "metadata": {},
     "output_type": "execute_result"
    }
   ],
   "source": [
    "cluster1.loc[:, q1_cols].mean()"
   ]
  },
  {
   "cell_type": "code",
   "execution_count": 39,
   "metadata": {},
   "outputs": [
    {
     "name": "stdout",
     "output_type": "stream",
     "text": [
      "[[3, 2, 16, 26], [2, 0, 6, 39], [1, 3, 9, 34], [1, 1, 11, 34], [1, 2, 8, 36], [2, 6, 13, 26], [1, 1, 11, 34], [2, 1, 4, 40], [1, 2, 2, 42], [1, 1, 6, 39], [1, 0, 4, 42], [1, 0, 0, 46]]\n"
     ]
    }
   ],
   "source": [
    "q1_cnt = [[0,0,0,0] for _ in range(12)]\n",
    "\n",
    "for i in range(12):\n",
    "    for j in range(len(cluster0)):\n",
    "        tmp = cluster0[q1_cols[i]][j]\n",
    "        tmp -= 1\n",
    "        q1_cnt[i][tmp] += 1\n",
    "print(q1_cnt)"
   ]
  },
  {
   "cell_type": "code",
   "execution_count": 42,
   "metadata": {},
   "outputs": [],
   "source": [
    "size = [47,47,47,47]\n",
    "size = np.array(size)\n",
    "hund = [100,100,100,100]\n",
    "hund = np.array(hund)"
   ]
  },
  {
   "cell_type": "code",
   "execution_count": 46,
   "metadata": {},
   "outputs": [
    {
     "name": "stdout",
     "output_type": "stream",
     "text": [
      "q1s1 [ 6.38297872  4.25531915 34.04255319 55.31914894]\n",
      "q1s2 [ 4.25531915  0.         12.76595745 82.9787234 ]\n",
      "q1s3 [ 2.12765957  6.38297872 19.14893617 72.34042553]\n",
      "q1s4 [ 2.12765957  2.12765957 23.40425532 72.34042553]\n",
      "q1s5 [ 2.12765957  4.25531915 17.0212766  76.59574468]\n",
      "q1s6 [ 4.25531915 12.76595745 27.65957447 55.31914894]\n",
      "q1s7 [ 2.12765957  2.12765957 23.40425532 72.34042553]\n",
      "q1s8 [ 4.25531915  2.12765957  8.5106383  85.10638298]\n",
      "q1s9 [ 2.12765957  4.25531915  4.25531915 89.36170213]\n",
      "q1s10 [ 2.12765957  2.12765957 12.76595745 82.9787234 ]\n",
      "q1s11 [ 2.12765957  0.          8.5106383  89.36170213]\n",
      "q1s12 [ 2.12765957  0.          0.         97.87234043]\n"
     ]
    }
   ],
   "source": [
    "for i in range(12):\n",
    "    tmp = q1_cnt[i]\n",
    "    tmp = np.array(tmp)\n",
    "    print(q1_cols[i], tmp/size*hund)"
   ]
  },
  {
   "cell_type": "code",
   "execution_count": 47,
   "metadata": {},
   "outputs": [
    {
     "name": "stdout",
     "output_type": "stream",
     "text": [
      "[[2, 3, 42, 267], [0, 0, 8, 306], [1, 1, 25, 287], [1, 0, 12, 301], [0, 3, 35, 276], [5, 5, 46, 258], [0, 1, 36, 277], [0, 0, 2, 312], [0, 1, 11, 302], [1, 2, 24, 287], [0, 2, 6, 306], [0, 0, 7, 307]]\n"
     ]
    }
   ],
   "source": [
    "q1_cnt = [[0,0,0,0] for _ in range(12)]\n",
    "\n",
    "for i in range(12):\n",
    "    for j in range(len(cluster1)):\n",
    "        tmp = cluster1[q1_cols[i]][j]\n",
    "        tmp -= 1\n",
    "        q1_cnt[i][tmp] += 1\n",
    "print(q1_cnt)"
   ]
  },
  {
   "cell_type": "code",
   "execution_count": 48,
   "metadata": {},
   "outputs": [
    {
     "name": "stdout",
     "output_type": "stream",
     "text": [
      "q1s1 [ 0.63694268  0.95541401 13.37579618 85.03184713]\n",
      "q1s2 [ 0.         0.         2.5477707 97.4522293]\n",
      "q1s3 [ 0.31847134  0.31847134  7.96178344 91.40127389]\n",
      "q1s4 [ 0.31847134  0.          3.82165605 95.85987261]\n",
      "q1s5 [ 0.          0.95541401 11.14649682 87.89808917]\n",
      "q1s6 [ 1.59235669  1.59235669 14.64968153 82.1656051 ]\n",
      "q1s7 [ 0.          0.31847134 11.46496815 88.21656051]\n",
      "q1s8 [ 0.          0.          0.63694268 99.36305732]\n",
      "q1s9 [ 0.          0.31847134  3.50318471 96.17834395]\n",
      "q1s10 [ 0.31847134  0.63694268  7.6433121  91.40127389]\n",
      "q1s11 [ 0.          0.63694268  1.91082803 97.4522293 ]\n",
      "q1s12 [ 0.          0.          2.22929936 97.77070064]\n"
     ]
    }
   ],
   "source": [
    "size = [314,314,314,314]\n",
    "size = np.array(size)\n",
    "hund = [100,100,100,100]\n",
    "hund = np.array(hund)\n",
    "for i in range(12):\n",
    "    tmp = q1_cnt[i]\n",
    "    tmp = np.array(tmp)\n",
    "    print(q1_cols[i], tmp/size*hund)"
   ]
  },
  {
   "cell_type": "code",
   "execution_count": 59,
   "metadata": {},
   "outputs": [
    {
     "name": "stdout",
     "output_type": "stream",
     "text": [
      "[[2, 3, 42, 267], [0, 0, 8, 306], [1, 1, 25, 287], [1, 0, 12, 301], [0, 3, 35, 276], [5, 5, 46, 258], [0, 1, 36, 277], [0, 0, 2, 312], [0, 1, 11, 302], [1, 2, 24, 287], [0, 2, 6, 306], [0, 0, 7, 307]]\n"
     ]
    }
   ],
   "source": [
    "q1_cnt = [[0,0,0,0] for _ in range(12)]\n",
    "c = []\n",
    "for i in range(12):\n",
    "    for j in range(len(cluster1)):\n",
    "        tmp = cluster1[q1_cols[i]][j]\n",
    "        tmp -= 1\n",
    "        q1_cnt[i][tmp] += 1\n",
    "print(q1_cnt)\n",
    "size = [314,314,314,314]\n",
    "size = np.array(size)\n",
    "hund = [100,100,100,100]\n",
    "hund = np.array(hund)\n",
    "for i in range(12):\n",
    "    tmp = q1_cnt[i]\n",
    "    tmp = np.array(tmp)\n",
    "    a = list(tmp/size*hund)\n",
    "    c.append(a)"
   ]
  },
  {
   "cell_type": "code",
   "execution_count": 60,
   "metadata": {},
   "outputs": [],
   "source": [
    "index = [\"gogaku\",\"syumi\",\"boki\", \"writing\",\"ongaku\",\"supo\",\"bunka\",\"igo\",\"bijutu\",\"ryouri\",\"biyou\",\"dansu\"]\n",
    "c = pd.DataFrame(c, columns = [\"3~\",\"2 izenn\", \"yatteta\",\"yattakotonai\"], index = index)"
   ]
  },
  {
   "cell_type": "code",
   "execution_count": 61,
   "metadata": {},
   "outputs": [
    {
     "data": {
      "text/html": [
       "<div>\n",
       "<style scoped>\n",
       "    .dataframe tbody tr th:only-of-type {\n",
       "        vertical-align: middle;\n",
       "    }\n",
       "\n",
       "    .dataframe tbody tr th {\n",
       "        vertical-align: top;\n",
       "    }\n",
       "\n",
       "    .dataframe thead th {\n",
       "        text-align: right;\n",
       "    }\n",
       "</style>\n",
       "<table border=\"1\" class=\"dataframe\">\n",
       "  <thead>\n",
       "    <tr style=\"text-align: right;\">\n",
       "      <th></th>\n",
       "      <th>3~</th>\n",
       "      <th>2 izenn</th>\n",
       "      <th>yatteta</th>\n",
       "      <th>yattakotonai</th>\n",
       "    </tr>\n",
       "  </thead>\n",
       "  <tbody>\n",
       "    <tr>\n",
       "      <td>gogaku</td>\n",
       "      <td>0.636943</td>\n",
       "      <td>0.955414</td>\n",
       "      <td>13.375796</td>\n",
       "      <td>85.031847</td>\n",
       "    </tr>\n",
       "    <tr>\n",
       "      <td>syumi</td>\n",
       "      <td>0.000000</td>\n",
       "      <td>0.000000</td>\n",
       "      <td>2.547771</td>\n",
       "      <td>97.452229</td>\n",
       "    </tr>\n",
       "    <tr>\n",
       "      <td>boki</td>\n",
       "      <td>0.318471</td>\n",
       "      <td>0.318471</td>\n",
       "      <td>7.961783</td>\n",
       "      <td>91.401274</td>\n",
       "    </tr>\n",
       "    <tr>\n",
       "      <td>writing</td>\n",
       "      <td>0.318471</td>\n",
       "      <td>0.000000</td>\n",
       "      <td>3.821656</td>\n",
       "      <td>95.859873</td>\n",
       "    </tr>\n",
       "    <tr>\n",
       "      <td>ongaku</td>\n",
       "      <td>0.000000</td>\n",
       "      <td>0.955414</td>\n",
       "      <td>11.146497</td>\n",
       "      <td>87.898089</td>\n",
       "    </tr>\n",
       "    <tr>\n",
       "      <td>supo</td>\n",
       "      <td>1.592357</td>\n",
       "      <td>1.592357</td>\n",
       "      <td>14.649682</td>\n",
       "      <td>82.165605</td>\n",
       "    </tr>\n",
       "    <tr>\n",
       "      <td>bunka</td>\n",
       "      <td>0.000000</td>\n",
       "      <td>0.318471</td>\n",
       "      <td>11.464968</td>\n",
       "      <td>88.216561</td>\n",
       "    </tr>\n",
       "    <tr>\n",
       "      <td>igo</td>\n",
       "      <td>0.000000</td>\n",
       "      <td>0.000000</td>\n",
       "      <td>0.636943</td>\n",
       "      <td>99.363057</td>\n",
       "    </tr>\n",
       "    <tr>\n",
       "      <td>bijutu</td>\n",
       "      <td>0.000000</td>\n",
       "      <td>0.318471</td>\n",
       "      <td>3.503185</td>\n",
       "      <td>96.178344</td>\n",
       "    </tr>\n",
       "    <tr>\n",
       "      <td>ryouri</td>\n",
       "      <td>0.318471</td>\n",
       "      <td>0.636943</td>\n",
       "      <td>7.643312</td>\n",
       "      <td>91.401274</td>\n",
       "    </tr>\n",
       "    <tr>\n",
       "      <td>biyou</td>\n",
       "      <td>0.000000</td>\n",
       "      <td>0.636943</td>\n",
       "      <td>1.910828</td>\n",
       "      <td>97.452229</td>\n",
       "    </tr>\n",
       "    <tr>\n",
       "      <td>dansu</td>\n",
       "      <td>0.000000</td>\n",
       "      <td>0.000000</td>\n",
       "      <td>2.229299</td>\n",
       "      <td>97.770701</td>\n",
       "    </tr>\n",
       "  </tbody>\n",
       "</table>\n",
       "</div>"
      ],
      "text/plain": [
       "               3~   2 izenn    yatteta  yattakotonai\n",
       "gogaku   0.636943  0.955414  13.375796     85.031847\n",
       "syumi    0.000000  0.000000   2.547771     97.452229\n",
       "boki     0.318471  0.318471   7.961783     91.401274\n",
       "writing  0.318471  0.000000   3.821656     95.859873\n",
       "ongaku   0.000000  0.955414  11.146497     87.898089\n",
       "supo     1.592357  1.592357  14.649682     82.165605\n",
       "bunka    0.000000  0.318471  11.464968     88.216561\n",
       "igo      0.000000  0.000000   0.636943     99.363057\n",
       "bijutu   0.000000  0.318471   3.503185     96.178344\n",
       "ryouri   0.318471  0.636943   7.643312     91.401274\n",
       "biyou    0.000000  0.636943   1.910828     97.452229\n",
       "dansu    0.000000  0.000000   2.229299     97.770701"
      ]
     },
     "execution_count": 61,
     "metadata": {},
     "output_type": "execute_result"
    }
   ],
   "source": [
    "c"
   ]
  },
  {
   "cell_type": "code",
   "execution_count": 62,
   "metadata": {},
   "outputs": [
    {
     "name": "stdout",
     "output_type": "stream",
     "text": [
      "[[3, 2, 16, 26], [2, 0, 6, 39], [1, 3, 9, 34], [1, 1, 11, 34], [1, 2, 8, 36], [2, 6, 13, 26], [1, 1, 11, 34], [2, 1, 4, 40], [1, 2, 2, 42], [1, 1, 6, 39], [1, 0, 4, 42], [1, 0, 0, 46]]\n"
     ]
    }
   ],
   "source": [
    "q1_cnt = [[0,0,0,0] for _ in range(12)]\n",
    "c = []\n",
    "for i in range(12):\n",
    "    for j in range(len(cluster0)):\n",
    "        tmp = cluster0[q1_cols[i]][j]\n",
    "        tmp -= 1\n",
    "        q1_cnt[i][tmp] += 1\n",
    "print(q1_cnt)\n",
    "size = [47,47,47,47]\n",
    "size = np.array(size)\n",
    "hund = [100,100,100,100]\n",
    "hund = np.array(hund)\n",
    "for i in range(12):\n",
    "    tmp = q1_cnt[i]\n",
    "    tmp = np.array(tmp)\n",
    "    a = list(tmp/size*hund)\n",
    "    c.append(a)"
   ]
  },
  {
   "cell_type": "code",
   "execution_count": 63,
   "metadata": {},
   "outputs": [
    {
     "data": {
      "text/html": [
       "<div>\n",
       "<style scoped>\n",
       "    .dataframe tbody tr th:only-of-type {\n",
       "        vertical-align: middle;\n",
       "    }\n",
       "\n",
       "    .dataframe tbody tr th {\n",
       "        vertical-align: top;\n",
       "    }\n",
       "\n",
       "    .dataframe thead th {\n",
       "        text-align: right;\n",
       "    }\n",
       "</style>\n",
       "<table border=\"1\" class=\"dataframe\">\n",
       "  <thead>\n",
       "    <tr style=\"text-align: right;\">\n",
       "      <th></th>\n",
       "      <th>3~</th>\n",
       "      <th>2 izenn</th>\n",
       "      <th>yatteta</th>\n",
       "      <th>yattakotonai</th>\n",
       "    </tr>\n",
       "  </thead>\n",
       "  <tbody>\n",
       "    <tr>\n",
       "      <td>gogaku</td>\n",
       "      <td>6.382979</td>\n",
       "      <td>4.255319</td>\n",
       "      <td>34.042553</td>\n",
       "      <td>55.319149</td>\n",
       "    </tr>\n",
       "    <tr>\n",
       "      <td>syumi</td>\n",
       "      <td>4.255319</td>\n",
       "      <td>0.000000</td>\n",
       "      <td>12.765957</td>\n",
       "      <td>82.978723</td>\n",
       "    </tr>\n",
       "    <tr>\n",
       "      <td>boki</td>\n",
       "      <td>2.127660</td>\n",
       "      <td>6.382979</td>\n",
       "      <td>19.148936</td>\n",
       "      <td>72.340426</td>\n",
       "    </tr>\n",
       "    <tr>\n",
       "      <td>writing</td>\n",
       "      <td>2.127660</td>\n",
       "      <td>2.127660</td>\n",
       "      <td>23.404255</td>\n",
       "      <td>72.340426</td>\n",
       "    </tr>\n",
       "    <tr>\n",
       "      <td>ongaku</td>\n",
       "      <td>2.127660</td>\n",
       "      <td>4.255319</td>\n",
       "      <td>17.021277</td>\n",
       "      <td>76.595745</td>\n",
       "    </tr>\n",
       "    <tr>\n",
       "      <td>supo</td>\n",
       "      <td>4.255319</td>\n",
       "      <td>12.765957</td>\n",
       "      <td>27.659574</td>\n",
       "      <td>55.319149</td>\n",
       "    </tr>\n",
       "    <tr>\n",
       "      <td>bunka</td>\n",
       "      <td>2.127660</td>\n",
       "      <td>2.127660</td>\n",
       "      <td>23.404255</td>\n",
       "      <td>72.340426</td>\n",
       "    </tr>\n",
       "    <tr>\n",
       "      <td>igo</td>\n",
       "      <td>4.255319</td>\n",
       "      <td>2.127660</td>\n",
       "      <td>8.510638</td>\n",
       "      <td>85.106383</td>\n",
       "    </tr>\n",
       "    <tr>\n",
       "      <td>bijutu</td>\n",
       "      <td>2.127660</td>\n",
       "      <td>4.255319</td>\n",
       "      <td>4.255319</td>\n",
       "      <td>89.361702</td>\n",
       "    </tr>\n",
       "    <tr>\n",
       "      <td>ryouri</td>\n",
       "      <td>2.127660</td>\n",
       "      <td>2.127660</td>\n",
       "      <td>12.765957</td>\n",
       "      <td>82.978723</td>\n",
       "    </tr>\n",
       "    <tr>\n",
       "      <td>biyou</td>\n",
       "      <td>2.127660</td>\n",
       "      <td>0.000000</td>\n",
       "      <td>8.510638</td>\n",
       "      <td>89.361702</td>\n",
       "    </tr>\n",
       "    <tr>\n",
       "      <td>dansu</td>\n",
       "      <td>2.127660</td>\n",
       "      <td>0.000000</td>\n",
       "      <td>0.000000</td>\n",
       "      <td>97.872340</td>\n",
       "    </tr>\n",
       "  </tbody>\n",
       "</table>\n",
       "</div>"
      ],
      "text/plain": [
       "               3~    2 izenn    yatteta  yattakotonai\n",
       "gogaku   6.382979   4.255319  34.042553     55.319149\n",
       "syumi    4.255319   0.000000  12.765957     82.978723\n",
       "boki     2.127660   6.382979  19.148936     72.340426\n",
       "writing  2.127660   2.127660  23.404255     72.340426\n",
       "ongaku   2.127660   4.255319  17.021277     76.595745\n",
       "supo     4.255319  12.765957  27.659574     55.319149\n",
       "bunka    2.127660   2.127660  23.404255     72.340426\n",
       "igo      4.255319   2.127660   8.510638     85.106383\n",
       "bijutu   2.127660   4.255319   4.255319     89.361702\n",
       "ryouri   2.127660   2.127660  12.765957     82.978723\n",
       "biyou    2.127660   0.000000   8.510638     89.361702\n",
       "dansu    2.127660   0.000000   0.000000     97.872340"
      ]
     },
     "execution_count": 63,
     "metadata": {},
     "output_type": "execute_result"
    }
   ],
   "source": [
    "index = [\"gogaku\",\"syumi\",\"boki\", \"writing\",\"ongaku\",\"supo\",\"bunka\",\"igo\",\"bijutu\",\"ryouri\",\"biyou\",\"dansu\"]\n",
    "c = pd.DataFrame(c, columns = [\"3~\",\"2 izenn\", \"yatteta\",\"yattakotonai\"], index = index)\n",
    "c"
   ]
  },
  {
   "cell_type": "code",
   "execution_count": 74,
   "metadata": {},
   "outputs": [
    {
     "name": "stdout",
     "output_type": "stream",
     "text": [
      "[24, 20, 10, 4, 4, 14, 16, 15, 2, 10, 15, 18, 16, 3, 12, 20, 21, 15, 3, 7, 25, 14, 7, 3, 10, 29, 11, 3, 2, 7, 23, 10, 6, 2, 11, 21, 15, 4, 1, 12, 23, 13, 8, 2, 11, 28, 11, 4, 2, 8, 17, 10, 2, 2, 18, 17, 7, 2, 1, 21, 7, 7, 3, 2, 29]\n"
     ]
    }
   ],
   "source": [
    "\n",
    "q2_cols = ['q2s1c1', 'q2s1c2', 'q2s1c3', 'q2s1c4', 'q2s1c5', 'q2s2c1', 'q2s2c2', 'q2s2c3', 'q2s2c4', 'q2s2c5', 'q2s3c1', 'q2s3c2', 'q2s3c3', 'q2s3c4', 'q2s3c5', 'q2s4c1', 'q2s4c2', 'q2s4c3', 'q2s4c4', 'q2s4c5', 'q2s5c1', 'q2s5c2', 'q2s5c3', 'q2s5c4', 'q2s5c5', 'q2s6c1', 'q2s6c2', 'q2s6c3', 'q2s6c4', 'q2s6c5', 'q2s7c1', 'q2s7c2', 'q2s7c3', 'q2s7c4', 'q2s7c5', 'q2s8c1', 'q2s8c2', 'q2s8c3', 'q2s8c4', 'q2s8c5', 'q2s9c1', 'q2s9c2', 'q2s9c3', 'q2s9c4', 'q2s9c5', 'q2s10c1', 'q2s10c2', 'q2s10c3', 'q2s10c4', 'q2s10c5', 'q2s11c1', 'q2s11c2', 'q2s11c3', 'q2s11c4', 'q2s11c5', 'q2s12c1', 'q2s12c2', 'q2s12c3', 'q2s12c4', 'q2s12c5', 'q2s13c1', 'q2s13c2', 'q2s13c3', 'q2s13c4', 'q2s13c5']\n",
    "\n",
    "q2_cnt = list(cluster0.loc[:, q2_cols].sum())\n",
    "\n",
    "print(q2_cnt)"
   ]
  },
  {
   "cell_type": "code",
   "execution_count": 75,
   "metadata": {},
   "outputs": [
    {
     "name": "stdout",
     "output_type": "stream",
     "text": [
      "[[24 20 10  4  4]\n",
      " [14 16 15  2 10]\n",
      " [15 18 16  3 12]\n",
      " [20 21 15  3  7]\n",
      " [25 14  7  3 10]\n",
      " [29 11  3  2  7]\n",
      " [23 10  6  2 11]\n",
      " [21 15  4  1 12]\n",
      " [23 13  8  2 11]\n",
      " [28 11  4  2  8]\n",
      " [17 10  2  2 18]\n",
      " [17  7  2  1 21]\n",
      " [ 7  7  3  2 29]]\n"
     ]
    }
   ],
   "source": [
    "q2_cnt = np.array(q2_cnt)\n",
    "q2_cnt.resize(13,5)\n",
    "print(q2_cnt)"
   ]
  },
  {
   "cell_type": "code",
   "execution_count": 69,
   "metadata": {},
   "outputs": [
    {
     "data": {
      "text/plain": [
       "pandas.core.series.Series"
      ]
     },
     "execution_count": 69,
     "metadata": {},
     "output_type": "execute_result"
    }
   ],
   "source": [
    "type(q2_cnt)"
   ]
  },
  {
   "cell_type": "code",
   "execution_count": null,
   "metadata": {},
   "outputs": [],
   "source": []
  }
 ],
 "metadata": {
  "kernelspec": {
   "display_name": "Python 3",
   "language": "python",
   "name": "python3"
  },
  "language_info": {
   "codemirror_mode": {
    "name": "ipython",
    "version": 3
   },
   "file_extension": ".py",
   "mimetype": "text/x-python",
   "name": "python",
   "nbconvert_exporter": "python",
   "pygments_lexer": "ipython3",
   "version": "3.7.4"
  }
 },
 "nbformat": 4,
 "nbformat_minor": 2
}
