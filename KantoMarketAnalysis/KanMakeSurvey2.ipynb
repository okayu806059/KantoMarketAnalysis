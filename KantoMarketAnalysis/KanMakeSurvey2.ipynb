{
 "cells": [
  {
   "cell_type": "code",
   "execution_count": 5,
   "metadata": {},
   "outputs": [],
   "source": [
    "import pandas as pd\n",
    "sur2 = pd.read_csv(\"/Users/yuuki/Raw.csv\")"
   ]
  },
  {
   "cell_type": "code",
   "execution_count": null,
   "metadata": {},
   "outputs": [],
   "source": [
    "yuru = sur2[(sur2[\"q2c2\"]==1) | (sur2[\"q2c3\"]==1) | (sur2[\"q2c4\"]==1) | (sur2[\"q2c5\"]==1) | (sur2[\"q2c7\"]==1) | (sur2[\"q2c8\"]==1) | (sur2[\"q2c9\"]==1) | (sur2[\"q2c10\"]==1)]\n"
   ]
  },
  {
   "cell_type": "code",
   "execution_count": null,
   "metadata": {},
   "outputs": [],
   "source": [
    "yuru.describe()"
   ]
  },
  {
   "cell_type": "code",
   "execution_count": null,
   "metadata": {},
   "outputs": [],
   "source": [
    "yuru = yuru[(yuru[\"q3\"]==4) | (yuru[\"q3\"]==5)]"
   ]
  },
  {
   "cell_type": "code",
   "execution_count": null,
   "metadata": {},
   "outputs": [],
   "source": [
    "yuru = yuru[(yuru[\"q4\"]==5) | (yuru[\"q4\"]==6)]\n",
    "yuru.describe()"
   ]
  },
  {
   "cell_type": "code",
   "execution_count": null,
   "metadata": {},
   "outputs": [],
   "source": [
    "yuru[\"q4\"].describe()"
   ]
  },
  {
   "cell_type": "code",
   "execution_count": null,
   "metadata": {},
   "outputs": [],
   "source": [
    "yuru[\"q3\"].describe()"
   ]
  },
  {
   "cell_type": "code",
   "execution_count": null,
   "metadata": {},
   "outputs": [],
   "source": [
    "yuru = yuru.reset_index(drop = True)"
   ]
  },
  {
   "cell_type": "code",
   "execution_count": null,
   "metadata": {},
   "outputs": [],
   "source": [
    "gati = sur2[(sur2[\"q2c1\"]==1) | (sur2[\"q2c6\"]==1)]"
   ]
  },
  {
   "cell_type": "code",
   "execution_count": null,
   "metadata": {},
   "outputs": [],
   "source": [
    "gati = gati[(gati[\"q2c2\"]==0) & (gati[\"q2c3\"]==0) & (gati[\"q2c4\"]==0) & (gati[\"q2c5\"]==0) & (gati[\"q2c7\"]==0) & (gati[\"q2c8\"]==0) & (gati[\"q2c9\"]==0) & (gati[\"q2c10\"]==0) ]"
   ]
  },
  {
   "cell_type": "code",
   "execution_count": null,
   "metadata": {},
   "outputs": [],
   "source": [
    "gati = gati[(gati[\"q3\"]==1) | (gati[\"q3\"]==2) | (gati[\"q3\"]==3)]"
   ]
  },
  {
   "cell_type": "code",
   "execution_count": null,
   "metadata": {},
   "outputs": [],
   "source": [
    "gati = gati[(gati[\"q4\"]==1) | (gati[\"q4\"]==2) | (gati[\"q4\"]==3) | (gati[\"q4\"]==4)]"
   ]
  },
  {
   "cell_type": "code",
   "execution_count": null,
   "metadata": {},
   "outputs": [],
   "source": [
    "gati.describe()"
   ]
  },
  {
   "cell_type": "code",
   "execution_count": null,
   "metadata": {},
   "outputs": [],
   "source": [
    "# スコアを変換する\n",
    "# ”ゆる”とそれ以外\n",
    "# 質より料金が大事\n",
    "import numpy as np\n",
    "cnt_q5s11 = [0,0,0,0,0]\n",
    "for i in range(len(yuru)):\n",
    "    tmp = yuru[\"q5s11\"][i]\n",
    "    tmp -= 1\n",
    "    cnt_q5s11[tmp] += 1\n",
    "cnt_q5s11 = np.array(cnt_q5s11)\n",
    "cnt_q5s11"
   ]
  },
  {
   "cell_type": "code",
   "execution_count": null,
   "metadata": {},
   "outputs": [],
   "source": [
    "score = np.array([5,4,3,2,1])\n",
    "ans = sum(cnt_q5s11*score)\n",
    "ans /= 22\n",
    "print(\"ゆる層で、質より料金：　\" + str(ans))\n",
    "answer = []\n",
    "answer.append(ans)"
   ]
  },
  {
   "cell_type": "code",
   "execution_count": null,
   "metadata": {},
   "outputs": [],
   "source": [
    "Allcnt_q5s11 = [0,0,0,0,0]\n",
    "for i in range(len(sur2)):\n",
    "    tmp = sur2[\"q5s11\"][i]\n",
    "    tmp -= 1\n",
    "    Allcnt_q5s11[tmp] += 1\n",
    "Allcnt_q5s11 = np.array(Allcnt_q5s11)"
   ]
  },
  {
   "cell_type": "code",
   "execution_count": null,
   "metadata": {},
   "outputs": [],
   "source": [
    "Sacnt_q5s11 = Allcnt_q5s11 - cnt_q5s11\n",
    "Sacnt_q5s11"
   ]
  },
  {
   "cell_type": "code",
   "execution_count": null,
   "metadata": {},
   "outputs": [],
   "source": [
    "ans = sum(Sacnt_q5s11*score)\n",
    "ans /= sum(Sacnt_q5s11)\n",
    "print(ans)\n",
    "answer.append(ans)"
   ]
  },
  {
   "cell_type": "code",
   "execution_count": null,
   "metadata": {},
   "outputs": [],
   "source": [
    "print(\"ゆる層以外で、質より料金：　\" + str(ans))"
   ]
  },
  {
   "cell_type": "code",
   "execution_count": null,
   "metadata": {},
   "outputs": [],
   "source": [
    "# 好きな時間に学びたい\n",
    "# q5s3\n",
    "cnt_q5s3 = [0,0,0,0,0]\n",
    "for i in range(len(yuru)):\n",
    "    tmp = yuru[\"q5s3\"][i]\n",
    "    tmp -= 1\n",
    "    cnt_q5s3[tmp] += 1\n",
    "cnt_q5s3= np.array(cnt_q5s3)\n",
    "cnt_q5s3"
   ]
  },
  {
   "cell_type": "code",
   "execution_count": null,
   "metadata": {},
   "outputs": [],
   "source": [
    "ans = sum(cnt_q5s3*score)\n",
    "ans /= 22\n",
    "print(\"ゆる層で、好きな時間に学びたい：　\" + str(ans))"
   ]
  },
  {
   "cell_type": "code",
   "execution_count": null,
   "metadata": {},
   "outputs": [],
   "source": [
    "answer.append(ans)"
   ]
  },
  {
   "cell_type": "code",
   "execution_count": null,
   "metadata": {},
   "outputs": [],
   "source": [
    "answer"
   ]
  },
  {
   "cell_type": "code",
   "execution_count": null,
   "metadata": {},
   "outputs": [],
   "source": [
    "Allcnt_q5s3 = [0,0,0,0,0]\n",
    "for i in range(len(sur2)):\n",
    "    tmp = sur2[\"q5s3\"][i]\n",
    "    tmp -= 1\n",
    "    Allcnt_q5s3[tmp] += 1\n",
    "Allcnt_q5s3 = np.array(Allcnt_q5s3)\n",
    "Sacnt_q5s3 = Allcnt_q5s3 - cnt_q5s3\n",
    "print(Sacnt_q5s3)\n",
    "ans = sum(Sacnt_q5s3*score)\n",
    "ans /= sum(Sacnt_q5s3)\n",
    "print(ans)\n"
   ]
  },
  {
   "cell_type": "code",
   "execution_count": null,
   "metadata": {},
   "outputs": [],
   "source": [
    "test = 82*5 + 105*4 + 46*3 + 9*2 + 5\n",
    "test /= 247\n",
    "print(test)\n",
    "\n",
    "answer"
   ]
  },
  {
   "cell_type": "code",
   "execution_count": null,
   "metadata": {},
   "outputs": [],
   "source": [
    "# 課題を与えられるよりも、自由に話したい\n",
    "# q5s6\n",
    "cnt_q5s6= [0,0,0,0,0]\n",
    "for i in range(len(yuru)):\n",
    "    tmp = yuru[\"q5s6\"][i]\n",
    "    tmp -= 1\n",
    "    cnt_q5s6[tmp] += 1\n",
    "cnt_q5s6= np.array(cnt_q5s6)\n",
    "print(cnt_q5s6)\n",
    "ans = sum(cnt_q5s6*score)\n",
    "ans /= 22\n",
    "print(\"ゆる層で、自由に話したい：　\" + str(ans))"
   ]
  },
  {
   "cell_type": "code",
   "execution_count": null,
   "metadata": {},
   "outputs": [],
   "source": [
    "answer.append(ans)"
   ]
  },
  {
   "cell_type": "code",
   "execution_count": null,
   "metadata": {},
   "outputs": [],
   "source": [
    "Allcnt_q5s6 = [0,0,0,0,0]\n",
    "for i in range(len(sur2)):\n",
    "    tmp = sur2[\"q5s6\"][i]\n",
    "    tmp -= 1\n",
    "    Allcnt_q5s6[tmp] += 1\n",
    "Allcnt_q5s6 = np.array(Allcnt_q5s6)\n",
    "Sacnt_q5s6 = Allcnt_q5s6 - cnt_q5s6\n",
    "print(Sacnt_q5s6)\n",
    "ans = sum(Sacnt_q5s6*score)\n",
    "ans /= sum(Sacnt_q5s6)\n",
    "print(ans)\n"
   ]
  },
  {
   "cell_type": "code",
   "execution_count": null,
   "metadata": {},
   "outputs": [],
   "source": [
    "answer.append(ans)"
   ]
  },
  {
   "cell_type": "code",
   "execution_count": null,
   "metadata": {},
   "outputs": [],
   "source": [
    "# レベルに合わせて欲しい\n",
    "# q5s10\n",
    "cnt_q5s10= [0,0,0,0,0]\n",
    "for i in range(len(yuru)):\n",
    "    tmp = yuru[\"q5s10\"][i]\n",
    "    tmp -= 1\n",
    "    cnt_q5s10[tmp] += 1\n",
    "cnt_q5s10= np.array(cnt_q5s10)\n",
    "print(cnt_q5s10)\n",
    "ans = sum(cnt_q5s10*score)\n",
    "ans /= 22\n",
    "print(ans)"
   ]
  },
  {
   "cell_type": "code",
   "execution_count": null,
   "metadata": {},
   "outputs": [],
   "source": [
    "answer.append(ans)"
   ]
  },
  {
   "cell_type": "code",
   "execution_count": null,
   "metadata": {},
   "outputs": [],
   "source": [
    "Allcnt_q5s10 = [0,0,0,0,0]\n",
    "for i in range(len(sur2)):\n",
    "    tmp = sur2[\"q5s10\"][i]\n",
    "    tmp -= 1\n",
    "    Allcnt_q5s10[tmp] += 1\n",
    "Allcnt_q5s10 = np.array(Allcnt_q5s10)\n",
    "Sacnt_q5s10 = Allcnt_q5s10 - cnt_q5s10\n",
    "print(Sacnt_q5s10)\n",
    "ans = sum(Sacnt_q5s10*score)\n",
    "ans /= sum(Sacnt_q5s10)\n",
    "print(ans)\n"
   ]
  },
  {
   "cell_type": "code",
   "execution_count": null,
   "metadata": {},
   "outputs": [],
   "source": [
    "answer.append(ans)"
   ]
  },
  {
   "cell_type": "code",
   "execution_count": null,
   "metadata": {},
   "outputs": [],
   "source": [
    "# 趣味について語りたい\n",
    "# q5s8\n",
    "cnt_q5s8= [0,0,0,0,0]\n",
    "for i in range(len(yuru)):\n",
    "    tmp = yuru[\"q5s8\"][i]\n",
    "    tmp -= 1\n",
    "    cnt_q5s8[tmp] += 1\n",
    "cnt_q5s8= np.array(cnt_q5s8)\n",
    "print(cnt_q5s8)\n",
    "ans = sum(cnt_q5s8*score)\n",
    "ans /= 22\n",
    "print(ans)\n",
    "answer.append(ans)"
   ]
  },
  {
   "cell_type": "code",
   "execution_count": null,
   "metadata": {},
   "outputs": [],
   "source": [
    "Allcnt_q5s8 = [0,0,0,0,0]\n",
    "for i in range(len(sur2)):\n",
    "    tmp = sur2[\"q5s8\"][i]\n",
    "    tmp -= 1\n",
    "    Allcnt_q5s8[tmp] += 1\n",
    "Allcnt_q5s8 = np.array(Allcnt_q5s8)\n",
    "Sacnt_q5s8 = Allcnt_q5s8 - cnt_q5s8\n",
    "print(Sacnt_q5s8)\n",
    "ans = sum(Sacnt_q5s8*score)\n",
    "ans /= sum(Sacnt_q5s8)\n",
    "print(ans)\n",
    "answer.append(ans)"
   ]
  },
  {
   "cell_type": "code",
   "execution_count": null,
   "metadata": {},
   "outputs": [],
   "source": [
    "# 専門資格を持つ講師から学びたい\n",
    "# q5s14\n",
    "cnt_q5s14= [0,0,0,0,0]\n",
    "for i in range(len(yuru)):\n",
    "    tmp = yuru[\"q5s14\"][i]\n",
    "    tmp -= 1\n",
    "    cnt_q5s14[tmp] += 1\n",
    "cnt_q5s14= np.array(cnt_q5s14)\n",
    "print(cnt_q5s14)\n",
    "ans = sum(cnt_q5s14*score)\n",
    "ans /= 22\n",
    "print(ans)\n",
    "answer.append(ans)"
   ]
  },
  {
   "cell_type": "code",
   "execution_count": null,
   "metadata": {},
   "outputs": [],
   "source": [
    "Allcnt_q5s14 = [0,0,0,0,0]\n",
    "for i in range(len(sur2)):\n",
    "    tmp = sur2[\"q5s14\"][i]\n",
    "    tmp -= 1\n",
    "    Allcnt_q5s14[tmp] += 1\n",
    "Allcnt_q5s14 = np.array(Allcnt_q5s14)\n",
    "Sacnt_q5s14 = Allcnt_q5s14 - cnt_q5s14\n",
    "print(Sacnt_q5s14)\n",
    "ans = sum(Sacnt_q5s14*score)\n",
    "ans /= sum(Sacnt_q5s14)\n",
    "print(ans)\n",
    "answer.append(ans)"
   ]
  },
  {
   "cell_type": "code",
   "execution_count": null,
   "metadata": {},
   "outputs": [],
   "source": [
    "labels = [\"ゆる層で、質より料金が大事：　\", \"ゆる層以外で、質より料金が大事：　\", \"ゆる層で、好きな時間に学びたい：　\", \"ゆる層以外で、好きな時間に学びたい：　\",\n",
    "          \"ゆる層で、自由に話したい：　\",\"ゆる層以外で、自由に話したい：　\",\"ゆる層で、レベルに合わせて欲しい：　\",\"ゆる層以外で、レベルに合わせて欲しい：　\",\n",
    "          \"ゆる層で、趣味について語りたい：　\",\"ゆる層以外で、趣味について語りたい：　\",\"ゆる層で、専門資格を持つ講師から学びたい：　\",\"ゆる層以外で、専門資格を持つ講師から学びたい：　\"]"
   ]
  },
  {
   "cell_type": "code",
   "execution_count": null,
   "metadata": {},
   "outputs": [],
   "source": [
    "for i in range(12):\n",
    "    print(labels[i] + \": \" + str(answer[i]) + \"\\n\")"
   ]
  },
  {
   "cell_type": "markdown",
   "metadata": {},
   "source": [
    "### 一応の結果は出たので、検定に入る\n",
    "### ゆる層とそうでない層で、平均値に差があるかを検定する"
   ]
  },
  {
   "cell_type": "code",
   "execution_count": null,
   "metadata": {},
   "outputs": [],
   "source": [
    "import scipy \n",
    "import matplotlib.pyplot as plt\n",
    "import statistics as stat"
   ]
  },
  {
   "cell_type": "code",
   "execution_count": null,
   "metadata": {},
   "outputs": [],
   "source": [
    "yuru2 = sur2[(sur2[\"q2c2\"]==1) | (sur2[\"q2c3\"]==1) | (sur2[\"q2c4\"]==1) | (sur2[\"q2c5\"]==1) | (sur2[\"q2c7\"]==1) | (sur2[\"q2c8\"]==1) | (sur2[\"q2c9\"]==1) | (sur2[\"q2c10\"]==1)]\n",
    "yuru2 = yuru2[(yuru2[\"q3\"]==4) | (yuru2[\"q3\"]==5)]\n",
    "yuru2 = yuru2[(yuru2[\"q4\"]==5) | (yuru2[\"q4\"]==6)]\n"
   ]
  },
  {
   "cell_type": "code",
   "execution_count": null,
   "metadata": {},
   "outputs": [],
   "source": [
    "drop_index = yuru2.index"
   ]
  },
  {
   "cell_type": "code",
   "execution_count": null,
   "metadata": {},
   "outputs": [],
   "source": [
    "drop_index"
   ]
  },
  {
   "cell_type": "code",
   "execution_count": null,
   "metadata": {},
   "outputs": [],
   "source": [
    "len(drop_index)"
   ]
  },
  {
   "cell_type": "code",
   "execution_count": null,
   "metadata": {},
   "outputs": [],
   "source": [
    "notYuru = sur2.drop(drop_index)"
   ]
  },
  {
   "cell_type": "code",
   "execution_count": null,
   "metadata": {},
   "outputs": [],
   "source": [
    "notYuru"
   ]
  },
  {
   "cell_type": "code",
   "execution_count": null,
   "metadata": {},
   "outputs": [],
   "source": [
    "notYuru = notYuru.reset_index()\n",
    "test = [0,0,0,0,0]\n",
    "for i in range(247):\n",
    "    tmp = notYuru[\"q5s11\"][i]\n",
    "    tmp -= 1\n",
    "    test[tmp] += 1\n",
    "test = np.array(test)\n",
    "check = sum(test*score)\n",
    "check /= 247\n",
    "print(check)"
   ]
  },
  {
   "cell_type": "code",
   "execution_count": null,
   "metadata": {},
   "outputs": [],
   "source": [
    "ikinuki = sur2[sur2[\"q2c9\"]==1]"
   ]
  },
  {
   "cell_type": "code",
   "execution_count": null,
   "metadata": {},
   "outputs": [],
   "source": [
    "len(ikinuki)"
   ]
  },
  {
   "cell_type": "code",
   "execution_count": null,
   "metadata": {},
   "outputs": [],
   "source": [
    "ikinuki = ikinuki.reset_index(drop=True)\n",
    "cnt = [0,0,0,0,0]\n",
    "import numpy as np\n",
    "for i in range(len(ikinuki)):\n",
    "    tmp = ikinuki[\"q6\"][i]\n",
    "    tmp -= 1\n",
    "    cnt[tmp] += 1\n",
    "cnt = np.array(cnt)\n",
    "print(cnt)"
   ]
  },
  {
   "cell_type": "code",
   "execution_count": null,
   "metadata": {},
   "outputs": [],
   "source": [
    "score = [5,4,3,2,1]\n",
    "score = np.array(score)\n",
    "res = sum(cnt*score)\n",
    "res /= 35"
   ]
  },
  {
   "cell_type": "code",
   "execution_count": null,
   "metadata": {},
   "outputs": [],
   "source": [
    "print(res)"
   ]
  },
  {
   "cell_type": "code",
   "execution_count": null,
   "metadata": {},
   "outputs": [],
   "source": [
    "cnt = [0,0,0,0,0]\n",
    "\n",
    "for i in range(len(sur2)):\n",
    "    tmp = sur2[\"q6\"][i]\n",
    "    tmp -= 1\n",
    "    cnt[tmp] += 1\n",
    "    \n",
    "cnt = np.array(cnt)\n",
    "print(cnt)"
   ]
  },
  {
   "cell_type": "code",
   "execution_count": null,
   "metadata": {},
   "outputs": [],
   "source": [
    "score = [5,4,3,2,1]\n",
    "score = np.array(score)\n",
    "res = sum(cnt*score)\n",
    "res /= len(sur2)"
   ]
  },
  {
   "cell_type": "code",
   "execution_count": null,
   "metadata": {},
   "outputs": [],
   "source": [
    "print(res)"
   ]
  },
  {
   "cell_type": "code",
   "execution_count": null,
   "metadata": {},
   "outputs": [],
   "source": [
    "cnt = 0\n",
    "\n",
    "cols = sur2.columns[8:]\n",
    "print(cols)"
   ]
  },
  {
   "cell_type": "code",
   "execution_count": null,
   "metadata": {},
   "outputs": [],
   "source": [
    "sur2 = sur2.reset_index(drop = True)\n",
    "\n",
    "for i in range(len(sur2)):\n",
    "    oya =[]\n",
    "    for col in cols:\n",
    "        oya.append(sur2[col][i])\n",
    "    for j in range(i+1,len(sur2)):\n",
    "        ko = []\n",
    "        for col in cols:\n",
    "            ko.append(sur2[col][j])\n",
    "        flg = 1\n",
    "        for k in range(38):\n",
    "            if (oya[k]!=ko[k]): flg = 0\n",
    "        if (flg == 1): cnt += 1\n",
    "            \n",
    "print(cnt)"
   ]
  },
  {
   "cell_type": "code",
   "execution_count": null,
   "metadata": {},
   "outputs": [],
   "source": [
    "print(len(sur2))"
   ]
  },
  {
   "cell_type": "code",
   "execution_count": null,
   "metadata": {},
   "outputs": [],
   "source": [
    "#  クラスタリング"
   ]
  },
  {
   "cell_type": "code",
   "execution_count": 6,
   "metadata": {},
   "outputs": [
    {
     "ename": "KeyError",
     "evalue": "\"None of [Index(['q1s1', 'q1s2', 'q1s3', 'q1s4', 'q1s5', 'q1s6', 'q1s7', 'q1s8', 'q1s9',\\n       'q1s10', 'q2c1', 'q2c2', 'q2c3', 'q2c4', 'q2c5', 'q2c6', 'q2c7', 'q2c8',\\n       'q2c9', 'q2c10', 'q3', 'q4', 'q5s1', 'q5s2', 'q5s3', 'q5s4', 'q5s5',\\n       'q5s6', 'q5s7', 'q5s8', 'q5s9', 'q5s10', 'q5s11', 'q5s12', 'q5s13',\\n       'q5s14', 'q5s15', 'q6'],\\n      dtype='object')] are in the [columns]\"",
     "output_type": "error",
     "traceback": [
      "\u001b[0;31m---------------------------------------------------------------------------\u001b[0m",
      "\u001b[0;31mKeyError\u001b[0m                                  Traceback (most recent call last)",
      "\u001b[0;32m<ipython-input-6-141d96569a00>\u001b[0m in \u001b[0;36m<module>\u001b[0;34m\u001b[0m\n\u001b[1;32m      7\u001b[0m        \u001b[0;34m'q2c9'\u001b[0m\u001b[0;34m,\u001b[0m \u001b[0;34m'q2c10'\u001b[0m\u001b[0;34m,\u001b[0m \u001b[0;34m'q3'\u001b[0m\u001b[0;34m,\u001b[0m \u001b[0;34m'q4'\u001b[0m\u001b[0;34m,\u001b[0m \u001b[0;34m'q5s1'\u001b[0m\u001b[0;34m,\u001b[0m \u001b[0;34m'q5s2'\u001b[0m\u001b[0;34m,\u001b[0m \u001b[0;34m'q5s3'\u001b[0m\u001b[0;34m,\u001b[0m \u001b[0;34m'q5s4'\u001b[0m\u001b[0;34m,\u001b[0m \u001b[0;34m'q5s5'\u001b[0m\u001b[0;34m,\u001b[0m\u001b[0;34m\u001b[0m\u001b[0;34m\u001b[0m\u001b[0m\n\u001b[1;32m      8\u001b[0m        \u001b[0;34m'q5s6'\u001b[0m\u001b[0;34m,\u001b[0m \u001b[0;34m'q5s7'\u001b[0m\u001b[0;34m,\u001b[0m \u001b[0;34m'q5s8'\u001b[0m\u001b[0;34m,\u001b[0m \u001b[0;34m'q5s9'\u001b[0m\u001b[0;34m,\u001b[0m \u001b[0;34m'q5s10'\u001b[0m\u001b[0;34m,\u001b[0m \u001b[0;34m'q5s11'\u001b[0m\u001b[0;34m,\u001b[0m \u001b[0;34m'q5s12'\u001b[0m\u001b[0;34m,\u001b[0m \u001b[0;34m'q5s13'\u001b[0m\u001b[0;34m,\u001b[0m\u001b[0;34m\u001b[0m\u001b[0;34m\u001b[0m\u001b[0m\n\u001b[0;32m----> 9\u001b[0;31m        'q5s14', 'q5s15', 'q6']])\n\u001b[0m\u001b[1;32m     10\u001b[0m \u001b[0;34m\u001b[0m\u001b[0m\n\u001b[1;32m     11\u001b[0m \u001b[0mkmeans\u001b[0m \u001b[0;34m=\u001b[0m \u001b[0mKMeans\u001b[0m\u001b[0;34m(\u001b[0m\u001b[0mn_clusters\u001b[0m\u001b[0;34m=\u001b[0m\u001b[0;36m4\u001b[0m\u001b[0;34m,\u001b[0m \u001b[0mrandom_state\u001b[0m\u001b[0;34m=\u001b[0m\u001b[0;36m0\u001b[0m\u001b[0;34m)\u001b[0m\u001b[0;34m\u001b[0m\u001b[0;34m\u001b[0m\u001b[0m\n",
      "\u001b[0;32m~/opt/anaconda3/lib/python3.7/site-packages/pandas/core/frame.py\u001b[0m in \u001b[0;36m__getitem__\u001b[0;34m(self, key)\u001b[0m\n\u001b[1;32m   2984\u001b[0m             \u001b[0;32mif\u001b[0m \u001b[0mis_iterator\u001b[0m\u001b[0;34m(\u001b[0m\u001b[0mkey\u001b[0m\u001b[0;34m)\u001b[0m\u001b[0;34m:\u001b[0m\u001b[0;34m\u001b[0m\u001b[0;34m\u001b[0m\u001b[0m\n\u001b[1;32m   2985\u001b[0m                 \u001b[0mkey\u001b[0m \u001b[0;34m=\u001b[0m \u001b[0mlist\u001b[0m\u001b[0;34m(\u001b[0m\u001b[0mkey\u001b[0m\u001b[0;34m)\u001b[0m\u001b[0;34m\u001b[0m\u001b[0;34m\u001b[0m\u001b[0m\n\u001b[0;32m-> 2986\u001b[0;31m             \u001b[0mindexer\u001b[0m \u001b[0;34m=\u001b[0m \u001b[0mself\u001b[0m\u001b[0;34m.\u001b[0m\u001b[0mloc\u001b[0m\u001b[0;34m.\u001b[0m\u001b[0m_convert_to_indexer\u001b[0m\u001b[0;34m(\u001b[0m\u001b[0mkey\u001b[0m\u001b[0;34m,\u001b[0m \u001b[0maxis\u001b[0m\u001b[0;34m=\u001b[0m\u001b[0;36m1\u001b[0m\u001b[0;34m,\u001b[0m \u001b[0mraise_missing\u001b[0m\u001b[0;34m=\u001b[0m\u001b[0;32mTrue\u001b[0m\u001b[0;34m)\u001b[0m\u001b[0;34m\u001b[0m\u001b[0;34m\u001b[0m\u001b[0m\n\u001b[0m\u001b[1;32m   2987\u001b[0m \u001b[0;34m\u001b[0m\u001b[0m\n\u001b[1;32m   2988\u001b[0m         \u001b[0;31m# take() does not accept boolean indexers\u001b[0m\u001b[0;34m\u001b[0m\u001b[0;34m\u001b[0m\u001b[0;34m\u001b[0m\u001b[0m\n",
      "\u001b[0;32m~/opt/anaconda3/lib/python3.7/site-packages/pandas/core/indexing.py\u001b[0m in \u001b[0;36m_convert_to_indexer\u001b[0;34m(self, obj, axis, is_setter, raise_missing)\u001b[0m\n\u001b[1;32m   1283\u001b[0m                 \u001b[0;31m# When setting, missing keys are not allowed, even with .loc:\u001b[0m\u001b[0;34m\u001b[0m\u001b[0;34m\u001b[0m\u001b[0;34m\u001b[0m\u001b[0m\n\u001b[1;32m   1284\u001b[0m                 \u001b[0mkwargs\u001b[0m \u001b[0;34m=\u001b[0m \u001b[0;34m{\u001b[0m\u001b[0;34m\"raise_missing\"\u001b[0m\u001b[0;34m:\u001b[0m \u001b[0;32mTrue\u001b[0m \u001b[0;32mif\u001b[0m \u001b[0mis_setter\u001b[0m \u001b[0;32melse\u001b[0m \u001b[0mraise_missing\u001b[0m\u001b[0;34m}\u001b[0m\u001b[0;34m\u001b[0m\u001b[0;34m\u001b[0m\u001b[0m\n\u001b[0;32m-> 1285\u001b[0;31m                 \u001b[0;32mreturn\u001b[0m \u001b[0mself\u001b[0m\u001b[0;34m.\u001b[0m\u001b[0m_get_listlike_indexer\u001b[0m\u001b[0;34m(\u001b[0m\u001b[0mobj\u001b[0m\u001b[0;34m,\u001b[0m \u001b[0maxis\u001b[0m\u001b[0;34m,\u001b[0m \u001b[0;34m**\u001b[0m\u001b[0mkwargs\u001b[0m\u001b[0;34m)\u001b[0m\u001b[0;34m[\u001b[0m\u001b[0;36m1\u001b[0m\u001b[0;34m]\u001b[0m\u001b[0;34m\u001b[0m\u001b[0;34m\u001b[0m\u001b[0m\n\u001b[0m\u001b[1;32m   1286\u001b[0m         \u001b[0;32melse\u001b[0m\u001b[0;34m:\u001b[0m\u001b[0;34m\u001b[0m\u001b[0;34m\u001b[0m\u001b[0m\n\u001b[1;32m   1287\u001b[0m             \u001b[0;32mtry\u001b[0m\u001b[0;34m:\u001b[0m\u001b[0;34m\u001b[0m\u001b[0;34m\u001b[0m\u001b[0m\n",
      "\u001b[0;32m~/opt/anaconda3/lib/python3.7/site-packages/pandas/core/indexing.py\u001b[0m in \u001b[0;36m_get_listlike_indexer\u001b[0;34m(self, key, axis, raise_missing)\u001b[0m\n\u001b[1;32m   1090\u001b[0m \u001b[0;34m\u001b[0m\u001b[0m\n\u001b[1;32m   1091\u001b[0m         self._validate_read_indexer(\n\u001b[0;32m-> 1092\u001b[0;31m             \u001b[0mkeyarr\u001b[0m\u001b[0;34m,\u001b[0m \u001b[0mindexer\u001b[0m\u001b[0;34m,\u001b[0m \u001b[0mo\u001b[0m\u001b[0;34m.\u001b[0m\u001b[0m_get_axis_number\u001b[0m\u001b[0;34m(\u001b[0m\u001b[0maxis\u001b[0m\u001b[0;34m)\u001b[0m\u001b[0;34m,\u001b[0m \u001b[0mraise_missing\u001b[0m\u001b[0;34m=\u001b[0m\u001b[0mraise_missing\u001b[0m\u001b[0;34m\u001b[0m\u001b[0;34m\u001b[0m\u001b[0m\n\u001b[0m\u001b[1;32m   1093\u001b[0m         )\n\u001b[1;32m   1094\u001b[0m         \u001b[0;32mreturn\u001b[0m \u001b[0mkeyarr\u001b[0m\u001b[0;34m,\u001b[0m \u001b[0mindexer\u001b[0m\u001b[0;34m\u001b[0m\u001b[0;34m\u001b[0m\u001b[0m\n",
      "\u001b[0;32m~/opt/anaconda3/lib/python3.7/site-packages/pandas/core/indexing.py\u001b[0m in \u001b[0;36m_validate_read_indexer\u001b[0;34m(self, key, indexer, axis, raise_missing)\u001b[0m\n\u001b[1;32m   1175\u001b[0m                 raise KeyError(\n\u001b[1;32m   1176\u001b[0m                     \"None of [{key}] are in the [{axis}]\".format(\n\u001b[0;32m-> 1177\u001b[0;31m                         \u001b[0mkey\u001b[0m\u001b[0;34m=\u001b[0m\u001b[0mkey\u001b[0m\u001b[0;34m,\u001b[0m \u001b[0maxis\u001b[0m\u001b[0;34m=\u001b[0m\u001b[0mself\u001b[0m\u001b[0;34m.\u001b[0m\u001b[0mobj\u001b[0m\u001b[0;34m.\u001b[0m\u001b[0m_get_axis_name\u001b[0m\u001b[0;34m(\u001b[0m\u001b[0maxis\u001b[0m\u001b[0;34m)\u001b[0m\u001b[0;34m\u001b[0m\u001b[0;34m\u001b[0m\u001b[0m\n\u001b[0m\u001b[1;32m   1178\u001b[0m                     )\n\u001b[1;32m   1179\u001b[0m                 )\n",
      "\u001b[0;31mKeyError\u001b[0m: \"None of [Index(['q1s1', 'q1s2', 'q1s3', 'q1s4', 'q1s5', 'q1s6', 'q1s7', 'q1s8', 'q1s9',\\n       'q1s10', 'q2c1', 'q2c2', 'q2c3', 'q2c4', 'q2c5', 'q2c6', 'q2c7', 'q2c8',\\n       'q2c9', 'q2c10', 'q3', 'q4', 'q5s1', 'q5s2', 'q5s3', 'q5s4', 'q5s5',\\n       'q5s6', 'q5s7', 'q5s8', 'q5s9', 'q5s10', 'q5s11', 'q5s12', 'q5s13',\\n       'q5s14', 'q5s15', 'q6'],\\n      dtype='object')] are in the [columns]\""
     ]
    }
   ],
   "source": [
    "from sklearn.cluster import KMeans\n",
    "from sklearn.preprocessing import StandardScaler\n",
    "sc = StandardScaler()\n",
    "\n",
    "sur_clustering = sc.fit_transform(sur2[['q1s1', 'q1s2', 'q1s3', 'q1s4', 'q1s5', 'q1s6', 'q1s7', 'q1s8', 'q1s9',\n",
    "       'q1s10', 'q2c1', 'q2c2', 'q2c3', 'q2c4', 'q2c5', 'q2c6', 'q2c7', 'q2c8',\n",
    "       'q2c9', 'q2c10', 'q3', 'q4', 'q5s1', 'q5s2', 'q5s3', 'q5s4', 'q5s5',\n",
    "       'q5s6', 'q5s7', 'q5s8', 'q5s9', 'q5s10', 'q5s11', 'q5s12', 'q5s13',\n",
    "       'q5s14', 'q5s15', 'q6']])\n",
    "\n",
    "kmeans = KMeans(n_clusters=4, random_state=0)\n",
    "\n",
    "clusters = kmeans.fit(sur_clustering)\n",
    "\n",
    "sur2[\"cluster\"] = clusters.labels_\n",
    "\n",
    "print(sur2[\"cluster\"].unique())\n",
    "\n",
    "sur2.head()"
   ]
  },
  {
   "cell_type": "code",
   "execution_count": null,
   "metadata": {},
   "outputs": [],
   "source": [
    "sur2.groupby(\"cluster\").count()"
   ]
  },
  {
   "cell_type": "code",
   "execution_count": null,
   "metadata": {},
   "outputs": [],
   "source": [
    "aaa = sur2[['q1s1', 'q1s2', 'q1s3', 'q1s4', 'q1s5', 'q1s6', 'q1s7', 'q1s8', 'q1s9',\n",
    "       'q1s10', 'q2c1', 'q2c2', 'q2c3', 'q2c4', 'q2c5', 'q2c6', 'q2c7', 'q2c8',\n",
    "       'q2c9', 'q2c10', 'q3', 'q4', 'q5s1', 'q5s2', 'q5s3', 'q5s4', 'q5s5',\n",
    "       'q5s6', 'q5s7', 'q5s8', 'q5s9', 'q5s10', 'q5s11', 'q5s12', 'q5s13',\n",
    "       'q5s14', 'q5s15', 'q6', 'cluster']]"
   ]
  },
  {
   "cell_type": "code",
   "execution_count": null,
   "metadata": {},
   "outputs": [],
   "source": [
    "aaa.groupby(\"cluster\").mean()"
   ]
  },
  {
   "cell_type": "code",
   "execution_count": null,
   "metadata": {},
   "outputs": [],
   "source": [
    "for i in range(len(aaa)):\n",
    "    if aaa['q6'][i]==1: aaa['q6'][i] += 4\n",
    "    elif aaa['q6'][i]==2: aaa['q6'][i] += 2\n",
    "    elif aaa['q6'][i]==4: aaa['q6'][i] -= 2\n",
    "    elif aaa['q6'][i]==5: aaa['q6'][i] -= 4"
   ]
  },
  {
   "cell_type": "code",
   "execution_count": null,
   "metadata": {},
   "outputs": [],
   "source": [
    "aaa.groupby(\"cluster\").mean()"
   ]
  },
  {
   "cell_type": "code",
   "execution_count": null,
   "metadata": {},
   "outputs": [],
   "source": []
  }
 ],
 "metadata": {
  "kernelspec": {
   "display_name": "Python 3",
   "language": "python",
   "name": "python3"
  },
  "language_info": {
   "codemirror_mode": {
    "name": "ipython",
    "version": 3
   },
   "file_extension": ".py",
   "mimetype": "text/x-python",
   "name": "python",
   "nbconvert_exporter": "python",
   "pygments_lexer": "ipython3",
   "version": "3.7.4"
  }
 },
 "nbformat": 4,
 "nbformat_minor": 2
}
