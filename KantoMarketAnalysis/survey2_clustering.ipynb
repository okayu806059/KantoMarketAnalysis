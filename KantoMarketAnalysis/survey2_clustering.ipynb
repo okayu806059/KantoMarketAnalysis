{
 "cells": [
  {
   "cell_type": "code",
   "execution_count": 1,
   "metadata": {},
   "outputs": [],
   "source": [
    "import pandas as pd\n",
    "import numpy as np\n",
    "import scipy \n",
    "import matplotlib.pyplot as plt\n",
    "import statistics as stat\n",
    "from sklearn.cluster import KMeans\n",
    "from sklearn.preprocessing import StandardScaler\n",
    "\n",
    "col = ['q1s1','q1s2','q1s3', 'q1s4','q1s5', 'q1s6', 'q1s7', 'q1s8', 'q1s9', 'q1s10', 'q2c1', 'q2c2', 'q2c3', 'q2c4','q2c5', 'q2c6', 'q2c7', 'q2c8','q2c9', 'q2c10', 'q3', 'q4', 'q5s1', 'q5s2', 'q5s3', 'q5s4', 'q5s5','q5s6', 'q5s7', 'q5s8', 'q5s9', 'q5s10', 'q5s11', 'q5s12', 'q5s13','q5s14', 'q5s15','q6']\n",
    "\n",
    "survey2 = pd.read_csv(\"/Users/yuuki/survey2Rawdata.csv\")"
   ]
  },
  {
   "cell_type": "code",
   "execution_count": 2,
   "metadata": {},
   "outputs": [
    {
     "name": "stdout",
     "output_type": "stream",
     "text": [
      "[0 2 1 3]\n"
     ]
    },
    {
     "name": "stderr",
     "output_type": "stream",
     "text": [
      "/Users/yuuki/opt/anaconda3/lib/python3.7/site-packages/ipykernel_launcher.py:13: SettingWithCopyWarning: \n",
      "A value is trying to be set on a copy of a slice from a DataFrame.\n",
      "Try using .loc[row_indexer,col_indexer] = value instead\n",
      "\n",
      "See the caveats in the documentation: http://pandas.pydata.org/pandas-docs/stable/user_guide/indexing.html#returning-a-view-versus-a-copy\n",
      "  del sys.path[0]\n"
     ]
    },
    {
     "data": {
      "text/html": [
       "<div>\n",
       "<style scoped>\n",
       "    .dataframe tbody tr th:only-of-type {\n",
       "        vertical-align: middle;\n",
       "    }\n",
       "\n",
       "    .dataframe tbody tr th {\n",
       "        vertical-align: top;\n",
       "    }\n",
       "\n",
       "    .dataframe thead th {\n",
       "        text-align: right;\n",
       "    }\n",
       "</style>\n",
       "<table border=\"1\" class=\"dataframe\">\n",
       "  <thead>\n",
       "    <tr style=\"text-align: right;\">\n",
       "      <th></th>\n",
       "      <th>q1s1</th>\n",
       "      <th>q1s2</th>\n",
       "      <th>q1s3</th>\n",
       "      <th>q1s4</th>\n",
       "      <th>q1s5</th>\n",
       "      <th>q1s6</th>\n",
       "      <th>q1s7</th>\n",
       "      <th>q1s8</th>\n",
       "      <th>q1s9</th>\n",
       "      <th>q1s10</th>\n",
       "      <th>...</th>\n",
       "      <th>q5s8</th>\n",
       "      <th>q5s9</th>\n",
       "      <th>q5s10</th>\n",
       "      <th>q5s11</th>\n",
       "      <th>q5s12</th>\n",
       "      <th>q5s13</th>\n",
       "      <th>q5s14</th>\n",
       "      <th>q5s15</th>\n",
       "      <th>q6</th>\n",
       "      <th>cluster</th>\n",
       "    </tr>\n",
       "  </thead>\n",
       "  <tbody>\n",
       "    <tr>\n",
       "      <td>0</td>\n",
       "      <td>2</td>\n",
       "      <td>3</td>\n",
       "      <td>3</td>\n",
       "      <td>3</td>\n",
       "      <td>3</td>\n",
       "      <td>3</td>\n",
       "      <td>3</td>\n",
       "      <td>3</td>\n",
       "      <td>3</td>\n",
       "      <td>3</td>\n",
       "      <td>...</td>\n",
       "      <td>2</td>\n",
       "      <td>4</td>\n",
       "      <td>2</td>\n",
       "      <td>2</td>\n",
       "      <td>2</td>\n",
       "      <td>3</td>\n",
       "      <td>3</td>\n",
       "      <td>2</td>\n",
       "      <td>3</td>\n",
       "      <td>0</td>\n",
       "    </tr>\n",
       "    <tr>\n",
       "      <td>1</td>\n",
       "      <td>2</td>\n",
       "      <td>3</td>\n",
       "      <td>2</td>\n",
       "      <td>3</td>\n",
       "      <td>2</td>\n",
       "      <td>3</td>\n",
       "      <td>3</td>\n",
       "      <td>3</td>\n",
       "      <td>3</td>\n",
       "      <td>3</td>\n",
       "      <td>...</td>\n",
       "      <td>1</td>\n",
       "      <td>4</td>\n",
       "      <td>1</td>\n",
       "      <td>3</td>\n",
       "      <td>2</td>\n",
       "      <td>3</td>\n",
       "      <td>3</td>\n",
       "      <td>1</td>\n",
       "      <td>1</td>\n",
       "      <td>2</td>\n",
       "    </tr>\n",
       "    <tr>\n",
       "      <td>2</td>\n",
       "      <td>1</td>\n",
       "      <td>3</td>\n",
       "      <td>3</td>\n",
       "      <td>3</td>\n",
       "      <td>3</td>\n",
       "      <td>3</td>\n",
       "      <td>3</td>\n",
       "      <td>3</td>\n",
       "      <td>3</td>\n",
       "      <td>3</td>\n",
       "      <td>...</td>\n",
       "      <td>1</td>\n",
       "      <td>1</td>\n",
       "      <td>1</td>\n",
       "      <td>2</td>\n",
       "      <td>1</td>\n",
       "      <td>1</td>\n",
       "      <td>1</td>\n",
       "      <td>3</td>\n",
       "      <td>2</td>\n",
       "      <td>2</td>\n",
       "    </tr>\n",
       "    <tr>\n",
       "      <td>3</td>\n",
       "      <td>1</td>\n",
       "      <td>3</td>\n",
       "      <td>3</td>\n",
       "      <td>3</td>\n",
       "      <td>3</td>\n",
       "      <td>3</td>\n",
       "      <td>3</td>\n",
       "      <td>3</td>\n",
       "      <td>3</td>\n",
       "      <td>3</td>\n",
       "      <td>...</td>\n",
       "      <td>2</td>\n",
       "      <td>3</td>\n",
       "      <td>3</td>\n",
       "      <td>3</td>\n",
       "      <td>3</td>\n",
       "      <td>3</td>\n",
       "      <td>3</td>\n",
       "      <td>2</td>\n",
       "      <td>2</td>\n",
       "      <td>0</td>\n",
       "    </tr>\n",
       "    <tr>\n",
       "      <td>4</td>\n",
       "      <td>1</td>\n",
       "      <td>1</td>\n",
       "      <td>2</td>\n",
       "      <td>3</td>\n",
       "      <td>3</td>\n",
       "      <td>3</td>\n",
       "      <td>3</td>\n",
       "      <td>3</td>\n",
       "      <td>3</td>\n",
       "      <td>3</td>\n",
       "      <td>...</td>\n",
       "      <td>3</td>\n",
       "      <td>2</td>\n",
       "      <td>2</td>\n",
       "      <td>3</td>\n",
       "      <td>2</td>\n",
       "      <td>2</td>\n",
       "      <td>2</td>\n",
       "      <td>3</td>\n",
       "      <td>4</td>\n",
       "      <td>2</td>\n",
       "    </tr>\n",
       "  </tbody>\n",
       "</table>\n",
       "<p>5 rows × 39 columns</p>\n",
       "</div>"
      ],
      "text/plain": [
       "   q1s1  q1s2  q1s3  q1s4  q1s5  q1s6  q1s7  q1s8  q1s9  q1s10  ...  q5s8  \\\n",
       "0     2     3     3     3     3     3     3     3     3      3  ...     2   \n",
       "1     2     3     2     3     2     3     3     3     3      3  ...     1   \n",
       "2     1     3     3     3     3     3     3     3     3      3  ...     1   \n",
       "3     1     3     3     3     3     3     3     3     3      3  ...     2   \n",
       "4     1     1     2     3     3     3     3     3     3      3  ...     3   \n",
       "\n",
       "   q5s9  q5s10  q5s11  q5s12  q5s13  q5s14  q5s15  q6  cluster  \n",
       "0     4      2      2      2      3      3      2   3        0  \n",
       "1     4      1      3      2      3      3      1   1        2  \n",
       "2     1      1      2      1      1      1      3   2        2  \n",
       "3     3      3      3      3      3      3      2   2        0  \n",
       "4     2      2      3      2      2      2      3   4        2  \n",
       "\n",
       "[5 rows x 39 columns]"
      ]
     },
     "execution_count": 2,
     "metadata": {},
     "output_type": "execute_result"
    }
   ],
   "source": [
    "# k-means\n",
    "\n",
    "# お試し\n",
    "survey2_clustering = survey2[col]\n",
    "\n",
    "sc = StandardScaler()\n",
    "survey2_clustering_sc = sc.fit_transform(survey2_clustering)\n",
    "\n",
    "kmeans = KMeans(n_clusters=4, random_state=0)\n",
    "\n",
    "clusters = kmeans.fit(survey2_clustering_sc)\n",
    "\n",
    "survey2_clustering[\"cluster\"] = clusters.labels_\n",
    "\n",
    "print(survey2_clustering[\"cluster\"].unique())\n",
    "\n",
    "survey2_clustering.head()"
   ]
  },
  {
   "cell_type": "code",
   "execution_count": 3,
   "metadata": {},
   "outputs": [
    {
     "data": {
      "text/html": [
       "<div>\n",
       "<style scoped>\n",
       "    .dataframe tbody tr th:only-of-type {\n",
       "        vertical-align: middle;\n",
       "    }\n",
       "\n",
       "    .dataframe tbody tr th {\n",
       "        vertical-align: top;\n",
       "    }\n",
       "\n",
       "    .dataframe thead th {\n",
       "        text-align: right;\n",
       "    }\n",
       "</style>\n",
       "<table border=\"1\" class=\"dataframe\">\n",
       "  <thead>\n",
       "    <tr style=\"text-align: right;\">\n",
       "      <th></th>\n",
       "      <th>q1s1</th>\n",
       "      <th>q1s2</th>\n",
       "      <th>q1s3</th>\n",
       "      <th>q1s4</th>\n",
       "      <th>q1s5</th>\n",
       "      <th>q1s6</th>\n",
       "      <th>q1s7</th>\n",
       "      <th>q1s8</th>\n",
       "      <th>q1s9</th>\n",
       "      <th>q1s10</th>\n",
       "      <th>...</th>\n",
       "      <th>q5s7</th>\n",
       "      <th>q5s8</th>\n",
       "      <th>q5s9</th>\n",
       "      <th>q5s10</th>\n",
       "      <th>q5s11</th>\n",
       "      <th>q5s12</th>\n",
       "      <th>q5s13</th>\n",
       "      <th>q5s14</th>\n",
       "      <th>q5s15</th>\n",
       "      <th>q6</th>\n",
       "    </tr>\n",
       "    <tr>\n",
       "      <th>cluster</th>\n",
       "      <th></th>\n",
       "      <th></th>\n",
       "      <th></th>\n",
       "      <th></th>\n",
       "      <th></th>\n",
       "      <th></th>\n",
       "      <th></th>\n",
       "      <th></th>\n",
       "      <th></th>\n",
       "      <th></th>\n",
       "      <th></th>\n",
       "      <th></th>\n",
       "      <th></th>\n",
       "      <th></th>\n",
       "      <th></th>\n",
       "      <th></th>\n",
       "      <th></th>\n",
       "      <th></th>\n",
       "      <th></th>\n",
       "      <th></th>\n",
       "      <th></th>\n",
       "    </tr>\n",
       "  </thead>\n",
       "  <tbody>\n",
       "    <tr>\n",
       "      <td>0</td>\n",
       "      <td>1.818182</td>\n",
       "      <td>2.768595</td>\n",
       "      <td>2.842975</td>\n",
       "      <td>2.851240</td>\n",
       "      <td>2.859504</td>\n",
       "      <td>2.900826</td>\n",
       "      <td>2.768595</td>\n",
       "      <td>2.859504</td>\n",
       "      <td>2.925620</td>\n",
       "      <td>2.933884</td>\n",
       "      <td>...</td>\n",
       "      <td>2.917355</td>\n",
       "      <td>2.966942</td>\n",
       "      <td>3.247934</td>\n",
       "      <td>2.520661</td>\n",
       "      <td>3.181818</td>\n",
       "      <td>2.619835</td>\n",
       "      <td>2.909091</td>\n",
       "      <td>2.975207</td>\n",
       "      <td>2.719008</td>\n",
       "      <td>3.016529</td>\n",
       "    </tr>\n",
       "    <tr>\n",
       "      <td>1</td>\n",
       "      <td>2.166667</td>\n",
       "      <td>3.000000</td>\n",
       "      <td>2.944444</td>\n",
       "      <td>2.944444</td>\n",
       "      <td>3.000000</td>\n",
       "      <td>3.000000</td>\n",
       "      <td>2.722222</td>\n",
       "      <td>2.888889</td>\n",
       "      <td>3.000000</td>\n",
       "      <td>3.000000</td>\n",
       "      <td>...</td>\n",
       "      <td>4.388889</td>\n",
       "      <td>4.111111</td>\n",
       "      <td>4.611111</td>\n",
       "      <td>3.722222</td>\n",
       "      <td>4.555556</td>\n",
       "      <td>4.333333</td>\n",
       "      <td>4.555556</td>\n",
       "      <td>4.277778</td>\n",
       "      <td>3.888889</td>\n",
       "      <td>3.888889</td>\n",
       "    </tr>\n",
       "    <tr>\n",
       "      <td>2</td>\n",
       "      <td>1.340206</td>\n",
       "      <td>2.371134</td>\n",
       "      <td>2.556701</td>\n",
       "      <td>2.525773</td>\n",
       "      <td>2.597938</td>\n",
       "      <td>2.896907</td>\n",
       "      <td>2.659794</td>\n",
       "      <td>2.608247</td>\n",
       "      <td>2.927835</td>\n",
       "      <td>2.845361</td>\n",
       "      <td>...</td>\n",
       "      <td>1.876289</td>\n",
       "      <td>1.969072</td>\n",
       "      <td>2.402062</td>\n",
       "      <td>1.804124</td>\n",
       "      <td>2.587629</td>\n",
       "      <td>1.876289</td>\n",
       "      <td>1.938144</td>\n",
       "      <td>2.000000</td>\n",
       "      <td>1.670103</td>\n",
       "      <td>2.360825</td>\n",
       "    </tr>\n",
       "    <tr>\n",
       "      <td>3</td>\n",
       "      <td>1.272727</td>\n",
       "      <td>1.454545</td>\n",
       "      <td>1.575758</td>\n",
       "      <td>1.787879</td>\n",
       "      <td>1.666667</td>\n",
       "      <td>1.969697</td>\n",
       "      <td>1.666667</td>\n",
       "      <td>1.727273</td>\n",
       "      <td>2.090909</td>\n",
       "      <td>2.272727</td>\n",
       "      <td>...</td>\n",
       "      <td>1.848485</td>\n",
       "      <td>1.757576</td>\n",
       "      <td>1.909091</td>\n",
       "      <td>1.636364</td>\n",
       "      <td>2.333333</td>\n",
       "      <td>1.909091</td>\n",
       "      <td>2.060606</td>\n",
       "      <td>1.939394</td>\n",
       "      <td>1.757576</td>\n",
       "      <td>2.424242</td>\n",
       "    </tr>\n",
       "  </tbody>\n",
       "</table>\n",
       "<p>4 rows × 38 columns</p>\n",
       "</div>"
      ],
      "text/plain": [
       "             q1s1      q1s2      q1s3      q1s4      q1s5      q1s6      q1s7  \\\n",
       "cluster                                                                         \n",
       "0        1.818182  2.768595  2.842975  2.851240  2.859504  2.900826  2.768595   \n",
       "1        2.166667  3.000000  2.944444  2.944444  3.000000  3.000000  2.722222   \n",
       "2        1.340206  2.371134  2.556701  2.525773  2.597938  2.896907  2.659794   \n",
       "3        1.272727  1.454545  1.575758  1.787879  1.666667  1.969697  1.666667   \n",
       "\n",
       "             q1s8      q1s9     q1s10  ...      q5s7      q5s8      q5s9  \\\n",
       "cluster                                ...                                 \n",
       "0        2.859504  2.925620  2.933884  ...  2.917355  2.966942  3.247934   \n",
       "1        2.888889  3.000000  3.000000  ...  4.388889  4.111111  4.611111   \n",
       "2        2.608247  2.927835  2.845361  ...  1.876289  1.969072  2.402062   \n",
       "3        1.727273  2.090909  2.272727  ...  1.848485  1.757576  1.909091   \n",
       "\n",
       "            q5s10     q5s11     q5s12     q5s13     q5s14     q5s15        q6  \n",
       "cluster                                                                        \n",
       "0        2.520661  3.181818  2.619835  2.909091  2.975207  2.719008  3.016529  \n",
       "1        3.722222  4.555556  4.333333  4.555556  4.277778  3.888889  3.888889  \n",
       "2        1.804124  2.587629  1.876289  1.938144  2.000000  1.670103  2.360825  \n",
       "3        1.636364  2.333333  1.909091  2.060606  1.939394  1.757576  2.424242  \n",
       "\n",
       "[4 rows x 38 columns]"
      ]
     },
     "execution_count": 3,
     "metadata": {},
     "output_type": "execute_result"
    }
   ],
   "source": [
    "survey2_clustering.groupby(\"cluster\").mean()"
   ]
  },
  {
   "cell_type": "code",
   "execution_count": 4,
   "metadata": {
    "scrolled": true
   },
   "outputs": [
    {
     "data": {
      "image/png": "[encoded data removed]",
      "text/plain": [
       "<Figure size 432x288 with 1 Axes>"
      ]
     },
     "metadata": {
      "needs_background": "light"
     },
     "output_type": "display_data"
    }
   ],
   "source": [
    "# エルボー法でベストなクラスター数を計算\n",
    "distortions = []\n",
    "\n",
    "for i  in range(1,11):                # 1~10クラスタまで一気に計算 \n",
    "    km = KMeans(n_clusters=i,\n",
    "                random_state=0)\n",
    "    km.fit(survey2_clustering_sc)                         # クラスタリングの計算を実行\n",
    "    distortions.append(km.inertia_)   # km.fitするとkm.inertia_が得られる\n",
    "\n",
    "plt.plot(range(1,11),distortions,marker='o')\n",
    "plt.xlabel('Number of clusters')\n",
    "plt.ylabel('Distortion')\n",
    "plt.title(\"Elbow\")\n",
    "plt.show()"
   ]
  },
  {
   "cell_type": "code",
   "execution_count": 96,
   "metadata": {},
   "outputs": [
    {
     "name": "stdout",
     "output_type": "stream",
     "text": [
      "ベストクラスタ数  8\n"
     ]
    }
   ],
   "source": [
    "for i in range(1, 10):\n",
    "   if((distortions[i-1] - distortions[i]) < 100):\n",
    "       best_clusters = i\n",
    "       break\n",
    "print(\"ベストクラスタ数 \", best_clusters)"
   ]
  },
  {
   "cell_type": "code",
   "execution_count": null,
   "metadata": {},
   "outputs": [],
   "source": []
  },
  {
   "cell_type": "code",
   "execution_count": 6,
   "metadata": {},
   "outputs": [
    {
     "name": "stdout",
     "output_type": "stream",
     "text": [
      "[3 2 5 0 4 1 6 7]\n"
     ]
    },
    {
     "name": "stderr",
     "output_type": "stream",
     "text": [
      "/Users/yuuki/opt/anaconda3/lib/python3.7/site-packages/ipykernel_launcher.py:11: SettingWithCopyWarning: \n",
      "A value is trying to be set on a copy of a slice from a DataFrame.\n",
      "Try using .loc[row_indexer,col_indexer] = value instead\n",
      "\n",
      "See the caveats in the documentation: http://pandas.pydata.org/pandas-docs/stable/user_guide/indexing.html#returning-a-view-versus-a-copy\n",
      "  # This is added back by InteractiveShellApp.init_path()\n"
     ]
    },
    {
     "data": {
      "text/html": [
       "<div>\n",
       "<style scoped>\n",
       "    .dataframe tbody tr th:only-of-type {\n",
       "        vertical-align: middle;\n",
       "    }\n",
       "\n",
       "    .dataframe tbody tr th {\n",
       "        vertical-align: top;\n",
       "    }\n",
       "\n",
       "    .dataframe thead th {\n",
       "        text-align: right;\n",
       "    }\n",
       "</style>\n",
       "<table border=\"1\" class=\"dataframe\">\n",
       "  <thead>\n",
       "    <tr style=\"text-align: right;\">\n",
       "      <th></th>\n",
       "      <th>q1s1</th>\n",
       "      <th>q1s2</th>\n",
       "      <th>q1s3</th>\n",
       "      <th>q1s4</th>\n",
       "      <th>q1s5</th>\n",
       "      <th>q1s6</th>\n",
       "      <th>q1s7</th>\n",
       "      <th>q1s8</th>\n",
       "      <th>q1s9</th>\n",
       "      <th>q1s10</th>\n",
       "      <th>...</th>\n",
       "      <th>q5s8</th>\n",
       "      <th>q5s9</th>\n",
       "      <th>q5s10</th>\n",
       "      <th>q5s11</th>\n",
       "      <th>q5s12</th>\n",
       "      <th>q5s13</th>\n",
       "      <th>q5s14</th>\n",
       "      <th>q5s15</th>\n",
       "      <th>q6</th>\n",
       "      <th>cluster</th>\n",
       "    </tr>\n",
       "  </thead>\n",
       "  <tbody>\n",
       "    <tr>\n",
       "      <td>0</td>\n",
       "      <td>2</td>\n",
       "      <td>3</td>\n",
       "      <td>3</td>\n",
       "      <td>3</td>\n",
       "      <td>3</td>\n",
       "      <td>3</td>\n",
       "      <td>3</td>\n",
       "      <td>3</td>\n",
       "      <td>3</td>\n",
       "      <td>3</td>\n",
       "      <td>...</td>\n",
       "      <td>2</td>\n",
       "      <td>4</td>\n",
       "      <td>2</td>\n",
       "      <td>2</td>\n",
       "      <td>2</td>\n",
       "      <td>3</td>\n",
       "      <td>3</td>\n",
       "      <td>2</td>\n",
       "      <td>3</td>\n",
       "      <td>3</td>\n",
       "    </tr>\n",
       "    <tr>\n",
       "      <td>1</td>\n",
       "      <td>2</td>\n",
       "      <td>3</td>\n",
       "      <td>2</td>\n",
       "      <td>3</td>\n",
       "      <td>2</td>\n",
       "      <td>3</td>\n",
       "      <td>3</td>\n",
       "      <td>3</td>\n",
       "      <td>3</td>\n",
       "      <td>3</td>\n",
       "      <td>...</td>\n",
       "      <td>1</td>\n",
       "      <td>4</td>\n",
       "      <td>1</td>\n",
       "      <td>3</td>\n",
       "      <td>2</td>\n",
       "      <td>3</td>\n",
       "      <td>3</td>\n",
       "      <td>1</td>\n",
       "      <td>1</td>\n",
       "      <td>2</td>\n",
       "    </tr>\n",
       "    <tr>\n",
       "      <td>2</td>\n",
       "      <td>1</td>\n",
       "      <td>3</td>\n",
       "      <td>3</td>\n",
       "      <td>3</td>\n",
       "      <td>3</td>\n",
       "      <td>3</td>\n",
       "      <td>3</td>\n",
       "      <td>3</td>\n",
       "      <td>3</td>\n",
       "      <td>3</td>\n",
       "      <td>...</td>\n",
       "      <td>1</td>\n",
       "      <td>1</td>\n",
       "      <td>1</td>\n",
       "      <td>2</td>\n",
       "      <td>1</td>\n",
       "      <td>1</td>\n",
       "      <td>1</td>\n",
       "      <td>3</td>\n",
       "      <td>2</td>\n",
       "      <td>5</td>\n",
       "    </tr>\n",
       "    <tr>\n",
       "      <td>3</td>\n",
       "      <td>1</td>\n",
       "      <td>3</td>\n",
       "      <td>3</td>\n",
       "      <td>3</td>\n",
       "      <td>3</td>\n",
       "      <td>3</td>\n",
       "      <td>3</td>\n",
       "      <td>3</td>\n",
       "      <td>3</td>\n",
       "      <td>3</td>\n",
       "      <td>...</td>\n",
       "      <td>2</td>\n",
       "      <td>3</td>\n",
       "      <td>3</td>\n",
       "      <td>3</td>\n",
       "      <td>3</td>\n",
       "      <td>3</td>\n",
       "      <td>3</td>\n",
       "      <td>2</td>\n",
       "      <td>2</td>\n",
       "      <td>3</td>\n",
       "    </tr>\n",
       "    <tr>\n",
       "      <td>4</td>\n",
       "      <td>1</td>\n",
       "      <td>1</td>\n",
       "      <td>2</td>\n",
       "      <td>3</td>\n",
       "      <td>3</td>\n",
       "      <td>3</td>\n",
       "      <td>3</td>\n",
       "      <td>3</td>\n",
       "      <td>3</td>\n",
       "      <td>3</td>\n",
       "      <td>...</td>\n",
       "      <td>3</td>\n",
       "      <td>2</td>\n",
       "      <td>2</td>\n",
       "      <td>3</td>\n",
       "      <td>2</td>\n",
       "      <td>2</td>\n",
       "      <td>2</td>\n",
       "      <td>3</td>\n",
       "      <td>4</td>\n",
       "      <td>2</td>\n",
       "    </tr>\n",
       "  </tbody>\n",
       "</table>\n",
       "<p>5 rows × 39 columns</p>\n",
       "</div>"
      ],
      "text/plain": [
       "   q1s1  q1s2  q1s3  q1s4  q1s5  q1s6  q1s7  q1s8  q1s9  q1s10  ...  q5s8  \\\n",
       "0     2     3     3     3     3     3     3     3     3      3  ...     2   \n",
       "1     2     3     2     3     2     3     3     3     3      3  ...     1   \n",
       "2     1     3     3     3     3     3     3     3     3      3  ...     1   \n",
       "3     1     3     3     3     3     3     3     3     3      3  ...     2   \n",
       "4     1     1     2     3     3     3     3     3     3      3  ...     3   \n",
       "\n",
       "   q5s9  q5s10  q5s11  q5s12  q5s13  q5s14  q5s15  q6  cluster  \n",
       "0     4      2      2      2      3      3      2   3        3  \n",
       "1     4      1      3      2      3      3      1   1        2  \n",
       "2     1      1      2      1      1      1      3   2        5  \n",
       "3     3      3      3      3      3      3      2   2        3  \n",
       "4     2      2      3      2      2      2      3   4        2  \n",
       "\n",
       "[5 rows x 39 columns]"
      ]
     },
     "execution_count": 6,
     "metadata": {},
     "output_type": "execute_result"
    }
   ],
   "source": [
    "# クラスター数を8にしてクラスタリング\n",
    "survey2_clustering = survey2[col]\n",
    "\n",
    "sc = StandardScaler()\n",
    "survey2_clustering_sc = sc.fit_transform(survey2_clustering)\n",
    "\n",
    "kmeans = KMeans(n_clusters=8, random_state=0)\n",
    "\n",
    "clusters = kmeans.fit(survey2_clustering_sc)\n",
    "\n",
    "survey2_clustering[\"cluster\"] = clusters.labels_\n",
    "\n",
    "print(survey2_clustering[\"cluster\"].unique())\n",
    "\n",
    "survey2_clustering.head()"
   ]
  },
  {
   "cell_type": "code",
   "execution_count": 7,
   "metadata": {},
   "outputs": [
    {
     "data": {
      "text/html": [
       "<div>\n",
       "<style scoped>\n",
       "    .dataframe tbody tr th:only-of-type {\n",
       "        vertical-align: middle;\n",
       "    }\n",
       "\n",
       "    .dataframe tbody tr th {\n",
       "        vertical-align: top;\n",
       "    }\n",
       "\n",
       "    .dataframe thead th {\n",
       "        text-align: right;\n",
       "    }\n",
       "</style>\n",
       "<table border=\"1\" class=\"dataframe\">\n",
       "  <thead>\n",
       "    <tr style=\"text-align: right;\">\n",
       "      <th></th>\n",
       "      <th>q1s1</th>\n",
       "      <th>q1s2</th>\n",
       "      <th>q1s3</th>\n",
       "      <th>q1s4</th>\n",
       "      <th>q1s5</th>\n",
       "      <th>q1s6</th>\n",
       "      <th>q1s7</th>\n",
       "      <th>q1s8</th>\n",
       "      <th>q1s9</th>\n",
       "      <th>q1s10</th>\n",
       "      <th>...</th>\n",
       "      <th>q5s7</th>\n",
       "      <th>q5s8</th>\n",
       "      <th>q5s9</th>\n",
       "      <th>q5s10</th>\n",
       "      <th>q5s11</th>\n",
       "      <th>q5s12</th>\n",
       "      <th>q5s13</th>\n",
       "      <th>q5s14</th>\n",
       "      <th>q5s15</th>\n",
       "      <th>q6</th>\n",
       "    </tr>\n",
       "    <tr>\n",
       "      <th>cluster</th>\n",
       "      <th></th>\n",
       "      <th></th>\n",
       "      <th></th>\n",
       "      <th></th>\n",
       "      <th></th>\n",
       "      <th></th>\n",
       "      <th></th>\n",
       "      <th></th>\n",
       "      <th></th>\n",
       "      <th></th>\n",
       "      <th></th>\n",
       "      <th></th>\n",
       "      <th></th>\n",
       "      <th></th>\n",
       "      <th></th>\n",
       "      <th></th>\n",
       "      <th></th>\n",
       "      <th></th>\n",
       "      <th></th>\n",
       "      <th></th>\n",
       "      <th></th>\n",
       "    </tr>\n",
       "  </thead>\n",
       "  <tbody>\n",
       "    <tr>\n",
       "      <td>0</td>\n",
       "      <td>2.187500</td>\n",
       "      <td>3.000000</td>\n",
       "      <td>2.937500</td>\n",
       "      <td>2.937500</td>\n",
       "      <td>3.000000</td>\n",
       "      <td>3.000000</td>\n",
       "      <td>2.687500</td>\n",
       "      <td>2.875000</td>\n",
       "      <td>3.000000</td>\n",
       "      <td>3.000000</td>\n",
       "      <td>...</td>\n",
       "      <td>4.500000</td>\n",
       "      <td>4.125000</td>\n",
       "      <td>4.625000</td>\n",
       "      <td>3.875000</td>\n",
       "      <td>4.625000</td>\n",
       "      <td>4.375000</td>\n",
       "      <td>4.625000</td>\n",
       "      <td>4.375000</td>\n",
       "      <td>3.875000</td>\n",
       "      <td>3.937500</td>\n",
       "    </tr>\n",
       "    <tr>\n",
       "      <td>1</td>\n",
       "      <td>1.538462</td>\n",
       "      <td>1.846154</td>\n",
       "      <td>1.923077</td>\n",
       "      <td>2.000000</td>\n",
       "      <td>1.961538</td>\n",
       "      <td>2.230769</td>\n",
       "      <td>2.000000</td>\n",
       "      <td>2.346154</td>\n",
       "      <td>2.346154</td>\n",
       "      <td>2.423077</td>\n",
       "      <td>...</td>\n",
       "      <td>2.884615</td>\n",
       "      <td>2.615385</td>\n",
       "      <td>2.884615</td>\n",
       "      <td>2.384615</td>\n",
       "      <td>2.961538</td>\n",
       "      <td>2.423077</td>\n",
       "      <td>2.884615</td>\n",
       "      <td>2.807692</td>\n",
       "      <td>2.423077</td>\n",
       "      <td>2.846154</td>\n",
       "    </tr>\n",
       "    <tr>\n",
       "      <td>2</td>\n",
       "      <td>1.500000</td>\n",
       "      <td>2.564516</td>\n",
       "      <td>2.661290</td>\n",
       "      <td>2.725806</td>\n",
       "      <td>2.806452</td>\n",
       "      <td>2.903226</td>\n",
       "      <td>2.822581</td>\n",
       "      <td>2.758065</td>\n",
       "      <td>2.919355</td>\n",
       "      <td>2.870968</td>\n",
       "      <td>...</td>\n",
       "      <td>2.112903</td>\n",
       "      <td>2.080645</td>\n",
       "      <td>2.564516</td>\n",
       "      <td>1.903226</td>\n",
       "      <td>2.725806</td>\n",
       "      <td>1.951613</td>\n",
       "      <td>1.983871</td>\n",
       "      <td>2.193548</td>\n",
       "      <td>1.838710</td>\n",
       "      <td>2.258065</td>\n",
       "    </tr>\n",
       "    <tr>\n",
       "      <td>3</td>\n",
       "      <td>1.903226</td>\n",
       "      <td>2.881720</td>\n",
       "      <td>2.946237</td>\n",
       "      <td>2.956989</td>\n",
       "      <td>2.967742</td>\n",
       "      <td>2.989247</td>\n",
       "      <td>2.838710</td>\n",
       "      <td>2.870968</td>\n",
       "      <td>2.989247</td>\n",
       "      <td>2.989247</td>\n",
       "      <td>...</td>\n",
       "      <td>2.924731</td>\n",
       "      <td>3.053763</td>\n",
       "      <td>3.290323</td>\n",
       "      <td>2.473118</td>\n",
       "      <td>3.236559</td>\n",
       "      <td>2.677419</td>\n",
       "      <td>2.935484</td>\n",
       "      <td>2.989247</td>\n",
       "      <td>2.806452</td>\n",
       "      <td>3.182796</td>\n",
       "    </tr>\n",
       "    <tr>\n",
       "      <td>4</td>\n",
       "      <td>1.194444</td>\n",
       "      <td>1.944444</td>\n",
       "      <td>2.305556</td>\n",
       "      <td>2.000000</td>\n",
       "      <td>2.083333</td>\n",
       "      <td>2.722222</td>\n",
       "      <td>2.500000</td>\n",
       "      <td>2.194444</td>\n",
       "      <td>2.833333</td>\n",
       "      <td>2.777778</td>\n",
       "      <td>...</td>\n",
       "      <td>1.388889</td>\n",
       "      <td>1.472222</td>\n",
       "      <td>2.166667</td>\n",
       "      <td>1.583333</td>\n",
       "      <td>2.500000</td>\n",
       "      <td>1.666667</td>\n",
       "      <td>1.722222</td>\n",
       "      <td>1.638889</td>\n",
       "      <td>1.277778</td>\n",
       "      <td>2.555556</td>\n",
       "    </tr>\n",
       "    <tr>\n",
       "      <td>5</td>\n",
       "      <td>1.200000</td>\n",
       "      <td>2.600000</td>\n",
       "      <td>2.600000</td>\n",
       "      <td>2.850000</td>\n",
       "      <td>2.800000</td>\n",
       "      <td>3.000000</td>\n",
       "      <td>2.450000</td>\n",
       "      <td>2.900000</td>\n",
       "      <td>3.000000</td>\n",
       "      <td>3.000000</td>\n",
       "      <td>...</td>\n",
       "      <td>2.450000</td>\n",
       "      <td>2.600000</td>\n",
       "      <td>2.550000</td>\n",
       "      <td>2.400000</td>\n",
       "      <td>2.800000</td>\n",
       "      <td>2.300000</td>\n",
       "      <td>2.750000</td>\n",
       "      <td>2.550000</td>\n",
       "      <td>2.250000</td>\n",
       "      <td>2.350000</td>\n",
       "    </tr>\n",
       "    <tr>\n",
       "      <td>6</td>\n",
       "      <td>1.375000</td>\n",
       "      <td>1.625000</td>\n",
       "      <td>1.875000</td>\n",
       "      <td>2.375000</td>\n",
       "      <td>2.125000</td>\n",
       "      <td>2.375000</td>\n",
       "      <td>1.750000</td>\n",
       "      <td>2.000000</td>\n",
       "      <td>2.500000</td>\n",
       "      <td>2.625000</td>\n",
       "      <td>...</td>\n",
       "      <td>1.750000</td>\n",
       "      <td>2.250000</td>\n",
       "      <td>2.250000</td>\n",
       "      <td>1.375000</td>\n",
       "      <td>2.000000</td>\n",
       "      <td>2.250000</td>\n",
       "      <td>2.000000</td>\n",
       "      <td>2.000000</td>\n",
       "      <td>2.000000</td>\n",
       "      <td>2.000000</td>\n",
       "    </tr>\n",
       "    <tr>\n",
       "      <td>7</td>\n",
       "      <td>1.000000</td>\n",
       "      <td>1.125000</td>\n",
       "      <td>1.375000</td>\n",
       "      <td>1.375000</td>\n",
       "      <td>1.250000</td>\n",
       "      <td>1.250000</td>\n",
       "      <td>1.250000</td>\n",
       "      <td>1.250000</td>\n",
       "      <td>1.375000</td>\n",
       "      <td>1.500000</td>\n",
       "      <td>...</td>\n",
       "      <td>1.500000</td>\n",
       "      <td>1.500000</td>\n",
       "      <td>1.375000</td>\n",
       "      <td>1.625000</td>\n",
       "      <td>1.500000</td>\n",
       "      <td>1.625000</td>\n",
       "      <td>1.500000</td>\n",
       "      <td>1.500000</td>\n",
       "      <td>1.500000</td>\n",
       "      <td>2.000000</td>\n",
       "    </tr>\n",
       "  </tbody>\n",
       "</table>\n",
       "<p>8 rows × 38 columns</p>\n",
       "</div>"
      ],
      "text/plain": [
       "             q1s1      q1s2      q1s3      q1s4      q1s5      q1s6      q1s7  \\\n",
       "cluster                                                                         \n",
       "0        2.187500  3.000000  2.937500  2.937500  3.000000  3.000000  2.687500   \n",
       "1        1.538462  1.846154  1.923077  2.000000  1.961538  2.230769  2.000000   \n",
       "2        1.500000  2.564516  2.661290  2.725806  2.806452  2.903226  2.822581   \n",
       "3        1.903226  2.881720  2.946237  2.956989  2.967742  2.989247  2.838710   \n",
       "4        1.194444  1.944444  2.305556  2.000000  2.083333  2.722222  2.500000   \n",
       "5        1.200000  2.600000  2.600000  2.850000  2.800000  3.000000  2.450000   \n",
       "6        1.375000  1.625000  1.875000  2.375000  2.125000  2.375000  1.750000   \n",
       "7        1.000000  1.125000  1.375000  1.375000  1.250000  1.250000  1.250000   \n",
       "\n",
       "             q1s8      q1s9     q1s10  ...      q5s7      q5s8      q5s9  \\\n",
       "cluster                                ...                                 \n",
       "0        2.875000  3.000000  3.000000  ...  4.500000  4.125000  4.625000   \n",
       "1        2.346154  2.346154  2.423077  ...  2.884615  2.615385  2.884615   \n",
       "2        2.758065  2.919355  2.870968  ...  2.112903  2.080645  2.564516   \n",
       "3        2.870968  2.989247  2.989247  ...  2.924731  3.053763  3.290323   \n",
       "4        2.194444  2.833333  2.777778  ...  1.388889  1.472222  2.166667   \n",
       "5        2.900000  3.000000  3.000000  ...  2.450000  2.600000  2.550000   \n",
       "6        2.000000  2.500000  2.625000  ...  1.750000  2.250000  2.250000   \n",
       "7        1.250000  1.375000  1.500000  ...  1.500000  1.500000  1.375000   \n",
       "\n",
       "            q5s10     q5s11     q5s12     q5s13     q5s14     q5s15        q6  \n",
       "cluster                                                                        \n",
       "0        3.875000  4.625000  4.375000  4.625000  4.375000  3.875000  3.937500  \n",
       "1        2.384615  2.961538  2.423077  2.884615  2.807692  2.423077  2.846154  \n",
       "2        1.903226  2.725806  1.951613  1.983871  2.193548  1.838710  2.258065  \n",
       "3        2.473118  3.236559  2.677419  2.935484  2.989247  2.806452  3.182796  \n",
       "4        1.583333  2.500000  1.666667  1.722222  1.638889  1.277778  2.555556  \n",
       "5        2.400000  2.800000  2.300000  2.750000  2.550000  2.250000  2.350000  \n",
       "6        1.375000  2.000000  2.250000  2.000000  2.000000  2.000000  2.000000  \n",
       "7        1.625000  1.500000  1.625000  1.500000  1.500000  1.500000  2.000000  \n",
       "\n",
       "[8 rows x 38 columns]"
      ]
     },
     "execution_count": 7,
     "metadata": {},
     "output_type": "execute_result"
    }
   ],
   "source": [
    "survey2_clustering.groupby(\"cluster\").mean()"
   ]
  },
  {
   "cell_type": "markdown",
   "metadata": {},
   "source": [
    "q6の結果について、非常に魅力に感じるが1のままなので、平均点が低いほど魅力に感じている人が多いということ。\n",
    "したがって、クラスター7、8が1番自分たちのサービスを魅力的に感じている。逆に、1番魅力的に感じていないのはクラスター0"
   ]
  },
  {
   "cell_type": "code",
   "execution_count": 8,
   "metadata": {},
   "outputs": [],
   "source": [
    "mean_cluster = survey2_clustering.groupby(\"cluster\").mean()"
   ]
  },
  {
   "cell_type": "code",
   "execution_count": 9,
   "metadata": {},
   "outputs": [
    {
     "data": {
      "text/html": [
       "<div>\n",
       "<style scoped>\n",
       "    .dataframe tbody tr th:only-of-type {\n",
       "        vertical-align: middle;\n",
       "    }\n",
       "\n",
       "    .dataframe tbody tr th {\n",
       "        vertical-align: top;\n",
       "    }\n",
       "\n",
       "    .dataframe thead th {\n",
       "        text-align: right;\n",
       "    }\n",
       "</style>\n",
       "<table border=\"1\" class=\"dataframe\">\n",
       "  <thead>\n",
       "    <tr style=\"text-align: right;\">\n",
       "      <th></th>\n",
       "      <th>q2c1</th>\n",
       "      <th>q2c2</th>\n",
       "      <th>q2c3</th>\n",
       "      <th>q2c4</th>\n",
       "      <th>q2c5</th>\n",
       "      <th>q2c6</th>\n",
       "      <th>q2c7</th>\n",
       "      <th>q2c8</th>\n",
       "      <th>q2c9</th>\n",
       "      <th>q2c10</th>\n",
       "    </tr>\n",
       "    <tr>\n",
       "      <th>cluster</th>\n",
       "      <th></th>\n",
       "      <th></th>\n",
       "      <th></th>\n",
       "      <th></th>\n",
       "      <th></th>\n",
       "      <th></th>\n",
       "      <th></th>\n",
       "      <th></th>\n",
       "      <th></th>\n",
       "      <th></th>\n",
       "    </tr>\n",
       "  </thead>\n",
       "  <tbody>\n",
       "    <tr>\n",
       "      <td>0</td>\n",
       "      <td>0.000000</td>\n",
       "      <td>0.187500</td>\n",
       "      <td>0.062500</td>\n",
       "      <td>0.250000</td>\n",
       "      <td>0.000000</td>\n",
       "      <td>0.250000</td>\n",
       "      <td>0.250000</td>\n",
       "      <td>0.000000</td>\n",
       "      <td>0.187500</td>\n",
       "      <td>0.125000</td>\n",
       "    </tr>\n",
       "    <tr>\n",
       "      <td>1</td>\n",
       "      <td>0.038462</td>\n",
       "      <td>0.115385</td>\n",
       "      <td>0.423077</td>\n",
       "      <td>0.346154</td>\n",
       "      <td>0.000000</td>\n",
       "      <td>0.192308</td>\n",
       "      <td>0.500000</td>\n",
       "      <td>0.076923</td>\n",
       "      <td>0.192308</td>\n",
       "      <td>0.076923</td>\n",
       "    </tr>\n",
       "    <tr>\n",
       "      <td>2</td>\n",
       "      <td>0.000000</td>\n",
       "      <td>0.419355</td>\n",
       "      <td>0.241935</td>\n",
       "      <td>0.193548</td>\n",
       "      <td>0.000000</td>\n",
       "      <td>0.370968</td>\n",
       "      <td>0.387097</td>\n",
       "      <td>0.064516</td>\n",
       "      <td>0.209677</td>\n",
       "      <td>0.000000</td>\n",
       "    </tr>\n",
       "    <tr>\n",
       "      <td>3</td>\n",
       "      <td>0.032258</td>\n",
       "      <td>0.376344</td>\n",
       "      <td>0.161290</td>\n",
       "      <td>0.139785</td>\n",
       "      <td>0.021505</td>\n",
       "      <td>0.258065</td>\n",
       "      <td>0.301075</td>\n",
       "      <td>0.021505</td>\n",
       "      <td>0.053763</td>\n",
       "      <td>0.064516</td>\n",
       "    </tr>\n",
       "    <tr>\n",
       "      <td>4</td>\n",
       "      <td>0.138889</td>\n",
       "      <td>0.666667</td>\n",
       "      <td>0.444444</td>\n",
       "      <td>0.500000</td>\n",
       "      <td>0.000000</td>\n",
       "      <td>0.555556</td>\n",
       "      <td>0.611111</td>\n",
       "      <td>0.166667</td>\n",
       "      <td>0.055556</td>\n",
       "      <td>0.055556</td>\n",
       "    </tr>\n",
       "    <tr>\n",
       "      <td>5</td>\n",
       "      <td>0.950000</td>\n",
       "      <td>0.550000</td>\n",
       "      <td>0.150000</td>\n",
       "      <td>0.200000</td>\n",
       "      <td>0.000000</td>\n",
       "      <td>0.150000</td>\n",
       "      <td>0.000000</td>\n",
       "      <td>0.050000</td>\n",
       "      <td>0.000000</td>\n",
       "      <td>0.050000</td>\n",
       "    </tr>\n",
       "    <tr>\n",
       "      <td>6</td>\n",
       "      <td>0.250000</td>\n",
       "      <td>0.625000</td>\n",
       "      <td>0.625000</td>\n",
       "      <td>0.750000</td>\n",
       "      <td>1.000000</td>\n",
       "      <td>0.625000</td>\n",
       "      <td>0.375000</td>\n",
       "      <td>0.125000</td>\n",
       "      <td>0.250000</td>\n",
       "      <td>0.000000</td>\n",
       "    </tr>\n",
       "    <tr>\n",
       "      <td>7</td>\n",
       "      <td>0.500000</td>\n",
       "      <td>0.750000</td>\n",
       "      <td>0.625000</td>\n",
       "      <td>0.500000</td>\n",
       "      <td>0.375000</td>\n",
       "      <td>0.375000</td>\n",
       "      <td>0.500000</td>\n",
       "      <td>0.500000</td>\n",
       "      <td>0.625000</td>\n",
       "      <td>0.000000</td>\n",
       "    </tr>\n",
       "  </tbody>\n",
       "</table>\n",
       "</div>"
      ],
      "text/plain": [
       "             q2c1      q2c2      q2c3      q2c4      q2c5      q2c6      q2c7  \\\n",
       "cluster                                                                         \n",
       "0        0.000000  0.187500  0.062500  0.250000  0.000000  0.250000  0.250000   \n",
       "1        0.038462  0.115385  0.423077  0.346154  0.000000  0.192308  0.500000   \n",
       "2        0.000000  0.419355  0.241935  0.193548  0.000000  0.370968  0.387097   \n",
       "3        0.032258  0.376344  0.161290  0.139785  0.021505  0.258065  0.301075   \n",
       "4        0.138889  0.666667  0.444444  0.500000  0.000000  0.555556  0.611111   \n",
       "5        0.950000  0.550000  0.150000  0.200000  0.000000  0.150000  0.000000   \n",
       "6        0.250000  0.625000  0.625000  0.750000  1.000000  0.625000  0.375000   \n",
       "7        0.500000  0.750000  0.625000  0.500000  0.375000  0.375000  0.500000   \n",
       "\n",
       "             q2c8      q2c9     q2c10  \n",
       "cluster                                \n",
       "0        0.000000  0.187500  0.125000  \n",
       "1        0.076923  0.192308  0.076923  \n",
       "2        0.064516  0.209677  0.000000  \n",
       "3        0.021505  0.053763  0.064516  \n",
       "4        0.166667  0.055556  0.055556  \n",
       "5        0.050000  0.000000  0.050000  \n",
       "6        0.125000  0.250000  0.000000  \n",
       "7        0.500000  0.625000  0.000000  "
      ]
     },
     "execution_count": 9,
     "metadata": {},
     "output_type": "execute_result"
    }
   ],
   "source": [
    "mean_cluster[[ 'q2c1', 'q2c2', 'q2c3', 'q2c4','q2c5', 'q2c6', 'q2c7', 'q2c8','q2c9', 'q2c10']]"
   ]
  },
  {
   "cell_type": "code",
   "execution_count": 10,
   "metadata": {},
   "outputs": [
    {
     "name": "stdout",
     "output_type": "stream",
     "text": [
      "<class 'pandas.core.frame.DataFrame'>\n"
     ]
    }
   ],
   "source": [
    "print(type(mean_cluster))"
   ]
  },
  {
   "cell_type": "code",
   "execution_count": 11,
   "metadata": {},
   "outputs": [
    {
     "data": {
      "text/html": [
       "<div>\n",
       "<style scoped>\n",
       "    .dataframe tbody tr th:only-of-type {\n",
       "        vertical-align: middle;\n",
       "    }\n",
       "\n",
       "    .dataframe tbody tr th {\n",
       "        vertical-align: top;\n",
       "    }\n",
       "\n",
       "    .dataframe thead th {\n",
       "        text-align: right;\n",
       "    }\n",
       "</style>\n",
       "<table border=\"1\" class=\"dataframe\">\n",
       "  <thead>\n",
       "    <tr style=\"text-align: right;\">\n",
       "      <th></th>\n",
       "      <th>q2c1</th>\n",
       "      <th>q2c2</th>\n",
       "      <th>q2c3</th>\n",
       "      <th>q2c4</th>\n",
       "      <th>q2c5</th>\n",
       "      <th>q2c6</th>\n",
       "      <th>q2c7</th>\n",
       "      <th>q2c8</th>\n",
       "      <th>q2c9</th>\n",
       "      <th>q2c10</th>\n",
       "    </tr>\n",
       "    <tr>\n",
       "      <th>cluster</th>\n",
       "      <th></th>\n",
       "      <th></th>\n",
       "      <th></th>\n",
       "      <th></th>\n",
       "      <th></th>\n",
       "      <th></th>\n",
       "      <th></th>\n",
       "      <th></th>\n",
       "      <th></th>\n",
       "      <th></th>\n",
       "    </tr>\n",
       "  </thead>\n",
       "  <tbody>\n",
       "    <tr>\n",
       "      <td>0</td>\n",
       "      <td>0.00</td>\n",
       "      <td>0.1875</td>\n",
       "      <td>0.0625</td>\n",
       "      <td>0.25</td>\n",
       "      <td>0.000</td>\n",
       "      <td>0.250</td>\n",
       "      <td>0.250</td>\n",
       "      <td>0.000</td>\n",
       "      <td>0.1875</td>\n",
       "      <td>0.125</td>\n",
       "    </tr>\n",
       "    <tr>\n",
       "      <td>6</td>\n",
       "      <td>0.25</td>\n",
       "      <td>0.6250</td>\n",
       "      <td>0.6250</td>\n",
       "      <td>0.75</td>\n",
       "      <td>1.000</td>\n",
       "      <td>0.625</td>\n",
       "      <td>0.375</td>\n",
       "      <td>0.125</td>\n",
       "      <td>0.2500</td>\n",
       "      <td>0.000</td>\n",
       "    </tr>\n",
       "    <tr>\n",
       "      <td>7</td>\n",
       "      <td>0.50</td>\n",
       "      <td>0.7500</td>\n",
       "      <td>0.6250</td>\n",
       "      <td>0.50</td>\n",
       "      <td>0.375</td>\n",
       "      <td>0.375</td>\n",
       "      <td>0.500</td>\n",
       "      <td>0.500</td>\n",
       "      <td>0.6250</td>\n",
       "      <td>0.000</td>\n",
       "    </tr>\n",
       "  </tbody>\n",
       "</table>\n",
       "</div>"
      ],
      "text/plain": [
       "         q2c1    q2c2    q2c3  q2c4   q2c5   q2c6   q2c7   q2c8    q2c9  q2c10\n",
       "cluster                                                                       \n",
       "0        0.00  0.1875  0.0625  0.25  0.000  0.250  0.250  0.000  0.1875  0.125\n",
       "6        0.25  0.6250  0.6250  0.75  1.000  0.625  0.375  0.125  0.2500  0.000\n",
       "7        0.50  0.7500  0.6250  0.50  0.375  0.375  0.500  0.500  0.6250  0.000"
      ]
     },
     "execution_count": 11,
     "metadata": {},
     "output_type": "execute_result"
    }
   ],
   "source": [
    "mean_cluster.loc[[0,6,7],[ 'q2c1', 'q2c2', 'q2c3', 'q2c4','q2c5', 'q2c6', 'q2c7', 'q2c8','q2c9', 'q2c10']]"
   ]
  },
  {
   "cell_type": "code",
   "execution_count": 12,
   "metadata": {},
   "outputs": [
    {
     "data": {
      "text/html": [
       "<div>\n",
       "<style scoped>\n",
       "    .dataframe tbody tr th:only-of-type {\n",
       "        vertical-align: middle;\n",
       "    }\n",
       "\n",
       "    .dataframe tbody tr th {\n",
       "        vertical-align: top;\n",
       "    }\n",
       "\n",
       "    .dataframe thead th {\n",
       "        text-align: right;\n",
       "    }\n",
       "</style>\n",
       "<table border=\"1\" class=\"dataframe\">\n",
       "  <thead>\n",
       "    <tr style=\"text-align: right;\">\n",
       "      <th></th>\n",
       "      <th>q1s1</th>\n",
       "      <th>q1s2</th>\n",
       "      <th>q1s3</th>\n",
       "      <th>q1s4</th>\n",
       "      <th>q1s5</th>\n",
       "      <th>q1s6</th>\n",
       "      <th>q1s7</th>\n",
       "      <th>q1s8</th>\n",
       "      <th>q1s9</th>\n",
       "      <th>q1s10</th>\n",
       "      <th>...</th>\n",
       "      <th>q5s7</th>\n",
       "      <th>q5s8</th>\n",
       "      <th>q5s9</th>\n",
       "      <th>q5s10</th>\n",
       "      <th>q5s11</th>\n",
       "      <th>q5s12</th>\n",
       "      <th>q5s13</th>\n",
       "      <th>q5s14</th>\n",
       "      <th>q5s15</th>\n",
       "      <th>q6</th>\n",
       "    </tr>\n",
       "    <tr>\n",
       "      <th>cluster</th>\n",
       "      <th></th>\n",
       "      <th></th>\n",
       "      <th></th>\n",
       "      <th></th>\n",
       "      <th></th>\n",
       "      <th></th>\n",
       "      <th></th>\n",
       "      <th></th>\n",
       "      <th></th>\n",
       "      <th></th>\n",
       "      <th></th>\n",
       "      <th></th>\n",
       "      <th></th>\n",
       "      <th></th>\n",
       "      <th></th>\n",
       "      <th></th>\n",
       "      <th></th>\n",
       "      <th></th>\n",
       "      <th></th>\n",
       "      <th></th>\n",
       "      <th></th>\n",
       "    </tr>\n",
       "  </thead>\n",
       "  <tbody>\n",
       "    <tr>\n",
       "      <td>0</td>\n",
       "      <td>16</td>\n",
       "      <td>16</td>\n",
       "      <td>16</td>\n",
       "      <td>16</td>\n",
       "      <td>16</td>\n",
       "      <td>16</td>\n",
       "      <td>16</td>\n",
       "      <td>16</td>\n",
       "      <td>16</td>\n",
       "      <td>16</td>\n",
       "      <td>...</td>\n",
       "      <td>16</td>\n",
       "      <td>16</td>\n",
       "      <td>16</td>\n",
       "      <td>16</td>\n",
       "      <td>16</td>\n",
       "      <td>16</td>\n",
       "      <td>16</td>\n",
       "      <td>16</td>\n",
       "      <td>16</td>\n",
       "      <td>16</td>\n",
       "    </tr>\n",
       "    <tr>\n",
       "      <td>1</td>\n",
       "      <td>26</td>\n",
       "      <td>26</td>\n",
       "      <td>26</td>\n",
       "      <td>26</td>\n",
       "      <td>26</td>\n",
       "      <td>26</td>\n",
       "      <td>26</td>\n",
       "      <td>26</td>\n",
       "      <td>26</td>\n",
       "      <td>26</td>\n",
       "      <td>...</td>\n",
       "      <td>26</td>\n",
       "      <td>26</td>\n",
       "      <td>26</td>\n",
       "      <td>26</td>\n",
       "      <td>26</td>\n",
       "      <td>26</td>\n",
       "      <td>26</td>\n",
       "      <td>26</td>\n",
       "      <td>26</td>\n",
       "      <td>26</td>\n",
       "    </tr>\n",
       "    <tr>\n",
       "      <td>2</td>\n",
       "      <td>62</td>\n",
       "      <td>62</td>\n",
       "      <td>62</td>\n",
       "      <td>62</td>\n",
       "      <td>62</td>\n",
       "      <td>62</td>\n",
       "      <td>62</td>\n",
       "      <td>62</td>\n",
       "      <td>62</td>\n",
       "      <td>62</td>\n",
       "      <td>...</td>\n",
       "      <td>62</td>\n",
       "      <td>62</td>\n",
       "      <td>62</td>\n",
       "      <td>62</td>\n",
       "      <td>62</td>\n",
       "      <td>62</td>\n",
       "      <td>62</td>\n",
       "      <td>62</td>\n",
       "      <td>62</td>\n",
       "      <td>62</td>\n",
       "    </tr>\n",
       "    <tr>\n",
       "      <td>3</td>\n",
       "      <td>93</td>\n",
       "      <td>93</td>\n",
       "      <td>93</td>\n",
       "      <td>93</td>\n",
       "      <td>93</td>\n",
       "      <td>93</td>\n",
       "      <td>93</td>\n",
       "      <td>93</td>\n",
       "      <td>93</td>\n",
       "      <td>93</td>\n",
       "      <td>...</td>\n",
       "      <td>93</td>\n",
       "      <td>93</td>\n",
       "      <td>93</td>\n",
       "      <td>93</td>\n",
       "      <td>93</td>\n",
       "      <td>93</td>\n",
       "      <td>93</td>\n",
       "      <td>93</td>\n",
       "      <td>93</td>\n",
       "      <td>93</td>\n",
       "    </tr>\n",
       "    <tr>\n",
       "      <td>4</td>\n",
       "      <td>36</td>\n",
       "      <td>36</td>\n",
       "      <td>36</td>\n",
       "      <td>36</td>\n",
       "      <td>36</td>\n",
       "      <td>36</td>\n",
       "      <td>36</td>\n",
       "      <td>36</td>\n",
       "      <td>36</td>\n",
       "      <td>36</td>\n",
       "      <td>...</td>\n",
       "      <td>36</td>\n",
       "      <td>36</td>\n",
       "      <td>36</td>\n",
       "      <td>36</td>\n",
       "      <td>36</td>\n",
       "      <td>36</td>\n",
       "      <td>36</td>\n",
       "      <td>36</td>\n",
       "      <td>36</td>\n",
       "      <td>36</td>\n",
       "    </tr>\n",
       "    <tr>\n",
       "      <td>5</td>\n",
       "      <td>20</td>\n",
       "      <td>20</td>\n",
       "      <td>20</td>\n",
       "      <td>20</td>\n",
       "      <td>20</td>\n",
       "      <td>20</td>\n",
       "      <td>20</td>\n",
       "      <td>20</td>\n",
       "      <td>20</td>\n",
       "      <td>20</td>\n",
       "      <td>...</td>\n",
       "      <td>20</td>\n",
       "      <td>20</td>\n",
       "      <td>20</td>\n",
       "      <td>20</td>\n",
       "      <td>20</td>\n",
       "      <td>20</td>\n",
       "      <td>20</td>\n",
       "      <td>20</td>\n",
       "      <td>20</td>\n",
       "      <td>20</td>\n",
       "    </tr>\n",
       "    <tr>\n",
       "      <td>6</td>\n",
       "      <td>8</td>\n",
       "      <td>8</td>\n",
       "      <td>8</td>\n",
       "      <td>8</td>\n",
       "      <td>8</td>\n",
       "      <td>8</td>\n",
       "      <td>8</td>\n",
       "      <td>8</td>\n",
       "      <td>8</td>\n",
       "      <td>8</td>\n",
       "      <td>...</td>\n",
       "      <td>8</td>\n",
       "      <td>8</td>\n",
       "      <td>8</td>\n",
       "      <td>8</td>\n",
       "      <td>8</td>\n",
       "      <td>8</td>\n",
       "      <td>8</td>\n",
       "      <td>8</td>\n",
       "      <td>8</td>\n",
       "      <td>8</td>\n",
       "    </tr>\n",
       "    <tr>\n",
       "      <td>7</td>\n",
       "      <td>8</td>\n",
       "      <td>8</td>\n",
       "      <td>8</td>\n",
       "      <td>8</td>\n",
       "      <td>8</td>\n",
       "      <td>8</td>\n",
       "      <td>8</td>\n",
       "      <td>8</td>\n",
       "      <td>8</td>\n",
       "      <td>8</td>\n",
       "      <td>...</td>\n",
       "      <td>8</td>\n",
       "      <td>8</td>\n",
       "      <td>8</td>\n",
       "      <td>8</td>\n",
       "      <td>8</td>\n",
       "      <td>8</td>\n",
       "      <td>8</td>\n",
       "      <td>8</td>\n",
       "      <td>8</td>\n",
       "      <td>8</td>\n",
       "    </tr>\n",
       "  </tbody>\n",
       "</table>\n",
       "<p>8 rows × 38 columns</p>\n",
       "</div>"
      ],
      "text/plain": [
       "         q1s1  q1s2  q1s3  q1s4  q1s5  q1s6  q1s7  q1s8  q1s9  q1s10  ...  \\\n",
       "cluster                                                               ...   \n",
       "0          16    16    16    16    16    16    16    16    16     16  ...   \n",
       "1          26    26    26    26    26    26    26    26    26     26  ...   \n",
       "2          62    62    62    62    62    62    62    62    62     62  ...   \n",
       "3          93    93    93    93    93    93    93    93    93     93  ...   \n",
       "4          36    36    36    36    36    36    36    36    36     36  ...   \n",
       "5          20    20    20    20    20    20    20    20    20     20  ...   \n",
       "6           8     8     8     8     8     8     8     8     8      8  ...   \n",
       "7           8     8     8     8     8     8     8     8     8      8  ...   \n",
       "\n",
       "         q5s7  q5s8  q5s9  q5s10  q5s11  q5s12  q5s13  q5s14  q5s15  q6  \n",
       "cluster                                                                  \n",
       "0          16    16    16     16     16     16     16     16     16  16  \n",
       "1          26    26    26     26     26     26     26     26     26  26  \n",
       "2          62    62    62     62     62     62     62     62     62  62  \n",
       "3          93    93    93     93     93     93     93     93     93  93  \n",
       "4          36    36    36     36     36     36     36     36     36  36  \n",
       "5          20    20    20     20     20     20     20     20     20  20  \n",
       "6           8     8     8      8      8      8      8      8      8   8  \n",
       "7           8     8     8      8      8      8      8      8      8   8  \n",
       "\n",
       "[8 rows x 38 columns]"
      ]
     },
     "execution_count": 12,
     "metadata": {},
     "output_type": "execute_result"
    }
   ],
   "source": [
    "survey2_clustering.groupby(\"cluster\").count()"
   ]
  },
  {
   "cell_type": "markdown",
   "metadata": {},
   "source": [
    "検定をしていないので、断言はできないが、「旅行先で使いたいから」、「外国人と交流したいから」あたりが、サービスの評価に影響してるかもしれない。"
   ]
  },
  {
   "cell_type": "markdown",
   "metadata": {},
   "source": [
    "検定をしようと思う。まずは、q6の回答について、各クラスターごとの平均点の差があるかを検定する。"
   ]
  },
  {
   "cell_type": "markdown",
   "metadata": {},
   "source": [
    "正規性の検定"
   ]
  },
  {
   "cell_type": "code",
   "execution_count": 13,
   "metadata": {},
   "outputs": [],
   "source": [
    "cluster0_q6 = survey2_clustering[survey2_clustering[\"cluster\"]==0][\"q6\"]"
   ]
  },
  {
   "cell_type": "code",
   "execution_count": 14,
   "metadata": {},
   "outputs": [
    {
     "data": {
      "text/plain": [
       "16"
      ]
     },
     "execution_count": 14,
     "metadata": {},
     "output_type": "execute_result"
    }
   ],
   "source": [
    "len(cluster0_q6)"
   ]
  },
  {
   "cell_type": "code",
   "execution_count": 15,
   "metadata": {},
   "outputs": [
    {
     "data": {
      "text/plain": [
       "(array([1., 0., 0., 5., 0., 0., 4., 0., 0., 6.]),\n",
       " array([2. , 2.3, 2.6, 2.9, 3.2, 3.5, 3.8, 4.1, 4.4, 4.7, 5. ]),\n",
       " <a list of 10 Patch objects>)"
      ]
     },
     "execution_count": 15,
     "metadata": {},
     "output_type": "execute_result"
    },
    {
     "data": {
      "image/png": "[encoded data removed]",
      "text/plain": [
       "<Figure size 432x288 with 1 Axes>"
      ]
     },
     "metadata": {
      "needs_background": "light"
     },
     "output_type": "display_data"
    }
   ],
   "source": [
    "plt.hist(cluster0_q6)"
   ]
  },
  {
   "cell_type": "code",
   "execution_count": 16,
   "metadata": {},
   "outputs": [
    {
     "data": {
      "text/plain": [
       "[<matplotlib.lines.Line2D at 0x7fb96a9d86d0>]"
      ]
     },
     "execution_count": 16,
     "metadata": {},
     "output_type": "execute_result"
    },
    {
     "data": {
      "image/png": "[encoded data removed]",
      "text/plain": [
       "<Figure size 432x288 with 1 Axes>"
      ]
     },
     "metadata": {
      "needs_background": "light"
     },
     "output_type": "display_data"
    }
   ],
   "source": [
    "plt.plot(cluster0_q6)"
   ]
  },
  {
   "cell_type": "markdown",
   "metadata": {},
   "source": [
    "プロットしてみたが、正規性があるのかよくわからん"
   ]
  },
  {
   "cell_type": "markdown",
   "metadata": {},
   "source": [
    "シャピロウィルク検定というものをやってみる"
   ]
  },
  {
   "cell_type": "code",
   "execution_count": 25,
   "metadata": {},
   "outputs": [],
   "source": [
    "#stats.shapiro(cluster0_q6)"
   ]
  },
  {
   "cell_type": "markdown",
   "metadata": {},
   "source": [
    "2番目の出力値がp値である。0.05以下のため棄却。よって、正規分布と判断できない。同様に他のクラスターについても行う。"
   ]
  },
  {
   "cell_type": "code",
   "execution_count": 26,
   "metadata": {},
   "outputs": [],
   "source": [
    "cluster1_q6 = survey2_clustering[survey2_clustering[\"cluster\"]==1][\"q6\"]\n",
    "#stats.shapiro(cluster1_q6)"
   ]
  },
  {
   "cell_type": "code",
   "execution_count": 27,
   "metadata": {},
   "outputs": [],
   "source": [
    "cluster2_q6 = survey2_clustering[survey2_clustering[\"cluster\"]==2][\"q6\"]\n",
    "#stats.shapiro(cluster2_q6)"
   ]
  },
  {
   "cell_type": "code",
   "execution_count": 28,
   "metadata": {},
   "outputs": [],
   "source": [
    "cluster3_q6 = survey2_clustering[survey2_clustering[\"cluster\"]==3][\"q6\"]\n",
    "#"
   ]
  },
  {
   "cell_type": "code",
   "execution_count": 29,
   "metadata": {},
   "outputs": [],
   "source": [
    "cluster4_q6 = survey2_clustering[survey2_clustering[\"cluster\"]==4][\"q6\"]\n",
    "#"
   ]
  },
  {
   "cell_type": "code",
   "execution_count": 30,
   "metadata": {},
   "outputs": [],
   "source": [
    "cluster5_q6 = survey2_clustering[survey2_clustering[\"cluster\"]==5][\"q6\"]\n",
    "#"
   ]
  },
  {
   "cell_type": "code",
   "execution_count": 31,
   "metadata": {},
   "outputs": [],
   "source": [
    "cluster6_q6 = survey2_clustering[survey2_clustering[\"cluster\"]==6][\"q6\"]#stats.shapiro(cluster6_q6)"
   ]
  },
  {
   "cell_type": "code",
   "execution_count": 32,
   "metadata": {},
   "outputs": [],
   "source": [
    "cluster7_q6 = survey2_clustering[survey2_clustering[\"cluster\"]==7][\"q6\"]\n",
    "#_q6)"
   ]
  },
  {
   "cell_type": "markdown",
   "metadata": {},
   "source": [
    "正規性の検定をしたところ、全てのクラスターは正規分布に従っているとは言えない。"
   ]
  },
  {
   "cell_type": "markdown",
   "metadata": {},
   "source": [
    "従って、クラスカル・ウォリスの検定を行う。"
   ]
  },
  {
   "cell_type": "code",
   "execution_count": 33,
   "metadata": {},
   "outputs": [
    {
     "name": "stdout",
     "output_type": "stream",
     "text": [
      "6      5\n",
      "22     5\n",
      "24     2\n",
      "25     3\n",
      "32     5\n",
      "66     4\n",
      "73     3\n",
      "78     5\n",
      "82     5\n",
      "172    3\n",
      "175    3\n",
      "217    5\n",
      "220    3\n",
      "227    4\n",
      "231    4\n",
      "263    4\n",
      "Name: q6, dtype: int64\n"
     ]
    }
   ],
   "source": [
    "print(cluster0_q6)"
   ]
  },
  {
   "cell_type": "code",
   "execution_count": 34,
   "metadata": {},
   "outputs": [
    {
     "name": "stdout",
     "output_type": "stream",
     "text": [
      "[0, 1, 5, 4, 6]\n"
     ]
    }
   ],
   "source": [
    "cnt = [0,0,0,0,0]\n",
    "for i in cluster0_q6:\n",
    "    tmp = i\n",
    "    tmp -= 1\n",
    "    cnt[tmp] += 1\n",
    "print(cnt)"
   ]
  },
  {
   "cell_type": "code",
   "execution_count": 35,
   "metadata": {},
   "outputs": [
    {
     "name": "stdout",
     "output_type": "stream",
     "text": [
      "2.0625\n"
     ]
    }
   ],
   "source": [
    "score = np.array([5,4,3,2,1])\n",
    "cnt = np.array(cnt)\n",
    "res = sum(score*cnt)\n",
    "res /= sum(cnt)\n",
    "print(res)"
   ]
  },
  {
   "cell_type": "code",
   "execution_count": 36,
   "metadata": {},
   "outputs": [],
   "source": [
    "q6_mean = []\n",
    "q6_mean.append(res)"
   ]
  },
  {
   "cell_type": "code",
   "execution_count": 37,
   "metadata": {},
   "outputs": [
    {
     "name": "stdout",
     "output_type": "stream",
     "text": [
      "[2, 8, 11, 2, 3]\n",
      "3.1538461538461537\n"
     ]
    }
   ],
   "source": [
    "cnt = [0,0,0,0,0]\n",
    "for i in cluster1_q6:\n",
    "    tmp = i\n",
    "    tmp -= 1\n",
    "    cnt[tmp] += 1\n",
    "print(cnt)\n",
    "cnt = np.array(cnt)\n",
    "res = sum(score*cnt)\n",
    "res /= sum(cnt)\n",
    "print(res)"
   ]
  },
  {
   "cell_type": "code",
   "execution_count": 38,
   "metadata": {},
   "outputs": [],
   "source": [
    "q6_mean.append(res)"
   ]
  },
  {
   "cell_type": "code",
   "execution_count": 39,
   "metadata": {},
   "outputs": [
    {
     "name": "stdout",
     "output_type": "stream",
     "text": [
      "[12, 29, 15, 5, 1]\n",
      "3.7419354838709675\n"
     ]
    }
   ],
   "source": [
    "cnt = [0,0,0,0,0]\n",
    "for i in cluster2_q6:\n",
    "    tmp = i\n",
    "    tmp -= 1\n",
    "    cnt[tmp] += 1\n",
    "print(cnt)\n",
    "cnt = np.array(cnt)\n",
    "res = sum(score*cnt)\n",
    "res /= sum(cnt)\n",
    "print(res)"
   ]
  },
  {
   "cell_type": "code",
   "execution_count": 40,
   "metadata": {},
   "outputs": [],
   "source": [
    "q6_mean.append(res)"
   ]
  },
  {
   "cell_type": "code",
   "execution_count": 41,
   "metadata": {},
   "outputs": [
    {
     "name": "stdout",
     "output_type": "stream",
     "text": [
      "[2, 22, 40, 15, 14]\n",
      "2.817204301075269\n"
     ]
    }
   ],
   "source": [
    "cnt = [0,0,0,0,0]\n",
    "for i in cluster3_q6:\n",
    "    tmp = i\n",
    "    tmp -= 1\n",
    "    cnt[tmp] += 1\n",
    "print(cnt)\n",
    "cnt = np.array(cnt)\n",
    "res = sum(score*cnt)\n",
    "res /= sum(cnt)\n",
    "print(res)"
   ]
  },
  {
   "cell_type": "code",
   "execution_count": 42,
   "metadata": {},
   "outputs": [],
   "source": [
    "q6_mean.append(res)"
   ]
  },
  {
   "cell_type": "code",
   "execution_count": 43,
   "metadata": {},
   "outputs": [
    {
     "name": "stdout",
     "output_type": "stream",
     "text": [
      "[7, 12, 10, 4, 3]\n",
      "3.4444444444444446\n"
     ]
    }
   ],
   "source": [
    "cnt = [0,0,0,0,0]\n",
    "for i in cluster4_q6:\n",
    "    tmp = i\n",
    "    tmp -= 1\n",
    "    cnt[tmp] += 1\n",
    "print(cnt)\n",
    "cnt = np.array(cnt)\n",
    "res = sum(score*cnt)\n",
    "res /= sum(cnt)\n",
    "print(res)"
   ]
  },
  {
   "cell_type": "code",
   "execution_count": 44,
   "metadata": {},
   "outputs": [],
   "source": [
    "q6_mean.append(res)"
   ]
  },
  {
   "cell_type": "code",
   "execution_count": 45,
   "metadata": {},
   "outputs": [
    {
     "name": "stdout",
     "output_type": "stream",
     "text": [
      "[3, 10, 5, 1, 1]\n",
      "3.65\n"
     ]
    }
   ],
   "source": [
    "cnt = [0,0,0,0,0]\n",
    "for i in cluster5_q6:\n",
    "    tmp = i\n",
    "    tmp -= 1\n",
    "    cnt[tmp] += 1\n",
    "print(cnt)\n",
    "cnt = np.array(cnt)\n",
    "res = sum(score*cnt)\n",
    "res /= sum(cnt)\n",
    "print(res)"
   ]
  },
  {
   "cell_type": "code",
   "execution_count": 46,
   "metadata": {},
   "outputs": [],
   "source": [
    "q6_mean.append(res)"
   ]
  },
  {
   "cell_type": "code",
   "execution_count": 47,
   "metadata": {},
   "outputs": [
    {
     "name": "stdout",
     "output_type": "stream",
     "text": [
      "[3, 2, 3, 0, 0]\n",
      "4.0\n"
     ]
    }
   ],
   "source": [
    "cnt = [0,0,0,0,0]\n",
    "for i in cluster6_q6:\n",
    "    tmp = i\n",
    "    tmp -= 1\n",
    "    cnt[tmp] += 1\n",
    "print(cnt)\n",
    "cnt = np.array(cnt)\n",
    "res = sum(score*cnt)\n",
    "res /= sum(cnt)\n",
    "print(res)"
   ]
  },
  {
   "cell_type": "code",
   "execution_count": 48,
   "metadata": {},
   "outputs": [],
   "source": [
    "q6_mean.append(res)"
   ]
  },
  {
   "cell_type": "code",
   "execution_count": 49,
   "metadata": {},
   "outputs": [
    {
     "name": "stdout",
     "output_type": "stream",
     "text": [
      "[4, 2, 1, 0, 1]\n",
      "4.0\n"
     ]
    }
   ],
   "source": [
    "cnt = [0,0,0,0,0]\n",
    "for i in cluster7_q6:\n",
    "    tmp = i\n",
    "    tmp -= 1\n",
    "    cnt[tmp] += 1\n",
    "print(cnt)\n",
    "cnt = np.array(cnt)\n",
    "res = sum(score*cnt)\n",
    "res /= sum(cnt)\n",
    "print(res)"
   ]
  },
  {
   "cell_type": "code",
   "execution_count": 50,
   "metadata": {},
   "outputs": [],
   "source": [
    "q6_mean.append(res)"
   ]
  },
  {
   "cell_type": "code",
   "execution_count": 51,
   "metadata": {},
   "outputs": [
    {
     "data": {
      "text/plain": [
       "[2.0625,\n",
       " 3.1538461538461537,\n",
       " 3.7419354838709675,\n",
       " 2.817204301075269,\n",
       " 3.4444444444444446,\n",
       " 3.65,\n",
       " 4.0,\n",
       " 4.0]"
      ]
     },
     "execution_count": 51,
     "metadata": {},
     "output_type": "execute_result"
    }
   ],
   "source": [
    "q6_mean"
   ]
  },
  {
   "cell_type": "markdown",
   "metadata": {},
   "source": [
    "上にあるのが、点数を補正後の平均値。こう見ても、明らかにクラスター0とクラスター６、7には違いがあるように見える。"
   ]
  },
  {
   "cell_type": "markdown",
   "metadata": {},
   "source": [
    "違いがあるかどうかを示すための検定の方法が..."
   ]
  },
  {
   "cell_type": "markdown",
   "metadata": {},
   "source": [
    "クラスタリングした結果はどこまで使って良いの？\n",
    "例えば、この結果をもとに、こういう人たちが自分たちのサービスを推しているとか言って良いの？\n",
    "ググったら、クラスタリングは分析者がデータ自体を理解するためにやるものと言っていた。どーゆーこと？"
   ]
  },
  {
   "cell_type": "code",
   "execution_count": 52,
   "metadata": {},
   "outputs": [],
   "source": [
    "cluster0 = survey2_clustering[survey2_clustering[\"cluster\"]==0]"
   ]
  },
  {
   "cell_type": "code",
   "execution_count": 53,
   "metadata": {},
   "outputs": [],
   "source": [
    "cluster6 = survey2_clustering[survey2_clustering[\"cluster\"]==6]\n",
    "cluster7 = survey2_clustering[survey2_clustering[\"cluster\"]==7]"
   ]
  },
  {
   "cell_type": "code",
   "execution_count": 54,
   "metadata": {},
   "outputs": [
    {
     "name": "stdout",
     "output_type": "stream",
     "text": [
      "cluster0: 2.0625\n",
      "\n",
      "cluster1: 3.1538461538461537\n",
      "\n",
      "cluster2: 3.7419354838709675\n",
      "\n",
      "cluster3: 2.817204301075269\n",
      "\n",
      "cluster4: 3.4444444444444446\n",
      "\n",
      "cluster5: 3.65\n",
      "\n",
      "cluster6: 4.0\n",
      "\n",
      "cluster7: 4.0\n",
      "\n"
     ]
    }
   ],
   "source": [
    "for i in range(8):\n",
    "    print(\"cluster\" + str(i) + \": \" + str(q6_mean[i]) + \"\\n\")"
   ]
  },
  {
   "cell_type": "code",
   "execution_count": 55,
   "metadata": {},
   "outputs": [
    {
     "data": {
      "text/html": [
       "<div>\n",
       "<style scoped>\n",
       "    .dataframe tbody tr th:only-of-type {\n",
       "        vertical-align: middle;\n",
       "    }\n",
       "\n",
       "    .dataframe tbody tr th {\n",
       "        vertical-align: top;\n",
       "    }\n",
       "\n",
       "    .dataframe thead th {\n",
       "        text-align: right;\n",
       "    }\n",
       "</style>\n",
       "<table border=\"1\" class=\"dataframe\">\n",
       "  <thead>\n",
       "    <tr style=\"text-align: right;\">\n",
       "      <th></th>\n",
       "      <th>q3</th>\n",
       "      <th>q4</th>\n",
       "    </tr>\n",
       "    <tr>\n",
       "      <th>cluster</th>\n",
       "      <th></th>\n",
       "      <th></th>\n",
       "    </tr>\n",
       "  </thead>\n",
       "  <tbody>\n",
       "    <tr>\n",
       "      <td>0</td>\n",
       "      <td>4.0625</td>\n",
       "      <td>6.6875</td>\n",
       "    </tr>\n",
       "    <tr>\n",
       "      <td>6</td>\n",
       "      <td>3.2500</td>\n",
       "      <td>3.1250</td>\n",
       "    </tr>\n",
       "    <tr>\n",
       "      <td>7</td>\n",
       "      <td>2.2500</td>\n",
       "      <td>2.6250</td>\n",
       "    </tr>\n",
       "  </tbody>\n",
       "</table>\n",
       "</div>"
      ],
      "text/plain": [
       "             q3      q4\n",
       "cluster                \n",
       "0        4.0625  6.6875\n",
       "6        3.2500  3.1250\n",
       "7        2.2500  2.6250"
      ]
     },
     "execution_count": 55,
     "metadata": {},
     "output_type": "execute_result"
    }
   ],
   "source": [
    "mean_cluster.loc[[0,6,7],[ \"q3\", \"q4\"]]"
   ]
  },
  {
   "cell_type": "code",
   "execution_count": 56,
   "metadata": {},
   "outputs": [
    {
     "data": {
      "text/html": [
       "<div>\n",
       "<style scoped>\n",
       "    .dataframe tbody tr th:only-of-type {\n",
       "        vertical-align: middle;\n",
       "    }\n",
       "\n",
       "    .dataframe tbody tr th {\n",
       "        vertical-align: top;\n",
       "    }\n",
       "\n",
       "    .dataframe thead th {\n",
       "        text-align: right;\n",
       "    }\n",
       "</style>\n",
       "<table border=\"1\" class=\"dataframe\">\n",
       "  <thead>\n",
       "    <tr style=\"text-align: right;\">\n",
       "      <th></th>\n",
       "      <th>q5s1</th>\n",
       "      <th>q5s2</th>\n",
       "      <th>q5s3</th>\n",
       "      <th>q5s4</th>\n",
       "      <th>q5s5</th>\n",
       "      <th>q5s6</th>\n",
       "      <th>q5s7</th>\n",
       "      <th>q5s8</th>\n",
       "      <th>q5s9</th>\n",
       "      <th>q5s10</th>\n",
       "      <th>q5s11</th>\n",
       "      <th>q5s12</th>\n",
       "      <th>q5s13</th>\n",
       "      <th>q5s14</th>\n",
       "      <th>q5s15</th>\n",
       "    </tr>\n",
       "    <tr>\n",
       "      <th>cluster</th>\n",
       "      <th></th>\n",
       "      <th></th>\n",
       "      <th></th>\n",
       "      <th></th>\n",
       "      <th></th>\n",
       "      <th></th>\n",
       "      <th></th>\n",
       "      <th></th>\n",
       "      <th></th>\n",
       "      <th></th>\n",
       "      <th></th>\n",
       "      <th></th>\n",
       "      <th></th>\n",
       "      <th></th>\n",
       "      <th></th>\n",
       "    </tr>\n",
       "  </thead>\n",
       "  <tbody>\n",
       "    <tr>\n",
       "      <td>0</td>\n",
       "      <td>3.125</td>\n",
       "      <td>3.375</td>\n",
       "      <td>3.5625</td>\n",
       "      <td>2.9375</td>\n",
       "      <td>4.4375</td>\n",
       "      <td>3.9375</td>\n",
       "      <td>4.50</td>\n",
       "      <td>4.125</td>\n",
       "      <td>4.625</td>\n",
       "      <td>3.875</td>\n",
       "      <td>4.625</td>\n",
       "      <td>4.375</td>\n",
       "      <td>4.625</td>\n",
       "      <td>4.375</td>\n",
       "      <td>3.875</td>\n",
       "    </tr>\n",
       "    <tr>\n",
       "      <td>6</td>\n",
       "      <td>2.000</td>\n",
       "      <td>3.000</td>\n",
       "      <td>2.0000</td>\n",
       "      <td>2.7500</td>\n",
       "      <td>2.2500</td>\n",
       "      <td>1.8750</td>\n",
       "      <td>1.75</td>\n",
       "      <td>2.250</td>\n",
       "      <td>2.250</td>\n",
       "      <td>1.375</td>\n",
       "      <td>2.000</td>\n",
       "      <td>2.250</td>\n",
       "      <td>2.000</td>\n",
       "      <td>2.000</td>\n",
       "      <td>2.000</td>\n",
       "    </tr>\n",
       "    <tr>\n",
       "      <td>7</td>\n",
       "      <td>1.500</td>\n",
       "      <td>1.750</td>\n",
       "      <td>1.2500</td>\n",
       "      <td>1.6250</td>\n",
       "      <td>1.3750</td>\n",
       "      <td>1.5000</td>\n",
       "      <td>1.50</td>\n",
       "      <td>1.500</td>\n",
       "      <td>1.375</td>\n",
       "      <td>1.625</td>\n",
       "      <td>1.500</td>\n",
       "      <td>1.625</td>\n",
       "      <td>1.500</td>\n",
       "      <td>1.500</td>\n",
       "      <td>1.500</td>\n",
       "    </tr>\n",
       "  </tbody>\n",
       "</table>\n",
       "</div>"
      ],
      "text/plain": [
       "          q5s1   q5s2    q5s3    q5s4    q5s5    q5s6  q5s7   q5s8   q5s9  \\\n",
       "cluster                                                                     \n",
       "0        3.125  3.375  3.5625  2.9375  4.4375  3.9375  4.50  4.125  4.625   \n",
       "6        2.000  3.000  2.0000  2.7500  2.2500  1.8750  1.75  2.250  2.250   \n",
       "7        1.500  1.750  1.2500  1.6250  1.3750  1.5000  1.50  1.500  1.375   \n",
       "\n",
       "         q5s10  q5s11  q5s12  q5s13  q5s14  q5s15  \n",
       "cluster                                            \n",
       "0        3.875  4.625  4.375  4.625  4.375  3.875  \n",
       "6        1.375  2.000  2.250  2.000  2.000  2.000  \n",
       "7        1.625  1.500  1.625  1.500  1.500  1.500  "
      ]
     },
     "execution_count": 56,
     "metadata": {},
     "output_type": "execute_result"
    }
   ],
   "source": [
    "mean_cluster.loc[[0,6,7],[ 'q5s1', 'q5s2', 'q5s3', 'q5s4', 'q5s5','q5s6', 'q5s7', 'q5s8', 'q5s9', 'q5s10', 'q5s11', 'q5s12', 'q5s13','q5s14', 'q5s15']]"
   ]
  },
  {
   "cell_type": "code",
   "execution_count": 57,
   "metadata": {},
   "outputs": [],
   "source": [
    "cnt = [[0,0,0,0,0] for _ in range(15)]\n",
    "q5_cols = [ 'q5s1', 'q5s2', 'q5s3', 'q5s4', 'q5s5','q5s6', 'q5s7', 'q5s8', 'q5s9', 'q5s10', 'q5s11', 'q5s12', 'q5s13','q5s14', 'q5s15']\n",
    "\n",
    "cluster0 = cluster0.reset_index(drop = True)\n",
    "cluster6 = cluster6.reset_index(drop = True)\n",
    "cluster7 = cluster7.reset_index(drop = True)"
   ]
  },
  {
   "cell_type": "code",
   "execution_count": 58,
   "metadata": {},
   "outputs": [
    {
     "name": "stdout",
     "output_type": "stream",
     "text": [
      "[[3, 4, 1, 4, 4], [3, 2, 1, 6, 4], [2, 2, 2, 5, 5], [4, 3, 2, 4, 3], [0, 0, 1, 7, 8], [1, 0, 4, 5, 6], [0, 0, 0, 8, 8], [1, 0, 1, 8, 6], [0, 0, 0, 6, 10], [0, 2, 4, 4, 6], [0, 0, 1, 4, 11], [0, 1, 0, 7, 8], [0, 0, 0, 6, 10], [0, 0, 1, 8, 7], [0, 2, 3, 6, 5]]\n"
     ]
    }
   ],
   "source": [
    "for i in range(len(q5_cols)):\n",
    "    for j in range(len(cluster0)):\n",
    "        tmp = cluster0[q5_cols[i]][j]\n",
    "        tmp -= 1\n",
    "        cnt[i][tmp] += 1\n",
    "print(cnt)"
   ]
  },
  {
   "cell_type": "code",
   "execution_count": 59,
   "metadata": {},
   "outputs": [
    {
     "name": "stdout",
     "output_type": "stream",
     "text": [
      "cluster0:  [2.875, 2.625, 2.4375, 3.0625, 1.5625, 2.0625, 1.5, 1.875, 1.375, 2.125, 1.375, 1.625, 1.375, 1.625, 2.125]\n"
     ]
    }
   ],
   "source": [
    "res0 = []\n",
    "for i in range(15):\n",
    "    tmp = cnt[i]\n",
    "    tmp = np.array(tmp)\n",
    "    ans = sum(tmp*score)\n",
    "    ans /= 16\n",
    "    res0.append(ans)\n",
    "print(\"cluster0: \", res0)"
   ]
  },
  {
   "cell_type": "code",
   "execution_count": 60,
   "metadata": {},
   "outputs": [
    {
     "name": "stdout",
     "output_type": "stream",
     "text": [
      "[[2, 4, 2, 0, 0], [0, 2, 5, 0, 1], [2, 5, 0, 1, 0], [1, 2, 4, 0, 1], [2, 3, 2, 1, 0], [3, 3, 2, 0, 0], [3, 4, 1, 0, 0], [2, 3, 2, 1, 0], [1, 4, 3, 0, 0], [5, 3, 0, 0, 0], [3, 3, 1, 1, 0], [1, 5, 1, 1, 0], [2, 5, 0, 1, 0], [3, 3, 1, 1, 0], [3, 3, 1, 1, 0]]\n"
     ]
    }
   ],
   "source": [
    "cnt = [[0,0,0,0,0] for _ in range(15)]\n",
    "for i in range(len(q5_cols)):\n",
    "    for j in range(len(cluster6)):\n",
    "        tmp = cluster6[q5_cols[i]][j]\n",
    "        tmp -= 1\n",
    "        cnt[i][tmp] += 1\n",
    "print(cnt)"
   ]
  },
  {
   "cell_type": "code",
   "execution_count": 61,
   "metadata": {},
   "outputs": [
    {
     "name": "stdout",
     "output_type": "stream",
     "text": [
      "cluster6:  [4.0, 3.0, 4.0, 3.25, 3.75, 4.125, 4.25, 3.75, 3.75, 4.625, 4.0, 3.75, 4.0, 4.0, 4.0]\n"
     ]
    }
   ],
   "source": [
    "res6 = []\n",
    "for i in range(15):\n",
    "    tmp = cnt[i]\n",
    "    tmp = np.array(tmp)\n",
    "    ans = sum(tmp*score)\n",
    "    ans /= 8\n",
    "    res6.append(ans)\n",
    "print(\"cluster6: \", res6)"
   ]
  },
  {
   "cell_type": "code",
   "execution_count": 62,
   "metadata": {},
   "outputs": [
    {
     "name": "stdout",
     "output_type": "stream",
     "text": [
      "[[5, 2, 1, 0, 0], [5, 1, 1, 1, 0], [6, 2, 0, 0, 0], [4, 3, 1, 0, 0], [6, 1, 1, 0, 0], [4, 4, 0, 0, 0], [4, 4, 0, 0, 0], [4, 4, 0, 0, 0], [5, 3, 0, 0, 0], [4, 3, 1, 0, 0], [4, 4, 0, 0, 0], [4, 3, 1, 0, 0], [4, 4, 0, 0, 0], [4, 4, 0, 0, 0], [5, 2, 1, 0, 0]]\n"
     ]
    }
   ],
   "source": [
    "cnt = [[0,0,0,0,0] for _ in range(15)]\n",
    "for i in range(len(q5_cols)):\n",
    "    for j in range(len(cluster7)):\n",
    "        tmp = cluster7[q5_cols[i]][j]\n",
    "        tmp -= 1\n",
    "        cnt[i][tmp] += 1\n",
    "print(cnt)"
   ]
  },
  {
   "cell_type": "code",
   "execution_count": 63,
   "metadata": {},
   "outputs": [
    {
     "name": "stdout",
     "output_type": "stream",
     "text": [
      "cluster7:  [4.5, 4.25, 4.75, 4.375, 4.625, 4.5, 4.5, 4.5, 4.625, 4.375, 4.5, 4.375, 4.5, 4.5, 4.5]\n"
     ]
    }
   ],
   "source": [
    "res7 = []\n",
    "for i in range(15):\n",
    "    tmp = cnt[i]\n",
    "    tmp = np.array(tmp)\n",
    "    ans = sum(tmp*score)\n",
    "    ans /= 8\n",
    "    res7.append(ans)\n",
    "print(\"cluster7: \", res7)"
   ]
  },
  {
   "cell_type": "code",
   "execution_count": 64,
   "metadata": {},
   "outputs": [
    {
     "name": "stdout",
     "output_type": "stream",
     "text": [
      "<class 'list'>\n"
     ]
    }
   ],
   "source": [
    "print(type(res7))"
   ]
  },
  {
   "cell_type": "code",
   "execution_count": 65,
   "metadata": {},
   "outputs": [
    {
     "data": {
      "text/plain": [
       "array([2.875 , 2.625 , 2.4375, 3.0625, 1.5625, 2.0625, 1.5   , 1.875 ,\n",
       "       1.375 , 2.125 , 1.375 , 1.625 , 1.375 , 1.625 , 2.125 , 4.    ,\n",
       "       3.    , 4.    , 3.25  , 3.75  , 4.125 , 4.25  , 3.75  , 3.75  ,\n",
       "       4.625 , 4.    , 3.75  , 4.    , 4.    , 4.    , 4.5   , 4.25  ,\n",
       "       4.75  , 4.375 , 4.625 , 4.5   , 4.5   , 4.5   , 4.625 , 4.375 ,\n",
       "       4.5   , 4.375 , 4.5   , 4.5   , 4.5   ])"
      ]
     },
     "execution_count": 65,
     "metadata": {},
     "output_type": "execute_result"
    }
   ],
   "source": [
    "c = np.concatenate((res0,res6,res7), axis = 0)\n",
    "c"
   ]
  },
  {
   "cell_type": "code",
   "execution_count": 66,
   "metadata": {},
   "outputs": [],
   "source": [
    "c.resize(3,15)"
   ]
  },
  {
   "cell_type": "code",
   "execution_count": 67,
   "metadata": {
    "scrolled": true
   },
   "outputs": [
    {
     "name": "stdout",
     "output_type": "stream",
     "text": [
      "[[2.875  2.625  2.4375 3.0625 1.5625 2.0625 1.5    1.875  1.375  2.125\n",
      "  1.375  1.625  1.375  1.625  2.125 ]\n",
      " [4.     3.     4.     3.25   3.75   4.125  4.25   3.75   3.75   4.625\n",
      "  4.     3.75   4.     4.     4.    ]\n",
      " [4.5    4.25   4.75   4.375  4.625  4.5    4.5    4.5    4.625  4.375\n",
      "  4.5    4.375  4.5    4.5    4.5   ]]\n"
     ]
    }
   ],
   "source": [
    "print(c)"
   ]
  },
  {
   "cell_type": "code",
   "execution_count": 68,
   "metadata": {},
   "outputs": [
    {
     "data": {
      "text/plain": [
       "[2.875,\n",
       " 2.625,\n",
       " 2.4375,\n",
       " 3.0625,\n",
       " 1.5625,\n",
       " 2.0625,\n",
       " 1.5,\n",
       " 1.875,\n",
       " 1.375,\n",
       " 2.125,\n",
       " 1.375,\n",
       " 1.625,\n",
       " 1.375,\n",
       " 1.625,\n",
       " 2.125]"
      ]
     },
     "execution_count": 68,
     "metadata": {},
     "output_type": "execute_result"
    }
   ],
   "source": [
    "res0"
   ]
  },
  {
   "cell_type": "code",
   "execution_count": 69,
   "metadata": {},
   "outputs": [
    {
     "data": {
      "text/plain": [
       "[4.0,\n",
       " 3.0,\n",
       " 4.0,\n",
       " 3.25,\n",
       " 3.75,\n",
       " 4.125,\n",
       " 4.25,\n",
       " 3.75,\n",
       " 3.75,\n",
       " 4.625,\n",
       " 4.0,\n",
       " 3.75,\n",
       " 4.0,\n",
       " 4.0,\n",
       " 4.0]"
      ]
     },
     "execution_count": 69,
     "metadata": {},
     "output_type": "execute_result"
    }
   ],
   "source": [
    "res6"
   ]
  },
  {
   "cell_type": "code",
   "execution_count": 70,
   "metadata": {},
   "outputs": [
    {
     "data": {
      "text/plain": [
       "[4.5,\n",
       " 4.25,\n",
       " 4.75,\n",
       " 4.375,\n",
       " 4.625,\n",
       " 4.5,\n",
       " 4.5,\n",
       " 4.5,\n",
       " 4.625,\n",
       " 4.375,\n",
       " 4.5,\n",
       " 4.375,\n",
       " 4.5,\n",
       " 4.5,\n",
       " 4.5]"
      ]
     },
     "execution_count": 70,
     "metadata": {},
     "output_type": "execute_result"
    }
   ],
   "source": [
    "res7"
   ]
  },
  {
   "cell_type": "code",
   "execution_count": 71,
   "metadata": {},
   "outputs": [],
   "source": [
    "c = pd.DataFrame(c,index = [\"cluster 0\", \"cluster 6\", \"cluster 7\"], columns = q5_cols)"
   ]
  },
  {
   "cell_type": "code",
   "execution_count": 72,
   "metadata": {},
   "outputs": [
    {
     "data": {
      "text/html": [
       "<div>\n",
       "<style scoped>\n",
       "    .dataframe tbody tr th:only-of-type {\n",
       "        vertical-align: middle;\n",
       "    }\n",
       "\n",
       "    .dataframe tbody tr th {\n",
       "        vertical-align: top;\n",
       "    }\n",
       "\n",
       "    .dataframe thead th {\n",
       "        text-align: right;\n",
       "    }\n",
       "</style>\n",
       "<table border=\"1\" class=\"dataframe\">\n",
       "  <thead>\n",
       "    <tr style=\"text-align: right;\">\n",
       "      <th></th>\n",
       "      <th>q5s1</th>\n",
       "      <th>q5s2</th>\n",
       "      <th>q5s3</th>\n",
       "      <th>q5s4</th>\n",
       "      <th>q5s5</th>\n",
       "      <th>q5s6</th>\n",
       "      <th>q5s7</th>\n",
       "      <th>q5s8</th>\n",
       "      <th>q5s9</th>\n",
       "      <th>q5s10</th>\n",
       "      <th>q5s11</th>\n",
       "      <th>q5s12</th>\n",
       "      <th>q5s13</th>\n",
       "      <th>q5s14</th>\n",
       "      <th>q5s15</th>\n",
       "    </tr>\n",
       "  </thead>\n",
       "  <tbody>\n",
       "    <tr>\n",
       "      <td>cluster 0</td>\n",
       "      <td>2.875</td>\n",
       "      <td>2.625</td>\n",
       "      <td>2.4375</td>\n",
       "      <td>3.0625</td>\n",
       "      <td>1.5625</td>\n",
       "      <td>2.0625</td>\n",
       "      <td>1.50</td>\n",
       "      <td>1.875</td>\n",
       "      <td>1.375</td>\n",
       "      <td>2.125</td>\n",
       "      <td>1.375</td>\n",
       "      <td>1.625</td>\n",
       "      <td>1.375</td>\n",
       "      <td>1.625</td>\n",
       "      <td>2.125</td>\n",
       "    </tr>\n",
       "    <tr>\n",
       "      <td>cluster 6</td>\n",
       "      <td>4.000</td>\n",
       "      <td>3.000</td>\n",
       "      <td>4.0000</td>\n",
       "      <td>3.2500</td>\n",
       "      <td>3.7500</td>\n",
       "      <td>4.1250</td>\n",
       "      <td>4.25</td>\n",
       "      <td>3.750</td>\n",
       "      <td>3.750</td>\n",
       "      <td>4.625</td>\n",
       "      <td>4.000</td>\n",
       "      <td>3.750</td>\n",
       "      <td>4.000</td>\n",
       "      <td>4.000</td>\n",
       "      <td>4.000</td>\n",
       "    </tr>\n",
       "    <tr>\n",
       "      <td>cluster 7</td>\n",
       "      <td>4.500</td>\n",
       "      <td>4.250</td>\n",
       "      <td>4.7500</td>\n",
       "      <td>4.3750</td>\n",
       "      <td>4.6250</td>\n",
       "      <td>4.5000</td>\n",
       "      <td>4.50</td>\n",
       "      <td>4.500</td>\n",
       "      <td>4.625</td>\n",
       "      <td>4.375</td>\n",
       "      <td>4.500</td>\n",
       "      <td>4.375</td>\n",
       "      <td>4.500</td>\n",
       "      <td>4.500</td>\n",
       "      <td>4.500</td>\n",
       "    </tr>\n",
       "  </tbody>\n",
       "</table>\n",
       "</div>"
      ],
      "text/plain": [
       "            q5s1   q5s2    q5s3    q5s4    q5s5    q5s6  q5s7   q5s8   q5s9  \\\n",
       "cluster 0  2.875  2.625  2.4375  3.0625  1.5625  2.0625  1.50  1.875  1.375   \n",
       "cluster 6  4.000  3.000  4.0000  3.2500  3.7500  4.1250  4.25  3.750  3.750   \n",
       "cluster 7  4.500  4.250  4.7500  4.3750  4.6250  4.5000  4.50  4.500  4.625   \n",
       "\n",
       "           q5s10  q5s11  q5s12  q5s13  q5s14  q5s15  \n",
       "cluster 0  2.125  1.375  1.625  1.375  1.625  2.125  \n",
       "cluster 6  4.625  4.000  3.750  4.000  4.000  4.000  \n",
       "cluster 7  4.375  4.500  4.375  4.500  4.500  4.500  "
      ]
     },
     "execution_count": 72,
     "metadata": {},
     "output_type": "execute_result"
    }
   ],
   "source": [
    "c"
   ]
  },
  {
   "cell_type": "code",
   "execution_count": 73,
   "metadata": {},
   "outputs": [
    {
     "data": {
      "text/plain": [
       "PCA(copy=True, iterated_power='auto', n_components=2, random_state=None,\n",
       "    svd_solver='auto', tol=0.0, whiten=False)"
      ]
     },
     "execution_count": 73,
     "metadata": {},
     "output_type": "execute_result"
    }
   ],
   "source": [
    "from sklearn.decomposition import PCA\n",
    "\n",
    "pca = PCA(n_components = 2)\n",
    "pca.fit(survey2_clustering_sc)"
   ]
  },
  {
   "cell_type": "code",
   "execution_count": 74,
   "metadata": {},
   "outputs": [
    {
     "name": "stdout",
     "output_type": "stream",
     "text": [
      "[[-0.16232717 -0.20777934 -0.18334501 -0.19844352 -0.21646304 -0.16979921\n",
      "  -0.12992262 -0.16178181 -0.14768062 -0.14152499  0.05953664  0.07868489\n",
      "   0.11313983  0.1036609   0.10011959  0.068808    0.06934086  0.10421344\n",
      "   0.0545607  -0.01292383 -0.13427662 -0.12033515 -0.1388116  -0.09931079\n",
      "  -0.19370433 -0.14358823 -0.20113452 -0.23319247 -0.23022462 -0.22274754\n",
      "  -0.21446645 -0.18633549 -0.17426881 -0.20124916 -0.21871653 -0.22723381\n",
      "  -0.21255945 -0.12873713]\n",
      " [ 0.02003137 -0.22340863 -0.26597344 -0.20301527 -0.24086255 -0.31016983\n",
      "  -0.28391876 -0.15784436 -0.3069722  -0.23748016  0.05597638 -0.09822965\n",
      "   0.06522174  0.09873274  0.16962646 -0.02166768  0.06919526  0.08617997\n",
      "   0.15633635 -0.0023424   0.00522867 -0.0086543   0.09130294  0.1089228\n",
      "   0.17494709  0.1813819   0.13747314  0.14955262  0.18470465  0.12583829\n",
      "   0.06312411  0.16931301  0.11274272  0.18917485  0.17743554  0.14513539\n",
      "   0.15460095  0.04522144]]\n"
     ]
    }
   ],
   "source": [
    "print(pca.components_)"
   ]
  },
  {
   "cell_type": "code",
   "execution_count": 75,
   "metadata": {},
   "outputs": [
    {
     "name": "stdout",
     "output_type": "stream",
     "text": [
      "explained_variance: [9.73575851 3.42323911]\n"
     ]
    }
   ],
   "source": [
    "print(\"explained_variance: {}\".format(pca.explained_variance_))"
   ]
  },
  {
   "cell_type": "code",
   "execution_count": 76,
   "metadata": {},
   "outputs": [
    {
     "name": "stdout",
     "output_type": "stream",
     "text": [
      "explained_variance_ratio: [0.25525174 0.08975035]\n"
     ]
    }
   ],
   "source": [
    "print(\"explained_variance_ratio: {}\".format(pca.explained_variance_ratio_))"
   ]
  },
  {
   "cell_type": "code",
   "execution_count": 77,
   "metadata": {},
   "outputs": [
    {
     "ename": "TypeError",
     "evalue": "scatter() missing 1 required positional argument: 'y'",
     "output_type": "error",
     "traceback": [
      "\u001b[0;31m---------------------------------------------------------------------------\u001b[0m",
      "\u001b[0;31mTypeError\u001b[0m                                 Traceback (most recent call last)",
      "\u001b[0;32m<ipython-input-77-2908f15917af>\u001b[0m in \u001b[0;36m<module>\u001b[0;34m\u001b[0m\n\u001b[1;32m      9\u001b[0m \u001b[0;34m\u001b[0m\u001b[0m\n\u001b[1;32m     10\u001b[0m \u001b[0;31m# 元のデータをプロット\u001b[0m\u001b[0;34m\u001b[0m\u001b[0;34m\u001b[0m\u001b[0;34m\u001b[0m\u001b[0m\n\u001b[0;32m---> 11\u001b[0;31m \u001b[0mplt\u001b[0m\u001b[0;34m.\u001b[0m\u001b[0mscatter\u001b[0m\u001b[0;34m(\u001b[0m\u001b[0msurvey2_clustering_sc\u001b[0m\u001b[0;34m,\u001b[0m \u001b[0malpha\u001b[0m \u001b[0;34m=\u001b[0m \u001b[0;36m0.2\u001b[0m\u001b[0;34m)\u001b[0m\u001b[0;34m\u001b[0m\u001b[0;34m\u001b[0m\u001b[0m\n\u001b[0m\u001b[1;32m     12\u001b[0m \u001b[0;34m\u001b[0m\u001b[0m\n\u001b[1;32m     13\u001b[0m \u001b[0;31m# 主成分分析の2軸を矢印で表示する\u001b[0m\u001b[0;34m\u001b[0m\u001b[0;34m\u001b[0m\u001b[0;34m\u001b[0m\u001b[0m\n",
      "\u001b[0;31mTypeError\u001b[0m: scatter() missing 1 required positional argument: 'y'"
     ]
    }
   ],
   "source": [
    "# plot\n",
    "\n",
    "# パラメータ設定\n",
    "arrowprops = dict(arrowstyle='->', linewidth = 2, shrinkA = 0, shrinkB = 0)\n",
    "\n",
    "# 矢印を書くための関数\n",
    "def draw_vector(v0, v1):\n",
    "    plt.gca().annotate('', v1, v0, arrowprops = arrowprops)\n",
    "    \n",
    "# 元のデータをプロット\n",
    "plt.scatter(survey2_clustering_sc, alpha = 0.2)\n",
    "\n",
    "# 主成分分析の2軸を矢印で表示する\n",
    "for length, vector in zip(pca.explained_variance_, pca.components_):\n",
    "    v = vector * 3 * np.sqrt(length)\n",
    "    draw_vector(pca.mean_, pca.mean_ + v)\n",
    "    \n",
    "plt.axis('equal')"
   ]
  },
  {
   "cell_type": "code",
   "execution_count": 78,
   "metadata": {},
   "outputs": [
    {
     "name": "stdout",
     "output_type": "stream",
     "text": [
      "survey2_pca shape: (269, 2)\n"
     ]
    }
   ],
   "source": [
    "survey2_pca = pca.transform(survey2_clustering_sc)\n",
    "print(\"survey2_pca shape: {}\".format(survey2_pca.shape))"
   ]
  },
  {
   "cell_type": "code",
   "execution_count": 79,
   "metadata": {},
   "outputs": [],
   "source": [
    "# retuniraberuwotukeru\n",
    "survey2_pca = pd.DataFrame(survey2_pca, columns = [\"pc1\", \"pc2\"])\n",
    "\n",
    "# 上のデータに、目的変数（survey2_clustering.q6）を紐付ける、横に結合\n",
    "survey2_pca = pd.concat([survey2_pca, pd.DataFrame(survey2_clustering.q6, columns=[\"q6\"])], axis = 1)\n",
    "\n",
    "# 良い評価、悪い評価を分ける\n",
    "pca_q6Good = survey2_pca[(survey2_pca['q6']==1) | (survey2_pca['q6']==2)]\n",
    "pca_q6Bad = survey2_pca[(survey2_pca['q6']==4) | (survey2_pca['q6']==5)]"
   ]
  },
  {
   "cell_type": "code",
   "execution_count": 80,
   "metadata": {},
   "outputs": [
    {
     "data": {
      "image/png": "[encoded data removed]",
      "text/plain": [
       "<Figure size 432x288 with 1 Axes>"
      ]
     },
     "metadata": {
      "needs_background": "light"
     },
     "output_type": "display_data"
    }
   ],
   "source": [
    "# 悪い評価をプロット\n",
    "ax = pca_q6Bad.plot.scatter(x = 'pc1', y = 'pc2', color = 'red', label = 'Bad');\n",
    "\n",
    "# 良い評価をプロット\n",
    "pca_q6Good.plot.scatter(x = 'pc1', y = 'pc2', color = 'blue', label = 'Good', ax = ax);"
   ]
  },
  {
   "cell_type": "markdown",
   "metadata": {},
   "source": [
    "失敗では？ww"
   ]
  },
  {
   "cell_type": "code",
   "execution_count": 81,
   "metadata": {},
   "outputs": [
    {
     "data": {
      "text/html": [
       "<div>\n",
       "<style scoped>\n",
       "    .dataframe tbody tr th:only-of-type {\n",
       "        vertical-align: middle;\n",
       "    }\n",
       "\n",
       "    .dataframe tbody tr th {\n",
       "        vertical-align: top;\n",
       "    }\n",
       "\n",
       "    .dataframe thead th {\n",
       "        text-align: right;\n",
       "    }\n",
       "</style>\n",
       "<table border=\"1\" class=\"dataframe\">\n",
       "  <thead>\n",
       "    <tr style=\"text-align: right;\">\n",
       "      <th></th>\n",
       "      <th>q1s1</th>\n",
       "      <th>q1s2</th>\n",
       "      <th>q1s3</th>\n",
       "      <th>q1s4</th>\n",
       "      <th>q1s5</th>\n",
       "      <th>q1s6</th>\n",
       "      <th>q1s7</th>\n",
       "      <th>q1s8</th>\n",
       "      <th>q1s9</th>\n",
       "      <th>q1s10</th>\n",
       "      <th>...</th>\n",
       "      <th>q5s8</th>\n",
       "      <th>q5s9</th>\n",
       "      <th>q5s10</th>\n",
       "      <th>q5s11</th>\n",
       "      <th>q5s12</th>\n",
       "      <th>q5s13</th>\n",
       "      <th>q5s14</th>\n",
       "      <th>q5s15</th>\n",
       "      <th>q6</th>\n",
       "      <th>cluster</th>\n",
       "    </tr>\n",
       "  </thead>\n",
       "  <tbody>\n",
       "    <tr>\n",
       "      <td>0</td>\n",
       "      <td>3</td>\n",
       "      <td>3</td>\n",
       "      <td>3</td>\n",
       "      <td>3</td>\n",
       "      <td>3</td>\n",
       "      <td>3</td>\n",
       "      <td>2</td>\n",
       "      <td>3</td>\n",
       "      <td>3</td>\n",
       "      <td>3</td>\n",
       "      <td>...</td>\n",
       "      <td>5</td>\n",
       "      <td>5</td>\n",
       "      <td>5</td>\n",
       "      <td>5</td>\n",
       "      <td>5</td>\n",
       "      <td>5</td>\n",
       "      <td>5</td>\n",
       "      <td>4</td>\n",
       "      <td>5</td>\n",
       "      <td>0</td>\n",
       "    </tr>\n",
       "    <tr>\n",
       "      <td>1</td>\n",
       "      <td>3</td>\n",
       "      <td>3</td>\n",
       "      <td>3</td>\n",
       "      <td>3</td>\n",
       "      <td>3</td>\n",
       "      <td>3</td>\n",
       "      <td>3</td>\n",
       "      <td>2</td>\n",
       "      <td>3</td>\n",
       "      <td>3</td>\n",
       "      <td>...</td>\n",
       "      <td>1</td>\n",
       "      <td>5</td>\n",
       "      <td>5</td>\n",
       "      <td>5</td>\n",
       "      <td>5</td>\n",
       "      <td>5</td>\n",
       "      <td>5</td>\n",
       "      <td>5</td>\n",
       "      <td>5</td>\n",
       "      <td>0</td>\n",
       "    </tr>\n",
       "    <tr>\n",
       "      <td>2</td>\n",
       "      <td>3</td>\n",
       "      <td>3</td>\n",
       "      <td>3</td>\n",
       "      <td>3</td>\n",
       "      <td>3</td>\n",
       "      <td>3</td>\n",
       "      <td>1</td>\n",
       "      <td>3</td>\n",
       "      <td>3</td>\n",
       "      <td>3</td>\n",
       "      <td>...</td>\n",
       "      <td>3</td>\n",
       "      <td>4</td>\n",
       "      <td>4</td>\n",
       "      <td>4</td>\n",
       "      <td>4</td>\n",
       "      <td>4</td>\n",
       "      <td>4</td>\n",
       "      <td>4</td>\n",
       "      <td>2</td>\n",
       "      <td>0</td>\n",
       "    </tr>\n",
       "    <tr>\n",
       "      <td>3</td>\n",
       "      <td>2</td>\n",
       "      <td>3</td>\n",
       "      <td>3</td>\n",
       "      <td>3</td>\n",
       "      <td>3</td>\n",
       "      <td>3</td>\n",
       "      <td>3</td>\n",
       "      <td>3</td>\n",
       "      <td>3</td>\n",
       "      <td>3</td>\n",
       "      <td>...</td>\n",
       "      <td>4</td>\n",
       "      <td>5</td>\n",
       "      <td>3</td>\n",
       "      <td>5</td>\n",
       "      <td>4</td>\n",
       "      <td>5</td>\n",
       "      <td>5</td>\n",
       "      <td>4</td>\n",
       "      <td>3</td>\n",
       "      <td>0</td>\n",
       "    </tr>\n",
       "    <tr>\n",
       "      <td>4</td>\n",
       "      <td>3</td>\n",
       "      <td>3</td>\n",
       "      <td>3</td>\n",
       "      <td>2</td>\n",
       "      <td>3</td>\n",
       "      <td>3</td>\n",
       "      <td>3</td>\n",
       "      <td>3</td>\n",
       "      <td>3</td>\n",
       "      <td>3</td>\n",
       "      <td>...</td>\n",
       "      <td>5</td>\n",
       "      <td>5</td>\n",
       "      <td>2</td>\n",
       "      <td>5</td>\n",
       "      <td>2</td>\n",
       "      <td>5</td>\n",
       "      <td>4</td>\n",
       "      <td>3</td>\n",
       "      <td>5</td>\n",
       "      <td>0</td>\n",
       "    </tr>\n",
       "    <tr>\n",
       "      <td>5</td>\n",
       "      <td>2</td>\n",
       "      <td>3</td>\n",
       "      <td>3</td>\n",
       "      <td>3</td>\n",
       "      <td>3</td>\n",
       "      <td>3</td>\n",
       "      <td>3</td>\n",
       "      <td>3</td>\n",
       "      <td>3</td>\n",
       "      <td>3</td>\n",
       "      <td>...</td>\n",
       "      <td>5</td>\n",
       "      <td>5</td>\n",
       "      <td>3</td>\n",
       "      <td>5</td>\n",
       "      <td>5</td>\n",
       "      <td>5</td>\n",
       "      <td>5</td>\n",
       "      <td>2</td>\n",
       "      <td>4</td>\n",
       "      <td>0</td>\n",
       "    </tr>\n",
       "    <tr>\n",
       "      <td>6</td>\n",
       "      <td>2</td>\n",
       "      <td>3</td>\n",
       "      <td>3</td>\n",
       "      <td>3</td>\n",
       "      <td>3</td>\n",
       "      <td>3</td>\n",
       "      <td>3</td>\n",
       "      <td>3</td>\n",
       "      <td>3</td>\n",
       "      <td>3</td>\n",
       "      <td>...</td>\n",
       "      <td>5</td>\n",
       "      <td>4</td>\n",
       "      <td>5</td>\n",
       "      <td>5</td>\n",
       "      <td>5</td>\n",
       "      <td>5</td>\n",
       "      <td>5</td>\n",
       "      <td>5</td>\n",
       "      <td>3</td>\n",
       "      <td>0</td>\n",
       "    </tr>\n",
       "    <tr>\n",
       "      <td>7</td>\n",
       "      <td>2</td>\n",
       "      <td>3</td>\n",
       "      <td>3</td>\n",
       "      <td>3</td>\n",
       "      <td>3</td>\n",
       "      <td>3</td>\n",
       "      <td>3</td>\n",
       "      <td>3</td>\n",
       "      <td>3</td>\n",
       "      <td>3</td>\n",
       "      <td>...</td>\n",
       "      <td>5</td>\n",
       "      <td>5</td>\n",
       "      <td>3</td>\n",
       "      <td>5</td>\n",
       "      <td>5</td>\n",
       "      <td>5</td>\n",
       "      <td>3</td>\n",
       "      <td>3</td>\n",
       "      <td>5</td>\n",
       "      <td>0</td>\n",
       "    </tr>\n",
       "    <tr>\n",
       "      <td>8</td>\n",
       "      <td>2</td>\n",
       "      <td>3</td>\n",
       "      <td>3</td>\n",
       "      <td>3</td>\n",
       "      <td>3</td>\n",
       "      <td>3</td>\n",
       "      <td>3</td>\n",
       "      <td>3</td>\n",
       "      <td>3</td>\n",
       "      <td>3</td>\n",
       "      <td>...</td>\n",
       "      <td>4</td>\n",
       "      <td>5</td>\n",
       "      <td>5</td>\n",
       "      <td>5</td>\n",
       "      <td>5</td>\n",
       "      <td>5</td>\n",
       "      <td>5</td>\n",
       "      <td>2</td>\n",
       "      <td>5</td>\n",
       "      <td>0</td>\n",
       "    </tr>\n",
       "    <tr>\n",
       "      <td>9</td>\n",
       "      <td>2</td>\n",
       "      <td>3</td>\n",
       "      <td>3</td>\n",
       "      <td>3</td>\n",
       "      <td>3</td>\n",
       "      <td>3</td>\n",
       "      <td>3</td>\n",
       "      <td>2</td>\n",
       "      <td>3</td>\n",
       "      <td>3</td>\n",
       "      <td>...</td>\n",
       "      <td>4</td>\n",
       "      <td>5</td>\n",
       "      <td>5</td>\n",
       "      <td>5</td>\n",
       "      <td>5</td>\n",
       "      <td>5</td>\n",
       "      <td>4</td>\n",
       "      <td>5</td>\n",
       "      <td>3</td>\n",
       "      <td>0</td>\n",
       "    </tr>\n",
       "    <tr>\n",
       "      <td>10</td>\n",
       "      <td>1</td>\n",
       "      <td>3</td>\n",
       "      <td>3</td>\n",
       "      <td>3</td>\n",
       "      <td>3</td>\n",
       "      <td>3</td>\n",
       "      <td>3</td>\n",
       "      <td>3</td>\n",
       "      <td>3</td>\n",
       "      <td>3</td>\n",
       "      <td>...</td>\n",
       "      <td>4</td>\n",
       "      <td>4</td>\n",
       "      <td>4</td>\n",
       "      <td>4</td>\n",
       "      <td>4</td>\n",
       "      <td>4</td>\n",
       "      <td>4</td>\n",
       "      <td>4</td>\n",
       "      <td>3</td>\n",
       "      <td>0</td>\n",
       "    </tr>\n",
       "    <tr>\n",
       "      <td>11</td>\n",
       "      <td>2</td>\n",
       "      <td>3</td>\n",
       "      <td>3</td>\n",
       "      <td>3</td>\n",
       "      <td>3</td>\n",
       "      <td>3</td>\n",
       "      <td>3</td>\n",
       "      <td>3</td>\n",
       "      <td>3</td>\n",
       "      <td>3</td>\n",
       "      <td>...</td>\n",
       "      <td>4</td>\n",
       "      <td>4</td>\n",
       "      <td>4</td>\n",
       "      <td>5</td>\n",
       "      <td>4</td>\n",
       "      <td>4</td>\n",
       "      <td>4</td>\n",
       "      <td>4</td>\n",
       "      <td>5</td>\n",
       "      <td>0</td>\n",
       "    </tr>\n",
       "    <tr>\n",
       "      <td>12</td>\n",
       "      <td>1</td>\n",
       "      <td>3</td>\n",
       "      <td>2</td>\n",
       "      <td>3</td>\n",
       "      <td>3</td>\n",
       "      <td>3</td>\n",
       "      <td>3</td>\n",
       "      <td>3</td>\n",
       "      <td>3</td>\n",
       "      <td>3</td>\n",
       "      <td>...</td>\n",
       "      <td>5</td>\n",
       "      <td>5</td>\n",
       "      <td>5</td>\n",
       "      <td>5</td>\n",
       "      <td>5</td>\n",
       "      <td>5</td>\n",
       "      <td>5</td>\n",
       "      <td>5</td>\n",
       "      <td>3</td>\n",
       "      <td>0</td>\n",
       "    </tr>\n",
       "    <tr>\n",
       "      <td>13</td>\n",
       "      <td>2</td>\n",
       "      <td>3</td>\n",
       "      <td>3</td>\n",
       "      <td>3</td>\n",
       "      <td>3</td>\n",
       "      <td>3</td>\n",
       "      <td>2</td>\n",
       "      <td>3</td>\n",
       "      <td>3</td>\n",
       "      <td>3</td>\n",
       "      <td>...</td>\n",
       "      <td>4</td>\n",
       "      <td>5</td>\n",
       "      <td>4</td>\n",
       "      <td>4</td>\n",
       "      <td>4</td>\n",
       "      <td>4</td>\n",
       "      <td>4</td>\n",
       "      <td>5</td>\n",
       "      <td>4</td>\n",
       "      <td>0</td>\n",
       "    </tr>\n",
       "    <tr>\n",
       "      <td>14</td>\n",
       "      <td>3</td>\n",
       "      <td>3</td>\n",
       "      <td>3</td>\n",
       "      <td>3</td>\n",
       "      <td>3</td>\n",
       "      <td>3</td>\n",
       "      <td>2</td>\n",
       "      <td>3</td>\n",
       "      <td>3</td>\n",
       "      <td>3</td>\n",
       "      <td>...</td>\n",
       "      <td>4</td>\n",
       "      <td>4</td>\n",
       "      <td>3</td>\n",
       "      <td>3</td>\n",
       "      <td>4</td>\n",
       "      <td>4</td>\n",
       "      <td>4</td>\n",
       "      <td>3</td>\n",
       "      <td>4</td>\n",
       "      <td>0</td>\n",
       "    </tr>\n",
       "    <tr>\n",
       "      <td>15</td>\n",
       "      <td>2</td>\n",
       "      <td>3</td>\n",
       "      <td>3</td>\n",
       "      <td>3</td>\n",
       "      <td>3</td>\n",
       "      <td>3</td>\n",
       "      <td>3</td>\n",
       "      <td>3</td>\n",
       "      <td>3</td>\n",
       "      <td>3</td>\n",
       "      <td>...</td>\n",
       "      <td>4</td>\n",
       "      <td>4</td>\n",
       "      <td>2</td>\n",
       "      <td>4</td>\n",
       "      <td>4</td>\n",
       "      <td>4</td>\n",
       "      <td>4</td>\n",
       "      <td>4</td>\n",
       "      <td>4</td>\n",
       "      <td>0</td>\n",
       "    </tr>\n",
       "  </tbody>\n",
       "</table>\n",
       "<p>16 rows × 39 columns</p>\n",
       "</div>"
      ],
      "text/plain": [
       "    q1s1  q1s2  q1s3  q1s4  q1s5  q1s6  q1s7  q1s8  q1s9  q1s10  ...  q5s8  \\\n",
       "0      3     3     3     3     3     3     2     3     3      3  ...     5   \n",
       "1      3     3     3     3     3     3     3     2     3      3  ...     1   \n",
       "2      3     3     3     3     3     3     1     3     3      3  ...     3   \n",
       "3      2     3     3     3     3     3     3     3     3      3  ...     4   \n",
       "4      3     3     3     2     3     3     3     3     3      3  ...     5   \n",
       "5      2     3     3     3     3     3     3     3     3      3  ...     5   \n",
       "6      2     3     3     3     3     3     3     3     3      3  ...     5   \n",
       "7      2     3     3     3     3     3     3     3     3      3  ...     5   \n",
       "8      2     3     3     3     3     3     3     3     3      3  ...     4   \n",
       "9      2     3     3     3     3     3     3     2     3      3  ...     4   \n",
       "10     1     3     3     3     3     3     3     3     3      3  ...     4   \n",
       "11     2     3     3     3     3     3     3     3     3      3  ...     4   \n",
       "12     1     3     2     3     3     3     3     3     3      3  ...     5   \n",
       "13     2     3     3     3     3     3     2     3     3      3  ...     4   \n",
       "14     3     3     3     3     3     3     2     3     3      3  ...     4   \n",
       "15     2     3     3     3     3     3     3     3     3      3  ...     4   \n",
       "\n",
       "    q5s9  q5s10  q5s11  q5s12  q5s13  q5s14  q5s15  q6  cluster  \n",
       "0      5      5      5      5      5      5      4   5        0  \n",
       "1      5      5      5      5      5      5      5   5        0  \n",
       "2      4      4      4      4      4      4      4   2        0  \n",
       "3      5      3      5      4      5      5      4   3        0  \n",
       "4      5      2      5      2      5      4      3   5        0  \n",
       "5      5      3      5      5      5      5      2   4        0  \n",
       "6      4      5      5      5      5      5      5   3        0  \n",
       "7      5      3      5      5      5      3      3   5        0  \n",
       "8      5      5      5      5      5      5      2   5        0  \n",
       "9      5      5      5      5      5      4      5   3        0  \n",
       "10     4      4      4      4      4      4      4   3        0  \n",
       "11     4      4      5      4      4      4      4   5        0  \n",
       "12     5      5      5      5      5      5      5   3        0  \n",
       "13     5      4      4      4      4      4      5   4        0  \n",
       "14     4      3      3      4      4      4      3   4        0  \n",
       "15     4      2      4      4      4      4      4   4        0  \n",
       "\n",
       "[16 rows x 39 columns]"
      ]
     },
     "execution_count": 81,
     "metadata": {},
     "output_type": "execute_result"
    }
   ],
   "source": [
    "cluster0"
   ]
  },
  {
   "cell_type": "code",
   "execution_count": 82,
   "metadata": {},
   "outputs": [
    {
     "data": {
      "text/plain": [
       "q1s1     2.1875\n",
       "q1s2     3.0000\n",
       "q1s3     2.9375\n",
       "q1s4     2.9375\n",
       "q1s5     3.0000\n",
       "q1s6     3.0000\n",
       "q1s7     2.6875\n",
       "q1s8     2.8750\n",
       "q1s9     3.0000\n",
       "q1s10    3.0000\n",
       "dtype: float64"
      ]
     },
     "execution_count": 82,
     "metadata": {},
     "output_type": "execute_result"
    }
   ],
   "source": [
    "cluster0.loc[:, [\"q1s1\", \"q1s2\", \"q1s3\", \"q1s4\", \"q1s5\", \"q1s6\", \"q1s7\", \"q1s8\", \"q1s9\", \"q1s10\"]].mean()"
   ]
  },
  {
   "cell_type": "code",
   "execution_count": 83,
   "metadata": {},
   "outputs": [
    {
     "data": {
      "text/plain": [
       "q1s1     1.375\n",
       "q1s2     1.625\n",
       "q1s3     1.875\n",
       "q1s4     2.375\n",
       "q1s5     2.125\n",
       "q1s6     2.375\n",
       "q1s7     1.750\n",
       "q1s8     2.000\n",
       "q1s9     2.500\n",
       "q1s10    2.625\n",
       "dtype: float64"
      ]
     },
     "execution_count": 83,
     "metadata": {},
     "output_type": "execute_result"
    }
   ],
   "source": [
    "cluster6.loc[:, [\"q1s1\", \"q1s2\", \"q1s3\", \"q1s4\", \"q1s5\", \"q1s6\", \"q1s7\", \"q1s8\", \"q1s9\", \"q1s10\"]].mean()"
   ]
  },
  {
   "cell_type": "code",
   "execution_count": 84,
   "metadata": {},
   "outputs": [],
   "source": [
    "cluster1 = survey2_clustering[survey2_clustering[\"cluster\"]==1]"
   ]
  },
  {
   "cell_type": "code",
   "execution_count": 85,
   "metadata": {},
   "outputs": [],
   "source": [
    "cluster2 = survey2_clustering[survey2_clustering[\"cluster\"]==2]\n",
    "cluster3 = survey2_clustering[survey2_clustering[\"cluster\"]==3]\n",
    "cluster4 = survey2_clustering[survey2_clustering[\"cluster\"]==4]\n",
    "cluster5 = survey2_clustering[survey2_clustering[\"cluster\"]==5]"
   ]
  },
  {
   "cell_type": "code",
   "execution_count": 86,
   "metadata": {},
   "outputs": [
    {
     "data": {
      "text/plain": [
       "q1s1       1.538462\n",
       "q1s2       1.846154\n",
       "q1s3       1.923077\n",
       "q1s4       2.000000\n",
       "q1s5       1.961538\n",
       "q1s6       2.230769\n",
       "q1s7       2.000000\n",
       "q1s8       2.346154\n",
       "q1s9       2.346154\n",
       "q1s10      2.423077\n",
       "q2c1       0.038462\n",
       "q2c2       0.115385\n",
       "q2c3       0.423077\n",
       "q2c4       0.346154\n",
       "q2c5       0.000000\n",
       "q2c6       0.192308\n",
       "q2c7       0.500000\n",
       "q2c8       0.076923\n",
       "q2c9       0.192308\n",
       "q2c10      0.076923\n",
       "q3         3.461538\n",
       "q4         4.576923\n",
       "q5s1       2.653846\n",
       "q5s2       2.923077\n",
       "q5s3       2.192308\n",
       "q5s4       2.615385\n",
       "q5s5       2.884615\n",
       "q5s6       2.307692\n",
       "q5s7       2.884615\n",
       "q5s8       2.615385\n",
       "q5s9       2.884615\n",
       "q5s10      2.384615\n",
       "q5s11      2.961538\n",
       "q5s12      2.423077\n",
       "q5s13      2.884615\n",
       "q5s14      2.807692\n",
       "q5s15      2.423077\n",
       "q6         2.846154\n",
       "cluster    1.000000\n",
       "dtype: float64"
      ]
     },
     "execution_count": 86,
     "metadata": {},
     "output_type": "execute_result"
    }
   ],
   "source": [
    "cluster1.mean()"
   ]
  },
  {
   "cell_type": "code",
   "execution_count": 87,
   "metadata": {},
   "outputs": [
    {
     "name": "stdout",
     "output_type": "stream",
     "text": [
      "[[2, 7, 16, 0, 1], [2, 4, 16, 2, 2], [4, 13, 9, 0, 0], [2, 7, 16, 1, 0], [1, 8, 12, 3, 2], [4, 10, 12, 0, 0], [0, 8, 14, 3, 1], [1, 10, 14, 0, 1], [1, 7, 13, 4, 1], [4, 8, 14, 0, 0], [0, 7, 15, 2, 2], [4, 9, 12, 0, 1], [1, 6, 15, 3, 1], [0, 7, 18, 0, 1], [3, 11, 10, 2, 0]]\n",
      "cluster1:  [3.3461538461538463, 3.076923076923077, 3.8076923076923075, 3.3846153846153846, 3.1153846153846154, 3.6923076923076925, 3.1153846153846154, 3.3846153846153846, 3.1153846153846154, 3.6153846153846154, 3.0384615384615383, 3.576923076923077, 3.1153846153846154, 3.1923076923076925, 3.576923076923077]\n"
     ]
    }
   ],
   "source": [
    "# クラスター１、２、３、４、５について\n",
    "# Q5、６を計算\n",
    "cluster1 = cluster1.reset_index(drop=True)\n",
    "cnt = [[0,0,0,0,0] for _ in range(15)]\n",
    "for i in range(len(q5_cols)):\n",
    "    for j in range(len(cluster1)):\n",
    "        tmp = cluster1[q5_cols[i]][j]\n",
    "        tmp -= 1\n",
    "        cnt[i][tmp] += 1\n",
    "print(cnt)\n",
    "res1 = []\n",
    "for i in range(15):\n",
    "    tmp = cnt[i]\n",
    "    tmp = np.array(tmp)\n",
    "    ans = sum(tmp*score)\n",
    "    ans /= len(cluster1)\n",
    "    res1.append(ans)\n",
    "print(\"cluster1: \", res1)"
   ]
  },
  {
   "cell_type": "code",
   "execution_count": 88,
   "metadata": {},
   "outputs": [
    {
     "name": "stdout",
     "output_type": "stream",
     "text": [
      "[[12, 28, 17, 3, 2], [8, 24, 18, 6, 6], [19, 37, 5, 1, 0], [13, 34, 13, 1, 1], [7, 29, 20, 6, 0], [9, 39, 14, 0, 0], [10, 38, 11, 3, 0], [11, 39, 9, 2, 1], [3, 31, 20, 6, 2], [19, 32, 9, 2, 0], [3, 25, 26, 2, 6], [14, 37, 11, 0, 0], [11, 41, 10, 0, 0], [8, 36, 16, 2, 0], [21, 31, 9, 1, 0]]\n",
      "cluster2:  [3.725806451612903, 3.3548387096774195, 4.193548387096774, 3.9193548387096775, 3.596774193548387, 3.9193548387096775, 3.8870967741935485, 3.9193548387096775, 3.435483870967742, 4.096774193548387, 3.274193548387097, 4.048387096774194, 4.016129032258065, 3.806451612903226, 4.161290322580645]\n"
     ]
    }
   ],
   "source": [
    "cluster2 = cluster2.reset_index(drop=True)\n",
    "cnt = [[0,0,0,0,0] for _ in range(15)]\n",
    "for i in range(len(q5_cols)):\n",
    "    for j in range(len(cluster2)):\n",
    "        tmp = cluster2[q5_cols[i]][j]\n",
    "        tmp -= 1\n",
    "        cnt[i][tmp] += 1\n",
    "print(cnt)\n",
    "res2 = []\n",
    "for i in range(15):\n",
    "    tmp = cnt[i]\n",
    "    tmp = np.array(tmp)\n",
    "    ans = sum(tmp*score)\n",
    "    ans /= len(cluster2)\n",
    "    res2.append(ans)\n",
    "print(\"cluster2: \", res2)"
   ]
  },
  {
   "cell_type": "code",
   "execution_count": 89,
   "metadata": {},
   "outputs": [
    {
     "name": "stdout",
     "output_type": "stream",
     "text": [
      "[[10, 30, 42, 9, 2], [8, 33, 40, 9, 3], [10, 51, 30, 2, 0], [6, 38, 41, 5, 3], [0, 11, 59, 16, 7], [1, 24, 59, 8, 1], [0, 22, 57, 13, 1], [2, 13, 59, 16, 3], [0, 8, 56, 23, 6], [5, 43, 42, 2, 1], [1, 11, 50, 27, 4], [4, 30, 51, 8, 0], [1, 19, 60, 11, 2], [2, 13, 63, 14, 1], [4, 24, 52, 12, 1]]\n",
      "cluster3:  [3.3978494623655915, 3.3655913978494625, 3.7419354838709675, 3.4193548387096775, 2.795698924731183, 3.172043010752688, 3.075268817204301, 2.946236559139785, 2.7096774193548385, 3.5268817204301075, 2.763440860215054, 3.3225806451612905, 3.064516129032258, 3.010752688172043, 3.193548387096774]\n"
     ]
    }
   ],
   "source": [
    "cluster3 = cluster3.reset_index(drop=True)\n",
    "cnt = [[0,0,0,0,0] for _ in range(15)]\n",
    "for i in range(len(q5_cols)):\n",
    "    for j in range(len(cluster3)):\n",
    "        tmp = cluster3[q5_cols[i]][j]\n",
    "        tmp -= 1\n",
    "        cnt[i][tmp] += 1\n",
    "print(cnt)\n",
    "res3 = []\n",
    "for i in range(15):\n",
    "    tmp = cnt[i]\n",
    "    tmp = np.array(tmp)\n",
    "    ans = sum(tmp*score)\n",
    "    ans /= len(cluster3)\n",
    "    res3.append(ans)\n",
    "print(\"cluster3: \", res3)"
   ]
  },
  {
   "cell_type": "code",
   "execution_count": 90,
   "metadata": {},
   "outputs": [
    {
     "name": "stdout",
     "output_type": "stream",
     "text": [
      "[[22, 7, 7, 0, 0], [17, 14, 3, 2, 0], [35, 1, 0, 0, 0], [23, 13, 0, 0, 0], [16, 12, 5, 1, 2], [19, 17, 0, 0, 0], [25, 8, 3, 0, 0], [21, 13, 2, 0, 0], [12, 13, 6, 3, 2], [19, 13, 4, 0, 0], [12, 7, 8, 5, 4], [18, 13, 4, 1, 0], [19, 10, 5, 2, 0], [17, 15, 4, 0, 0], [28, 7, 0, 1, 0]]\n",
      "cluster4:  [4.416666666666667, 4.277777777777778, 4.972222222222222, 4.638888888888889, 4.083333333333333, 4.527777777777778, 4.611111111111111, 4.527777777777778, 3.8333333333333335, 4.416666666666667, 3.5, 4.333333333333333, 4.277777777777778, 4.361111111111111, 4.722222222222222]\n"
     ]
    }
   ],
   "source": [
    "cluster4 = cluster4.reset_index(drop=True)\n",
    "cnt = [[0,0,0,0,0] for _ in range(15)]\n",
    "for i in range(len(q5_cols)):\n",
    "    for j in range(len(cluster4)):\n",
    "        tmp = cluster4[q5_cols[i]][j]\n",
    "        tmp -= 1\n",
    "        cnt[i][tmp] += 1\n",
    "print(cnt)\n",
    "res4 = []\n",
    "for i in range(15):\n",
    "    tmp = cnt[i]\n",
    "    tmp = np.array(tmp)\n",
    "    ans = sum(tmp*score)\n",
    "    ans /= len(cluster4)\n",
    "    res4.append(ans)\n",
    "print(\"cluster4: \", res4)"
   ]
  },
  {
   "cell_type": "code",
   "execution_count": 91,
   "metadata": {},
   "outputs": [
    {
     "name": "stdout",
     "output_type": "stream",
     "text": [
      "[[2, 8, 6, 3, 1], [2, 5, 9, 3, 1], [4, 11, 4, 1, 0], [3, 7, 9, 1, 0], [3, 7, 8, 1, 1], [2, 7, 11, 0, 0], [3, 8, 7, 1, 1], [2, 6, 10, 2, 0], [3, 7, 7, 2, 1], [3, 8, 8, 0, 1], [1, 6, 10, 2, 1], [4, 6, 10, 0, 0], [3, 4, 9, 3, 1], [2, 9, 6, 2, 1], [5, 6, 8, 1, 0]]\n",
      "cluster5:  [3.35, 3.2, 3.9, 3.6, 3.5, 3.55, 3.55, 3.4, 3.45, 3.6, 3.2, 3.7, 3.25, 3.45, 3.75]\n"
     ]
    }
   ],
   "source": [
    "cluster5 = cluster5.reset_index(drop=True)\n",
    "cnt = [[0,0,0,0,0] for _ in range(15)]\n",
    "for i in range(len(q5_cols)):\n",
    "    for j in range(len(cluster5)):\n",
    "        tmp = cluster5[q5_cols[i]][j]\n",
    "        tmp -= 1\n",
    "        cnt[i][tmp] += 1\n",
    "print(cnt)\n",
    "res5 = []\n",
    "for i in range(15):\n",
    "    tmp = cnt[i]\n",
    "    tmp = np.array(tmp)\n",
    "    ans = sum(tmp*score)\n",
    "    ans /= len(cluster5)\n",
    "    res5.append(ans)\n",
    "print(\"cluster5: \", res5)"
   ]
  },
  {
   "cell_type": "code",
   "execution_count": 92,
   "metadata": {},
   "outputs": [],
   "source": [
    "c = np.concatenate((res0,res1,res2,res3,res4,res5,res6,res7), axis = 0)\n",
    "c.resize(8,15)\n",
    "c = pd.DataFrame(c,index = [\"cluster 0\",\"cluster 1\",\"cluster 2\",\"cluster 3\",\"cluster 4\",\"cluster 5\", \"cluster 6\", \"cluster 7\"], columns = q5_cols)"
   ]
  },
  {
   "cell_type": "code",
   "execution_count": 93,
   "metadata": {
    "scrolled": false
   },
   "outputs": [
    {
     "data": {
      "text/html": [
       "<div>\n",
       "<style scoped>\n",
       "    .dataframe tbody tr th:only-of-type {\n",
       "        vertical-align: middle;\n",
       "    }\n",
       "\n",
       "    .dataframe tbody tr th {\n",
       "        vertical-align: top;\n",
       "    }\n",
       "\n",
       "    .dataframe thead th {\n",
       "        text-align: right;\n",
       "    }\n",
       "</style>\n",
       "<table border=\"1\" class=\"dataframe\">\n",
       "  <thead>\n",
       "    <tr style=\"text-align: right;\">\n",
       "      <th></th>\n",
       "      <th>q5s1</th>\n",
       "      <th>q5s2</th>\n",
       "      <th>q5s3</th>\n",
       "      <th>q5s4</th>\n",
       "      <th>q5s5</th>\n",
       "      <th>q5s6</th>\n",
       "      <th>q5s7</th>\n",
       "      <th>q5s8</th>\n",
       "      <th>q5s9</th>\n",
       "      <th>q5s10</th>\n",
       "      <th>q5s11</th>\n",
       "      <th>q5s12</th>\n",
       "      <th>q5s13</th>\n",
       "      <th>q5s14</th>\n",
       "      <th>q5s15</th>\n",
       "    </tr>\n",
       "  </thead>\n",
       "  <tbody>\n",
       "    <tr>\n",
       "      <td>cluster 0</td>\n",
       "      <td>2.875000</td>\n",
       "      <td>2.625000</td>\n",
       "      <td>2.437500</td>\n",
       "      <td>3.062500</td>\n",
       "      <td>1.562500</td>\n",
       "      <td>2.062500</td>\n",
       "      <td>1.500000</td>\n",
       "      <td>1.875000</td>\n",
       "      <td>1.375000</td>\n",
       "      <td>2.125000</td>\n",
       "      <td>1.375000</td>\n",
       "      <td>1.625000</td>\n",
       "      <td>1.375000</td>\n",
       "      <td>1.625000</td>\n",
       "      <td>2.125000</td>\n",
       "    </tr>\n",
       "    <tr>\n",
       "      <td>cluster 1</td>\n",
       "      <td>3.346154</td>\n",
       "      <td>3.076923</td>\n",
       "      <td>3.807692</td>\n",
       "      <td>3.384615</td>\n",
       "      <td>3.115385</td>\n",
       "      <td>3.692308</td>\n",
       "      <td>3.115385</td>\n",
       "      <td>3.384615</td>\n",
       "      <td>3.115385</td>\n",
       "      <td>3.615385</td>\n",
       "      <td>3.038462</td>\n",
       "      <td>3.576923</td>\n",
       "      <td>3.115385</td>\n",
       "      <td>3.192308</td>\n",
       "      <td>3.576923</td>\n",
       "    </tr>\n",
       "    <tr>\n",
       "      <td>cluster 2</td>\n",
       "      <td>3.725806</td>\n",
       "      <td>3.354839</td>\n",
       "      <td>4.193548</td>\n",
       "      <td>3.919355</td>\n",
       "      <td>3.596774</td>\n",
       "      <td>3.919355</td>\n",
       "      <td>3.887097</td>\n",
       "      <td>3.919355</td>\n",
       "      <td>3.435484</td>\n",
       "      <td>4.096774</td>\n",
       "      <td>3.274194</td>\n",
       "      <td>4.048387</td>\n",
       "      <td>4.016129</td>\n",
       "      <td>3.806452</td>\n",
       "      <td>4.161290</td>\n",
       "    </tr>\n",
       "    <tr>\n",
       "      <td>cluster 3</td>\n",
       "      <td>3.397849</td>\n",
       "      <td>3.365591</td>\n",
       "      <td>3.741935</td>\n",
       "      <td>3.419355</td>\n",
       "      <td>2.795699</td>\n",
       "      <td>3.172043</td>\n",
       "      <td>3.075269</td>\n",
       "      <td>2.946237</td>\n",
       "      <td>2.709677</td>\n",
       "      <td>3.526882</td>\n",
       "      <td>2.763441</td>\n",
       "      <td>3.322581</td>\n",
       "      <td>3.064516</td>\n",
       "      <td>3.010753</td>\n",
       "      <td>3.193548</td>\n",
       "    </tr>\n",
       "    <tr>\n",
       "      <td>cluster 4</td>\n",
       "      <td>4.416667</td>\n",
       "      <td>4.277778</td>\n",
       "      <td>4.972222</td>\n",
       "      <td>4.638889</td>\n",
       "      <td>4.083333</td>\n",
       "      <td>4.527778</td>\n",
       "      <td>4.611111</td>\n",
       "      <td>4.527778</td>\n",
       "      <td>3.833333</td>\n",
       "      <td>4.416667</td>\n",
       "      <td>3.500000</td>\n",
       "      <td>4.333333</td>\n",
       "      <td>4.277778</td>\n",
       "      <td>4.361111</td>\n",
       "      <td>4.722222</td>\n",
       "    </tr>\n",
       "    <tr>\n",
       "      <td>cluster 5</td>\n",
       "      <td>3.350000</td>\n",
       "      <td>3.200000</td>\n",
       "      <td>3.900000</td>\n",
       "      <td>3.600000</td>\n",
       "      <td>3.500000</td>\n",
       "      <td>3.550000</td>\n",
       "      <td>3.550000</td>\n",
       "      <td>3.400000</td>\n",
       "      <td>3.450000</td>\n",
       "      <td>3.600000</td>\n",
       "      <td>3.200000</td>\n",
       "      <td>3.700000</td>\n",
       "      <td>3.250000</td>\n",
       "      <td>3.450000</td>\n",
       "      <td>3.750000</td>\n",
       "    </tr>\n",
       "    <tr>\n",
       "      <td>cluster 6</td>\n",
       "      <td>4.000000</td>\n",
       "      <td>3.000000</td>\n",
       "      <td>4.000000</td>\n",
       "      <td>3.250000</td>\n",
       "      <td>3.750000</td>\n",
       "      <td>4.125000</td>\n",
       "      <td>4.250000</td>\n",
       "      <td>3.750000</td>\n",
       "      <td>3.750000</td>\n",
       "      <td>4.625000</td>\n",
       "      <td>4.000000</td>\n",
       "      <td>3.750000</td>\n",
       "      <td>4.000000</td>\n",
       "      <td>4.000000</td>\n",
       "      <td>4.000000</td>\n",
       "    </tr>\n",
       "    <tr>\n",
       "      <td>cluster 7</td>\n",
       "      <td>4.500000</td>\n",
       "      <td>4.250000</td>\n",
       "      <td>4.750000</td>\n",
       "      <td>4.375000</td>\n",
       "      <td>4.625000</td>\n",
       "      <td>4.500000</td>\n",
       "      <td>4.500000</td>\n",
       "      <td>4.500000</td>\n",
       "      <td>4.625000</td>\n",
       "      <td>4.375000</td>\n",
       "      <td>4.500000</td>\n",
       "      <td>4.375000</td>\n",
       "      <td>4.500000</td>\n",
       "      <td>4.500000</td>\n",
       "      <td>4.500000</td>\n",
       "    </tr>\n",
       "  </tbody>\n",
       "</table>\n",
       "</div>"
      ],
      "text/plain": [
       "               q5s1      q5s2      q5s3      q5s4      q5s5      q5s6  \\\n",
       "cluster 0  2.875000  2.625000  2.437500  3.062500  1.562500  2.062500   \n",
       "cluster 1  3.346154  3.076923  3.807692  3.384615  3.115385  3.692308   \n",
       "cluster 2  3.725806  3.354839  4.193548  3.919355  3.596774  3.919355   \n",
       "cluster 3  3.397849  3.365591  3.741935  3.419355  2.795699  3.172043   \n",
       "cluster 4  4.416667  4.277778  4.972222  4.638889  4.083333  4.527778   \n",
       "cluster 5  3.350000  3.200000  3.900000  3.600000  3.500000  3.550000   \n",
       "cluster 6  4.000000  3.000000  4.000000  3.250000  3.750000  4.125000   \n",
       "cluster 7  4.500000  4.250000  4.750000  4.375000  4.625000  4.500000   \n",
       "\n",
       "               q5s7      q5s8      q5s9     q5s10     q5s11     q5s12  \\\n",
       "cluster 0  1.500000  1.875000  1.375000  2.125000  1.375000  1.625000   \n",
       "cluster 1  3.115385  3.384615  3.115385  3.615385  3.038462  3.576923   \n",
       "cluster 2  3.887097  3.919355  3.435484  4.096774  3.274194  4.048387   \n",
       "cluster 3  3.075269  2.946237  2.709677  3.526882  2.763441  3.322581   \n",
       "cluster 4  4.611111  4.527778  3.833333  4.416667  3.500000  4.333333   \n",
       "cluster 5  3.550000  3.400000  3.450000  3.600000  3.200000  3.700000   \n",
       "cluster 6  4.250000  3.750000  3.750000  4.625000  4.000000  3.750000   \n",
       "cluster 7  4.500000  4.500000  4.625000  4.375000  4.500000  4.375000   \n",
       "\n",
       "              q5s13     q5s14     q5s15  \n",
       "cluster 0  1.375000  1.625000  2.125000  \n",
       "cluster 1  3.115385  3.192308  3.576923  \n",
       "cluster 2  4.016129  3.806452  4.161290  \n",
       "cluster 3  3.064516  3.010753  3.193548  \n",
       "cluster 4  4.277778  4.361111  4.722222  \n",
       "cluster 5  3.250000  3.450000  3.750000  \n",
       "cluster 6  4.000000  4.000000  4.000000  \n",
       "cluster 7  4.500000  4.500000  4.500000  "
      ]
     },
     "execution_count": 93,
     "metadata": {},
     "output_type": "execute_result"
    }
   ],
   "source": [
    "c"
   ]
  },
  {
   "cell_type": "code",
   "execution_count": null,
   "metadata": {},
   "outputs": [],
   "source": []
  },
  {
   "cell_type": "code",
   "execution_count": null,
   "metadata": {},
   "outputs": [],
   "source": []
  },
  {
   "cell_type": "code",
   "execution_count": null,
   "metadata": {},
   "outputs": [],
   "source": []
  }
 ],
 "metadata": {
  "kernelspec": {
   "display_name": "Python 3",
   "language": "python",
   "name": "python3"
  },
  "language_info": {
   "codemirror_mode": {
    "name": "ipython",
    "version": 3
   },
   "file_extension": ".py",
   "mimetype": "text/x-python",
   "name": "python",
   "nbconvert_exporter": "python",
   "pygments_lexer": "ipython3",
   "version": "3.7.4"
  }
 },
 "nbformat": 4,
 "nbformat_minor": 2
}
