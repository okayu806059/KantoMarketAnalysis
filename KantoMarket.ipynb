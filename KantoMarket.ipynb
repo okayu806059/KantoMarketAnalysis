{
 "cells": [
  {
   "cell_type": "code",
   "execution_count": 2,
   "metadata": {},
   "outputs": [
    {
     "ename": "UnicodeDecodeError",
     "evalue": "'utf-8' codec can't decode byte 0xc9 in position 283: invalid continuation byte",
     "output_type": "error",
     "traceback": [
      "\u001b[0;31m---------------------------------------------------------------------------\u001b[0m",
      "\u001b[0;31mUnicodeDecodeError\u001b[0m                        Traceback (most recent call last)",
      "\u001b[0;32mpandas/_libs/parsers.pyx\u001b[0m in \u001b[0;36mpandas._libs.parsers.TextReader._convert_tokens\u001b[0;34m()\u001b[0m\n",
      "\u001b[0;32mpandas/_libs/parsers.pyx\u001b[0m in \u001b[0;36mpandas._libs.parsers.TextReader._convert_with_dtype\u001b[0;34m()\u001b[0m\n",
      "\u001b[0;32mpandas/_libs/parsers.pyx\u001b[0m in \u001b[0;36mpandas._libs.parsers.TextReader._string_convert\u001b[0;34m()\u001b[0m\n",
      "\u001b[0;32mpandas/_libs/parsers.pyx\u001b[0m in \u001b[0;36mpandas._libs.parsers._string_box_utf8\u001b[0;34m()\u001b[0m\n",
      "\u001b[0;31mUnicodeDecodeError\u001b[0m: 'utf-8' codec can't decode byte 0xc9 in position 283: invalid continuation byte",
      "\nDuring handling of the above exception, another exception occurred:\n",
      "\u001b[0;31mUnicodeDecodeError\u001b[0m                        Traceback (most recent call last)",
      "\u001b[0;32m<ipython-input-2-d0584c1d8e3b>\u001b[0m in \u001b[0;36m<module>\u001b[0;34m\u001b[0m\n\u001b[1;32m      1\u001b[0m \u001b[0;32mimport\u001b[0m \u001b[0mpandas\u001b[0m \u001b[0;32mas\u001b[0m \u001b[0mpd\u001b[0m\u001b[0;34m\u001b[0m\u001b[0;34m\u001b[0m\u001b[0m\n\u001b[0;32m----> 2\u001b[0;31m \u001b[0mRawdata\u001b[0m \u001b[0;34m=\u001b[0m \u001b[0mpd\u001b[0m\u001b[0;34m.\u001b[0m\u001b[0mread_csv\u001b[0m\u001b[0;34m(\u001b[0m\u001b[0;34m\"/Users/yuuki/Desktop/Rawdata.csv\"\u001b[0m\u001b[0;34m)\u001b[0m\u001b[0;34m\u001b[0m\u001b[0;34m\u001b[0m\u001b[0m\n\u001b[0m",
      "\u001b[0;32m~/opt/anaconda3/lib/python3.7/site-packages/pandas/io/parsers.py\u001b[0m in \u001b[0;36mparser_f\u001b[0;34m(filepath_or_buffer, sep, delimiter, header, names, index_col, usecols, squeeze, prefix, mangle_dupe_cols, dtype, engine, converters, true_values, false_values, skipinitialspace, skiprows, skipfooter, nrows, na_values, keep_default_na, na_filter, verbose, skip_blank_lines, parse_dates, infer_datetime_format, keep_date_col, date_parser, dayfirst, cache_dates, iterator, chunksize, compression, thousands, decimal, lineterminator, quotechar, quoting, doublequote, escapechar, comment, encoding, dialect, error_bad_lines, warn_bad_lines, delim_whitespace, low_memory, memory_map, float_precision)\u001b[0m\n\u001b[1;32m    683\u001b[0m         )\n\u001b[1;32m    684\u001b[0m \u001b[0;34m\u001b[0m\u001b[0m\n\u001b[0;32m--> 685\u001b[0;31m         \u001b[0;32mreturn\u001b[0m \u001b[0m_read\u001b[0m\u001b[0;34m(\u001b[0m\u001b[0mfilepath_or_buffer\u001b[0m\u001b[0;34m,\u001b[0m \u001b[0mkwds\u001b[0m\u001b[0;34m)\u001b[0m\u001b[0;34m\u001b[0m\u001b[0;34m\u001b[0m\u001b[0m\n\u001b[0m\u001b[1;32m    686\u001b[0m \u001b[0;34m\u001b[0m\u001b[0m\n\u001b[1;32m    687\u001b[0m     \u001b[0mparser_f\u001b[0m\u001b[0;34m.\u001b[0m\u001b[0m__name__\u001b[0m \u001b[0;34m=\u001b[0m \u001b[0mname\u001b[0m\u001b[0;34m\u001b[0m\u001b[0;34m\u001b[0m\u001b[0m\n",
      "\u001b[0;32m~/opt/anaconda3/lib/python3.7/site-packages/pandas/io/parsers.py\u001b[0m in \u001b[0;36m_read\u001b[0;34m(filepath_or_buffer, kwds)\u001b[0m\n\u001b[1;32m    461\u001b[0m \u001b[0;34m\u001b[0m\u001b[0m\n\u001b[1;32m    462\u001b[0m     \u001b[0;32mtry\u001b[0m\u001b[0;34m:\u001b[0m\u001b[0;34m\u001b[0m\u001b[0;34m\u001b[0m\u001b[0m\n\u001b[0;32m--> 463\u001b[0;31m         \u001b[0mdata\u001b[0m \u001b[0;34m=\u001b[0m \u001b[0mparser\u001b[0m\u001b[0;34m.\u001b[0m\u001b[0mread\u001b[0m\u001b[0;34m(\u001b[0m\u001b[0mnrows\u001b[0m\u001b[0;34m)\u001b[0m\u001b[0;34m\u001b[0m\u001b[0;34m\u001b[0m\u001b[0m\n\u001b[0m\u001b[1;32m    464\u001b[0m     \u001b[0;32mfinally\u001b[0m\u001b[0;34m:\u001b[0m\u001b[0;34m\u001b[0m\u001b[0;34m\u001b[0m\u001b[0m\n\u001b[1;32m    465\u001b[0m         \u001b[0mparser\u001b[0m\u001b[0;34m.\u001b[0m\u001b[0mclose\u001b[0m\u001b[0;34m(\u001b[0m\u001b[0;34m)\u001b[0m\u001b[0;34m\u001b[0m\u001b[0;34m\u001b[0m\u001b[0m\n",
      "\u001b[0;32m~/opt/anaconda3/lib/python3.7/site-packages/pandas/io/parsers.py\u001b[0m in \u001b[0;36mread\u001b[0;34m(self, nrows)\u001b[0m\n\u001b[1;32m   1152\u001b[0m     \u001b[0;32mdef\u001b[0m \u001b[0mread\u001b[0m\u001b[0;34m(\u001b[0m\u001b[0mself\u001b[0m\u001b[0;34m,\u001b[0m \u001b[0mnrows\u001b[0m\u001b[0;34m=\u001b[0m\u001b[0;32mNone\u001b[0m\u001b[0;34m)\u001b[0m\u001b[0;34m:\u001b[0m\u001b[0;34m\u001b[0m\u001b[0;34m\u001b[0m\u001b[0m\n\u001b[1;32m   1153\u001b[0m         \u001b[0mnrows\u001b[0m \u001b[0;34m=\u001b[0m \u001b[0m_validate_integer\u001b[0m\u001b[0;34m(\u001b[0m\u001b[0;34m\"nrows\"\u001b[0m\u001b[0;34m,\u001b[0m \u001b[0mnrows\u001b[0m\u001b[0;34m)\u001b[0m\u001b[0;34m\u001b[0m\u001b[0;34m\u001b[0m\u001b[0m\n\u001b[0;32m-> 1154\u001b[0;31m         \u001b[0mret\u001b[0m \u001b[0;34m=\u001b[0m \u001b[0mself\u001b[0m\u001b[0;34m.\u001b[0m\u001b[0m_engine\u001b[0m\u001b[0;34m.\u001b[0m\u001b[0mread\u001b[0m\u001b[0;34m(\u001b[0m\u001b[0mnrows\u001b[0m\u001b[0;34m)\u001b[0m\u001b[0;34m\u001b[0m\u001b[0;34m\u001b[0m\u001b[0m\n\u001b[0m\u001b[1;32m   1155\u001b[0m \u001b[0;34m\u001b[0m\u001b[0m\n\u001b[1;32m   1156\u001b[0m         \u001b[0;31m# May alter columns / col_dict\u001b[0m\u001b[0;34m\u001b[0m\u001b[0;34m\u001b[0m\u001b[0;34m\u001b[0m\u001b[0m\n",
      "\u001b[0;32m~/opt/anaconda3/lib/python3.7/site-packages/pandas/io/parsers.py\u001b[0m in \u001b[0;36mread\u001b[0;34m(self, nrows)\u001b[0m\n\u001b[1;32m   2057\u001b[0m     \u001b[0;32mdef\u001b[0m \u001b[0mread\u001b[0m\u001b[0;34m(\u001b[0m\u001b[0mself\u001b[0m\u001b[0;34m,\u001b[0m \u001b[0mnrows\u001b[0m\u001b[0;34m=\u001b[0m\u001b[0;32mNone\u001b[0m\u001b[0;34m)\u001b[0m\u001b[0;34m:\u001b[0m\u001b[0;34m\u001b[0m\u001b[0;34m\u001b[0m\u001b[0m\n\u001b[1;32m   2058\u001b[0m         \u001b[0;32mtry\u001b[0m\u001b[0;34m:\u001b[0m\u001b[0;34m\u001b[0m\u001b[0;34m\u001b[0m\u001b[0m\n\u001b[0;32m-> 2059\u001b[0;31m             \u001b[0mdata\u001b[0m \u001b[0;34m=\u001b[0m \u001b[0mself\u001b[0m\u001b[0;34m.\u001b[0m\u001b[0m_reader\u001b[0m\u001b[0;34m.\u001b[0m\u001b[0mread\u001b[0m\u001b[0;34m(\u001b[0m\u001b[0mnrows\u001b[0m\u001b[0;34m)\u001b[0m\u001b[0;34m\u001b[0m\u001b[0;34m\u001b[0m\u001b[0m\n\u001b[0m\u001b[1;32m   2060\u001b[0m         \u001b[0;32mexcept\u001b[0m \u001b[0mStopIteration\u001b[0m\u001b[0;34m:\u001b[0m\u001b[0;34m\u001b[0m\u001b[0;34m\u001b[0m\u001b[0m\n\u001b[1;32m   2061\u001b[0m             \u001b[0;32mif\u001b[0m \u001b[0mself\u001b[0m\u001b[0;34m.\u001b[0m\u001b[0m_first_chunk\u001b[0m\u001b[0;34m:\u001b[0m\u001b[0;34m\u001b[0m\u001b[0;34m\u001b[0m\u001b[0m\n",
      "\u001b[0;32mpandas/_libs/parsers.pyx\u001b[0m in \u001b[0;36mpandas._libs.parsers.TextReader.read\u001b[0;34m()\u001b[0m\n",
      "\u001b[0;32mpandas/_libs/parsers.pyx\u001b[0m in \u001b[0;36mpandas._libs.parsers.TextReader._read_low_memory\u001b[0;34m()\u001b[0m\n",
      "\u001b[0;32mpandas/_libs/parsers.pyx\u001b[0m in \u001b[0;36mpandas._libs.parsers.TextReader._read_rows\u001b[0;34m()\u001b[0m\n",
      "\u001b[0;32mpandas/_libs/parsers.pyx\u001b[0m in \u001b[0;36mpandas._libs.parsers.TextReader._convert_column_data\u001b[0;34m()\u001b[0m\n",
      "\u001b[0;32mpandas/_libs/parsers.pyx\u001b[0m in \u001b[0;36mpandas._libs.parsers.TextReader._convert_tokens\u001b[0;34m()\u001b[0m\n",
      "\u001b[0;32mpandas/_libs/parsers.pyx\u001b[0m in \u001b[0;36mpandas._libs.parsers.TextReader._convert_with_dtype\u001b[0;34m()\u001b[0m\n",
      "\u001b[0;32mpandas/_libs/parsers.pyx\u001b[0m in \u001b[0;36mpandas._libs.parsers.TextReader._string_convert\u001b[0;34m()\u001b[0m\n",
      "\u001b[0;32mpandas/_libs/parsers.pyx\u001b[0m in \u001b[0;36mpandas._libs.parsers._string_box_utf8\u001b[0;34m()\u001b[0m\n",
      "\u001b[0;31mUnicodeDecodeError\u001b[0m: 'utf-8' codec can't decode byte 0xc9 in position 283: invalid continuation byte"
     ]
    }
   ],
   "source": [
    "import pandas as pd\n",
    "Rawdata = pd.read_csv(\"/Users/yuuki/Desktop/Rawdata.csv\")"
   ]
  },
  {
   "cell_type": "code",
   "execution_count": null,
   "metadata": {},
   "outputs": [],
   "source": [
    "Rawdata.shape"
   ]
  },
  {
   "cell_type": "code",
   "execution_count": null,
   "metadata": {},
   "outputs": [],
   "source": [
    "Rawdata.describe()"
   ]
  },
  {
   "cell_type": "code",
   "execution_count": null,
   "metadata": {},
   "outputs": [],
   "source": [
    "#print(type(Rawdata))\n",
    "index = list(range(361))\n",
    "#Rawdata[\"ind\"] = index\n",
    "#Rawdata.set_index('ind',inplace=True)\n",
    "Rawdata.head()"
   ]
  },
  {
   "cell_type": "code",
   "execution_count": null,
   "metadata": {},
   "outputs": [],
   "source": [
    "for i in range(361):\n",
    "    if (Rawdata[\"SEX\"][i]==2): Rawdata[\"SEX\"][i] -= 2"
   ]
  },
  {
   "cell_type": "code",
   "execution_count": null,
   "metadata": {},
   "outputs": [],
   "source": [
    "Rawdata.head()"
   ]
  },
  {
   "cell_type": "code",
   "execution_count": null,
   "metadata": {},
   "outputs": [],
   "source": [
    "for col in Rawdata.columns:\n",
    "    print(col)"
   ]
  },
  {
   "cell_type": "code",
   "execution_count": null,
   "metadata": {},
   "outputs": [],
   "source": [
    "q1 = ['q1s1','q1s2','q1s3','q1s4','q1s5','q1s6','q1s7','q1s8','q1s9','q1s10','q1s11','q1s12']\n",
    "Rawdata[q1].sum()"
   ]
  },
  {
   "cell_type": "code",
   "execution_count": null,
   "metadata": {},
   "outputs": [],
   "source": [
    "q1_selected = [0,0,0,0]\n",
    "for col in q1:\n",
    "    for ind in range(361):\n",
    "        tmp = Rawdata[col][ind]\n",
    "        tmp -= 1\n",
    "        q1_selected[tmp] += 1\n",
    "print(q1_selected)"
   ]
  },
  {
   "cell_type": "code",
   "execution_count": null,
   "metadata": {
    "scrolled": true
   },
   "outputs": [],
   "source": [
    "# 選ばれた選択肢ごとのグラフ\n",
    "import matplotlib.pyplot as plt\n",
    "labels = [\"Ongoing for the first time since March.\",\"Ongoing since before February.\",\"I used to do it, but I don't do it anymore.\",\"I've never done that before.\"]\n",
    "colors = ['gold', 'yellowgreen', 'lightcoral', 'lightskyblue']\n",
    "plt.pie(q1_selected, labels = labels, colors = colors,autopct='%1.1f%%')\n",
    "plt.show()"
   ]
  },
  {
   "cell_type": "code",
   "execution_count": null,
   "metadata": {
    "scrolled": true
   },
   "outputs": [],
   "source": [
    "# 継続中の選択肢１、２をまとめた\n",
    "q1_selected2 = [q1_selected[0]+q1_selected[1], q1_selected[2], q1_selected[3]]\n",
    "labels = [\"Ongoing.\",\"I used to do it, but I don't do it anymore.\",\"I've never done that before.\"]\n",
    "colors = ['purple', 'lightcoral', 'lightskyblue']\n",
    "plt.pie(q1_selected2, labels = labels, colors = colors,autopct='%1.1f%%')\n",
    "plt.show()"
   ]
  },
  {
   "cell_type": "code",
   "execution_count": null,
   "metadata": {},
   "outputs": [],
   "source": [
    "Mendata = Rawdata[Rawdata[\"SEX\"]==1]\n",
    "Womendata = Rawdata[Rawdata[\"SEX\"]==0]\n",
    "\n",
    "print(Mendata.shape)\n",
    "Mendata = Mendata.reset_index(drop=True)\n",
    "print(Mendata['q1s1'])"
   ]
  },
  {
   "cell_type": "code",
   "execution_count": null,
   "metadata": {},
   "outputs": [],
   "source": [
    "q1_selected_men  = [0,0,0,0]\n",
    "for col in q1:\n",
    "    for ind in range(180):\n",
    "        tmp = Mendata[col][ind]\n",
    "        tmp -= 1\n",
    "        q1_selected_men[tmp] += 1\n",
    "print(q1_selected_men)"
   ]
  },
  {
   "cell_type": "code",
   "execution_count": null,
   "metadata": {},
   "outputs": [],
   "source": [
    "Womendata = Womendata.reset_index(drop=True)\n",
    "q1_selected_women  = [0,0,0,0]\n",
    "for col in q1:\n",
    "    for ind in range(181):\n",
    "        tmp = Womendata[col][ind]\n",
    "        tmp -= 1\n",
    "        q1_selected_women[tmp] += 1\n",
    "print(q1_selected_women)"
   ]
  },
  {
   "cell_type": "code",
   "execution_count": null,
   "metadata": {},
   "outputs": [],
   "source": [
    "# 男女別円グラフ\n",
    "labels = [\"Ongoing for the first time since March.\",\"Ongoing since before February.\",\"I used to do it, but I don't do it anymore.\",\"I've never done that before.\"]\n",
    "colors = ['gold', 'yellowgreen', 'lightcoral', 'lightskyblue']\n",
    "plt.pie(q1_selected_men, labels = labels, colors = colors,autopct='%1.1f%%')\n",
    "plt.title(\"Men\")\n",
    "plt.show()"
   ]
  },
  {
   "cell_type": "code",
   "execution_count": null,
   "metadata": {
    "scrolled": true
   },
   "outputs": [],
   "source": [
    "labels = [\"Ongoing for the first time since March.\",\"Ongoing since before February.\",\"I used to do it, but I don't do it anymore.\",\"I've never done that before.\"]\n",
    "colors = ['gold', 'yellowgreen', 'lightcoral', 'lightskyblue']\n",
    "plt.pie(q1_selected_women, labels = labels, colors = colors,autopct='%1.1f%%')\n",
    "plt.title(\"Women\")\n",
    "plt.show()"
   ]
  },
  {
   "cell_type": "code",
   "execution_count": null,
   "metadata": {},
   "outputs": [],
   "source": [
    "# 地域ごとの違い\n",
    "\n",
    "area = [[0,0,0,0] for _ in range(9)]\n",
    "for i in range(1,9):\n",
    "    tmpDf = Rawdata.groupby('ARE').get_group(i)\n",
    "    tmpDf= tmpDf.reset_index(drop=True)\n",
    "    #print(tmpDf.head())\n",
    "    for col in q1:\n",
    "        for ind in range(len(tmpDf)):\n",
    "            tmp = tmpDf[col][ind]\n",
    "            tmp -= 1\n",
    "            area[i][tmp] += 1\n",
    "print(area)"
   ]
  },
  {
   "cell_type": "code",
   "execution_count": null,
   "metadata": {},
   "outputs": [],
   "source": [
    "fig = plt.figure()\n",
    "ax1 = fig.add_subplot(2,4,1)\n",
    "ax2 = fig.add_subplot(2,4,2)\n",
    "ax3 = fig.add_subplot(2,4,3)\n",
    "ax4 = fig.add_subplot(2,4,4)\n",
    "ax5 = fig.add_subplot(2,4,5)\n",
    "ax6 = fig.add_subplot(2,4,6)\n",
    "ax7 = fig.add_subplot(2,4,7)\n",
    "ax8 = fig.add_subplot(2,4,8)\n",
    "\n",
    "ax1.pie(area[1], labels = labels, colors = colors,autopct='%1.1f%%')\n",
    "plt.title(\"Hokkaido\")\n",
    "ax2.pie(area[2], labels = labels, colors = colors,autopct='%1.1f%%')\n",
    "plt.title(\"Tohoku\")\n",
    "ax3.pie(area[3], labels = labels, colors = colors,autopct='%1.1f%%')\n",
    "plt.title(\"Kanto\")\n",
    "ax4.pie(area[4], labels = labels, colors = colors,autopct='%1.1f%%')\n",
    "plt.title(\"Tyubu\")\n",
    "ax5.pie(area[5], labels = labels, colors = colors,autopct='%1.1f%%')\n",
    "plt.title(\"Kinki\")\n",
    "ax6.pie(area[6], labels = labels, colors = colors,autopct='%1.1f%%')\n",
    "plt.title(\"Tyugoku\")\n",
    "ax7.pie(area[7], labels = labels, colors = colors,autopct='%1.1f%%')\n",
    "plt.title(\"Shikoku\")\n",
    "ax8.pie(area[8], labels = labels, colors = colors,autopct='%1.1f%%')\n",
    "plt.title(\"Kyusyu\")\n",
    "\n",
    "plt.show()"
   ]
  },
  {
   "cell_type": "code",
   "execution_count": null,
   "metadata": {},
   "outputs": [],
   "source": [
    "# 職業ごとの違い\n",
    "job = [[0,0,0,0] for _ in range(12)]\n",
    "loopInd = [1,2,3,4,5,6,7,8,9,11]\n",
    "for i in loopInd:\n",
    "    tmpDf = Rawdata.groupby('JOB').get_group(i)\n",
    "    tmpDf= tmpDf.reset_index(drop=True)\n",
    "    #print(tmpDf.head())\n",
    "    for col in q1:\n",
    "        for ind in range(len(tmpDf)):\n",
    "            tmp = tmpDf[col][ind]\n",
    "            tmp -= 1\n",
    "            job[i][tmp] += 1\n",
    "print(job)"
   ]
  },
  {
   "cell_type": "code",
   "execution_count": null,
   "metadata": {},
   "outputs": [],
   "source": [
    "\n",
    "plt.pie(job[1], labels = labels, colors = colors,autopct='%1.1f%%')\n",
    "plt.title(\"Komuin\")\n",
    "\n",
    "plt.show()"
   ]
  },
  {
   "cell_type": "code",
   "execution_count": null,
   "metadata": {},
   "outputs": [],
   "source": [
    "plt.pie(job[2], labels = labels, colors = colors,autopct='%1.1f%%')\n",
    "plt.title(\"keieisha\")\n",
    "plt.show()"
   ]
  },
  {
   "cell_type": "code",
   "execution_count": null,
   "metadata": {},
   "outputs": [],
   "source": [
    "plt.pie(job[3], labels = labels, colors = colors,autopct='%1.1f%%')\n",
    "plt.title(\"zimukei\")\n",
    "plt.show()"
   ]
  },
  {
   "cell_type": "code",
   "execution_count": null,
   "metadata": {},
   "outputs": [],
   "source": [
    "plt.pie(job[4], labels = labels, colors = colors,autopct='%1.1f%%')\n",
    "plt.title(\"gijutukei\")\n",
    "plt.show()"
   ]
  },
  {
   "cell_type": "code",
   "execution_count": null,
   "metadata": {},
   "outputs": [],
   "source": [
    "plt.pie(job[5], labels = labels, colors = colors,autopct='%1.1f%%')\n",
    "plt.title(\"sonota\")\n",
    "plt.show()"
   ]
  },
  {
   "cell_type": "code",
   "execution_count": null,
   "metadata": {},
   "outputs": [],
   "source": [
    "plt.pie(job[6], labels = labels, colors = colors,autopct='%1.1f%%')\n",
    "plt.title(\"zieigyo\")\n",
    "plt.show()"
   ]
  },
  {
   "cell_type": "code",
   "execution_count": null,
   "metadata": {},
   "outputs": [],
   "source": [
    "plt.pie(job[7], labels = labels, colors = colors,autopct='%1.1f%%')\n",
    "plt.title(\"ziyugyo\")\n",
    "plt.show()"
   ]
  },
  {
   "cell_type": "code",
   "execution_count": null,
   "metadata": {},
   "outputs": [],
   "source": [
    "plt.pie(job[8], labels = labels, colors = colors,autopct='%1.1f%%')\n",
    "plt.title(\"sengyosyuhu\")\n",
    "plt.show()"
   ]
  },
  {
   "cell_type": "code",
   "execution_count": null,
   "metadata": {},
   "outputs": [],
   "source": [
    "plt.pie(job[9], labels = labels, colors = colors,autopct='%1.1f%%')\n",
    "plt.title(\"pa-to,atubaito\")\n",
    "plt.show()"
   ]
  },
  {
   "cell_type": "code",
   "execution_count": null,
   "metadata": {},
   "outputs": [],
   "source": [
    "plt.pie(job[11], labels = labels, colors = colors,autopct='%1.1f%%')\n",
    "plt.title(\"sonota\")\n",
    "plt.show()"
   ]
  },
  {
   "cell_type": "code",
   "execution_count": null,
   "metadata": {},
   "outputs": [],
   "source": [
    "## 公務員はサンプル数が少ないけれど、3月以降始めた人と過去にやっていた人は多い。\n",
    "## 習い事に対する意識が高いかも？（習い事に対する興味が強いかも？）"
   ]
  },
  {
   "cell_type": "code",
   "execution_count": null,
   "metadata": {},
   "outputs": [],
   "source": [
    "## Q2\n",
    "\n",
    "## 職業ごとの違い\n",
    "'''\n",
    "q2=['q2s1c1','q2s1c2','q2s1c3','q2s1c4','q2s1c5', 'q2s2c1','q2s2c2','q2s2c3','q2s2c4','q2s2c5',]\n",
    "job = [[0,0,0,0,0] for _ in range(12)]\n",
    "loopInd = [1,2,3,4,5,6,7,8,9,11]\n",
    "for i in loopInd:\n",
    "    tmpDf = Rawdata.groupby('JOB').get_group(i)\n",
    "    tmpDf= tmpDf.reset_index(drop=True)\n",
    "    #print(tmpDf.head())\n",
    "    for col in q1:\n",
    "        for ind in range(len(tmpDf)):\n",
    "            tmp = tmpDf[col][ind]\n",
    "            tmp -= 1\n",
    "            job[i][tmp] += 1\n",
    "print(job)\n",
    "'''\n",
    "\n",
    "Q2data = Rawdata.iloc[:, 22:87]\n",
    "Q2data.head()"
   ]
  },
  {
   "cell_type": "code",
   "execution_count": null,
   "metadata": {},
   "outputs": [],
   "source": [
    "## 将来の需要に対する、職業ごとの違いがあるのかどうかが知りたい\n",
    "## 分野ごとの違い\n",
    "## 分野と形態ごとの違い\n",
    "Q2sum = Q2data.sum()"
   ]
  },
  {
   "cell_type": "markdown",
   "metadata": {},
   "source": [
    "Q2について、形態は問わずやりたい人とやりたくない人の数を比較してみた。すると、いずれの分野についてもやりたい人の数は、やりたくない人の数の半数にも満たなかった。一番やりたい人の多い分野は語学系だった。→やりたくない人が多いけど、語学系に絞る？　"
   ]
  },
  {
   "cell_type": "code",
   "execution_count": null,
   "metadata": {},
   "outputs": [],
   "source": [
    "# 職業ごとに分けたら変わるかも？\n",
    "q2DiffJob = [[0,0,0,0,0] for _ in range(12)]\n",
    "q2cols = []\n",
    "for col in Q2data.columns:\n",
    "    q2cols.append(col)\n",
    "    \n",
    "jobKind = []\n",
    "loopInd = [1,2,3,4,5,6,7,8,9,11]\n",
    "for i in loopInd:\n",
    "    tmpDf = Rawdata.groupby('JOB').get_group(i)\n",
    "    tmpDf= tmpDf.reset_index(drop=True)\n",
    "    #print(tmpDf.head())\n",
    "    for col in q2cols:\n",
    "        tmp = 0\n",
    "        for ind in range(len(tmpDf)):\n",
    "            tmp += tmpDf[col][ind]\n",
    "            #q2DiffJob[i][tmp] += 1\n",
    "        jobKind.append(tmp)\n",
    "print(jobKind)\n"
   ]
  },
  {
   "cell_type": "code",
   "execution_count": null,
   "metadata": {},
   "outputs": [],
   "source": [
    "len(jobKind)"
   ]
  },
  {
   "cell_type": "code",
   "execution_count": null,
   "metadata": {},
   "outputs": [],
   "source": [
    "import numpy as np\n",
    "jobKind = np.reshape(jobKind, (130,5))\n",
    "jobKind"
   ]
  },
  {
   "cell_type": "code",
   "execution_count": null,
   "metadata": {},
   "outputs": [],
   "source": [
    "Gogaku = Rawdata[Rawdata[\"q2s1c5\"] == 0]\n",
    "Gogaku.head()"
   ]
  },
  {
   "cell_type": "code",
   "execution_count": null,
   "metadata": {},
   "outputs": [],
   "source": [
    "len(Gogaku)"
   ]
  },
  {
   "cell_type": "code",
   "execution_count": null,
   "metadata": {},
   "outputs": [],
   "source": [
    "Gogaku[\"q2s1c1\"].sum()"
   ]
  },
  {
   "cell_type": "code",
   "execution_count": null,
   "metadata": {},
   "outputs": [],
   "source": [
    "Gogaku = Gogaku.reset_index(drop=True)\n",
    "cnt = 0\n",
    "for i in range(len(Gogaku)):\n",
    "    if (Gogaku[\"q2s1c1\"][i]==1 or Gogaku[\"q2s1c2\"][i]==1 or Gogaku[\"q2s1c3\"][i]==1 or Gogaku[\"q2s1c4\"][i]==1) : \n",
    "        cnt += 1\n",
    "print(cnt)"
   ]
  },
  {
   "cell_type": "code",
   "execution_count": null,
   "metadata": {},
   "outputs": [],
   "source": [
    "# Gogaku は、Q2の選択肢1で語学を何らかの形式でやりたいと答えた人。"
   ]
  },
  {
   "cell_type": "code",
   "execution_count": null,
   "metadata": {},
   "outputs": [],
   "source": [
    "labels = [\"0\",\"~30m\",\"30m~1h\",\"1h~2h\",\"2h~3h\", \"3h~4h\", \"4h~5h\", \"5h~\", \"?\"]\n",
    "q3_array = [0,0,0,0,0,0,0,0,0]\n",
    "for i in range(len(Gogaku)):\n",
    "    tmp = Gogaku[\"q3\"][i]\n",
    "    tmp -= 1\n",
    "    q3_array[tmp] += 1\n",
    "\n",
    "plt.pie(q3_array, labels = labels)\n",
    "plt.show()"
   ]
  },
  {
   "cell_type": "code",
   "execution_count": null,
   "metadata": {},
   "outputs": [],
   "source": [
    "labels = [\"0\",\"~30m\",\"30m~1h\",\"2h~3h\", \"3h~4h\", \"4h~5h\", \"5h~\", \"?\"]\n",
    "q4_array = [0,0,0,0,0,0,0,0]\n",
    "for i in range(len(Gogaku)):\n",
    "    tmp = Gogaku[\"q4\"][i]\n",
    "    tmp -= 1\n",
    "    q4_array[tmp] += 1\n",
    "\n",
    "plt.pie(q4_array, labels = labels)\n",
    "plt.show()"
   ]
  },
  {
   "cell_type": "code",
   "execution_count": null,
   "metadata": {},
   "outputs": [],
   "source": [
    "labels = [\"~5000\",\"5000~10,000\",\"10,000~20,000\",\"20,000~30,000\",\"30,000~40,000\", \"40,000~50,000\", \"50,000~100,000\", \"100,000~\", \"?\"]\n",
    "q5_array = [0,0,0,0,0,0,0,0,0]\n",
    "for i in range(len(Gogaku)):\n",
    "    tmp = Gogaku[\"q5\"][i]\n",
    "    tmp -= 1\n",
    "    q5_array[tmp] += 1\n",
    "\n",
    "plt.pie(q5_array, labels = labels)\n",
    "plt.show()"
   ]
  },
  {
   "cell_type": "code",
   "execution_count": null,
   "metadata": {},
   "outputs": [],
   "source": [
    "q6_plus = [0,0,0,0,0,0,0]\n",
    "q6_plus[0] = len(Gogaku[Gogaku[\"q6s1\"]==1]) + len(Gogaku[Gogaku[\"q6s1\"]==2])\n",
    "q6_plus[1] = len(Gogaku[Gogaku[\"q6s2\"]==1]) + len(Gogaku[Gogaku[\"q6s2\"]==2])\n",
    "q6_plus[2] = len(Gogaku[Gogaku[\"q6s3\"]==1]) + len(Gogaku[Gogaku[\"q6s3\"]==2])\n",
    "q6_plus[3] = len(Gogaku[Gogaku[\"q6s4\"]==1]) + len(Gogaku[Gogaku[\"q6s4\"]==2])\n",
    "q6_plus[4] = len(Gogaku[Gogaku[\"q6s5\"]==1]) + len(Gogaku[Gogaku[\"q6s5\"]==2])\n",
    "q6_plus[5] = len(Gogaku[Gogaku[\"q6s6\"]==1]) + len(Gogaku[Gogaku[\"q6s6\"]==2])\n",
    "q6_plus[6] = len(Gogaku[Gogaku[\"q6s7\"]==1]) + len(Gogaku[Gogaku[\"q6s7\"]==2])"
   ]
  },
  {
   "cell_type": "code",
   "execution_count": null,
   "metadata": {},
   "outputs": [],
   "source": [
    "q6_plus"
   ]
  },
  {
   "cell_type": "code",
   "execution_count": null,
   "metadata": {},
   "outputs": [],
   "source": [
    "labels = [\"skill/carrier\", \"syumi\", \"yuuzin\", \"zishin\", \"ikunuki\", \"health\", \"ikigai\"]\n",
    "plt.pie(q6_plus, labels = labels)\n",
    "plt.title(\"important\")\n",
    "plt.show()"
   ]
  },
  {
   "cell_type": "code",
   "execution_count": null,
   "metadata": {},
   "outputs": [],
   "source": [
    "q6_minus = [0,0,0,0,0,0,0]\n",
    "q6_minus[0] = len(Gogaku[Gogaku[\"q6s1\"]==5]) + len(Gogaku[Gogaku[\"q6s1\"]==4])\n",
    "q6_minus[1] = len(Gogaku[Gogaku[\"q6s2\"]==5]) + len(Gogaku[Gogaku[\"q6s2\"]==4])\n",
    "q6_minus[2] = len(Gogaku[Gogaku[\"q6s3\"]==5]) + len(Gogaku[Gogaku[\"q6s3\"]==4])\n",
    "q6_minus[3] = len(Gogaku[Gogaku[\"q6s4\"]==5]) + len(Gogaku[Gogaku[\"q6s4\"]==4])\n",
    "q6_minus[4] = len(Gogaku[Gogaku[\"q6s5\"]==5]) + len(Gogaku[Gogaku[\"q6s5\"]==4])\n",
    "q6_minus[5] = len(Gogaku[Gogaku[\"q6s6\"]==5]) + len(Gogaku[Gogaku[\"q6s6\"]==4])\n",
    "q6_minus[6] = len(Gogaku[Gogaku[\"q6s7\"]==5]) + len(Gogaku[Gogaku[\"q6s7\"]==4])\n",
    "\n",
    "plt.pie(q6_minus, labels = labels)\n",
    "plt.title(\"not important\")\n",
    "plt.show()"
   ]
  },
  {
   "cell_type": "code",
   "execution_count": null,
   "metadata": {},
   "outputs": [],
   "source": [
    "q7_plus = [0,0,0,0,0,0,0,0,0]\n",
    "q7_plus[0] = len(Gogaku[Gogaku[\"q7s1\"]==1]) + len(Gogaku[Gogaku[\"q7s1\"]==2])\n",
    "q7_plus[1] = len(Gogaku[Gogaku[\"q7s2\"]==1]) + len(Gogaku[Gogaku[\"q7s2\"]==2])\n",
    "q7_plus[2] = len(Gogaku[Gogaku[\"q7s3\"]==1]) + len(Gogaku[Gogaku[\"q7s3\"]==2])\n",
    "q7_plus[3] = len(Gogaku[Gogaku[\"q7s4\"]==1]) + len(Gogaku[Gogaku[\"q7s4\"]==2])\n",
    "q7_plus[4] = len(Gogaku[Gogaku[\"q7s5\"]==1]) + len(Gogaku[Gogaku[\"q7s5\"]==2])\n",
    "q7_plus[5] = len(Gogaku[Gogaku[\"q7s6\"]==1]) + len(Gogaku[Gogaku[\"q7s6\"]==2])\n",
    "q7_plus[6] = len(Gogaku[Gogaku[\"q7s7\"]==1]) + len(Gogaku[Gogaku[\"q7s7\"]==2])\n",
    "q7_plus[7] = len(Gogaku[Gogaku[\"q7s8\"]==1]) + len(Gogaku[Gogaku[\"q7s8\"]==2])\n",
    "q7_plus[8] = len(Gogaku[Gogaku[\"q7s9\"]==1]) + len(Gogaku[Gogaku[\"q7s9\"]==2])\n",
    "\n",
    "labels = [\"sum cost\", \"cost performance\", \"time\", \"motivation\", \"quality\", \"teacher\", \"other student\", \"shisetsu\" , \"ritti\"]\n",
    "plt.pie(q7_plus, labels = labels,autopct='%1.1f%%')\n",
    "plt.title(\"shougai\")\n",
    "plt.show()"
   ]
  },
  {
   "cell_type": "code",
   "execution_count": null,
   "metadata": {},
   "outputs": [],
   "source": [
    "q7_minus = [0,0,0,0,0,0,0,0,0]\n",
    "q7_minus[0] = len(Gogaku[Gogaku[\"q7s1\"]==4]) + len(Gogaku[Gogaku[\"q7s1\"]==5])\n",
    "q7_minus[1] = len(Gogaku[Gogaku[\"q7s2\"]==4]) + len(Gogaku[Gogaku[\"q7s2\"]==5])\n",
    "q7_minus[2] = len(Gogaku[Gogaku[\"q7s3\"]==4]) + len(Gogaku[Gogaku[\"q7s3\"]==5])\n",
    "q7_minus[3] = len(Gogaku[Gogaku[\"q7s4\"]==4]) + len(Gogaku[Gogaku[\"q7s4\"]==5])\n",
    "q7_minus[4] = len(Gogaku[Gogaku[\"q7s5\"]==4]) + len(Gogaku[Gogaku[\"q7s5\"]==5])\n",
    "q7_minus[5] = len(Gogaku[Gogaku[\"q7s6\"]==4]) + len(Gogaku[Gogaku[\"q7s6\"]==5])\n",
    "q7_minus[6] = len(Gogaku[Gogaku[\"q7s7\"]==4]) + len(Gogaku[Gogaku[\"q7s7\"]==5])\n",
    "q7_minus[7] = len(Gogaku[Gogaku[\"q7s8\"]==4]) + len(Gogaku[Gogaku[\"q7s8\"]==5])\n",
    "q7_minus[8] = len(Gogaku[Gogaku[\"q7s9\"]==4]) + len(Gogaku[Gogaku[\"q7s9\"]==5])\n",
    "\n",
    "labels = [\"sum cost\", \"cost performance\", \"time\", \"motivation\", \"quality\", \"teacher\", \"other student\", \"shisetsu\" , \"ritti\"]\n",
    "plt.pie(q7_minus, labels = labels)\n",
    "plt.title(\"not shougai\")\n",
    "plt.show()"
   ]
  },
  {
   "cell_type": "code",
   "execution_count": null,
   "metadata": {},
   "outputs": [],
   "source": [
    "q2_keitai = []\n",
    "q2_Gogaku_col = ['q2s1c1','q2s1c2','q2s1c3','q2s1c4',]\n",
    "for col in q2_Gogaku_col:\n",
    "    tmp = 0\n",
    "    for i in range(len(Gogaku)):\n",
    "        tmp += Gogaku[col][i]\n",
    "    q2_keitai.append(tmp)\n",
    "q2_keitai"
   ]
  },
  {
   "cell_type": "code",
   "execution_count": null,
   "metadata": {},
   "outputs": [],
   "source": [
    "labels = ['Online', 'Offline', 'Kami', 'Other']\n",
    "plt.pie(q2_keitai, labels = labels)\n",
    "plt.title(\"Keitai\")\n",
    "plt.show()"
   ]
  },
  {
   "cell_type": "code",
   "execution_count": null,
   "metadata": {},
   "outputs": [],
   "source": [
    "# 語学やりたい人の男女比\n",
    "# all\n",
    "print(len(Gogaku))\n",
    "# Men\n",
    "print(len(Gogaku[Gogaku[\"SEX\"]==1]))"
   ]
  },
  {
   "cell_type": "code",
   "execution_count": null,
   "metadata": {},
   "outputs": [],
   "source": [
    "Gogaku.head()"
   ]
  },
  {
   "cell_type": "code",
   "execution_count": null,
   "metadata": {},
   "outputs": [],
   "source": [
    "# 語学やりたい人の職業\n",
    "job = []\n",
    "loopInd = [1,2,3,4,5,6,7,8,9,11]\n",
    "for i in loopInd:\n",
    "    tmpDf = Gogaku.groupby('JOB').get_group(i)\n",
    "    tmpDf= tmpDf.reset_index(drop=True)\n",
    "    #print(tmpDf.head())\n",
    "    tmp = len(tmpDf)     \n",
    "    job.append(tmp)\n",
    "job"
   ]
  },
  {
   "cell_type": "code",
   "execution_count": null,
   "metadata": {},
   "outputs": [],
   "source": [
    "# 公務員がほとんど、残りはその他"
   ]
  },
  {
   "cell_type": "code",
   "execution_count": null,
   "metadata": {},
   "outputs": [],
   "source": [
    "sum = 0\n",
    "for i in range(len(job)):\n",
    "    sum += job[i]\n",
    "    \n",
    "print(sum)"
   ]
  },
  {
   "cell_type": "code",
   "execution_count": null,
   "metadata": {},
   "outputs": [],
   "source": [
    "label = [\"koomuin\", \"keieisya\", \"zimu\", \"gijutu\", \"kaisyain\", \"ziegyou\", \"ziyuugyou\", \"syuhu\", \"pa-to\", \"other\"]\n",
    "for i in range(len(job)):\n",
    "    print(label[i] + \": \" + str(job[i]))"
   ]
  },
  {
   "cell_type": "code",
   "execution_count": null,
   "metadata": {},
   "outputs": [],
   "source": [
    "Syumi = Rawdata[Rawdata[\"q2s2c5\"] == 0]\n",
    "Bussiness= Rawdata[Rawdata[\"q2s3c5\"] == 0]\n",
    "PC = Rawdata[Rawdata[\"q2s4c5\"] == 0]\n",
    "Mus = Rawdata[Rawdata[\"q2s5c5\"] == 0]\n",
    "Spo =  Rawdata[Rawdata[\"q2s6c5\"] == 0]\n",
    "Cul = Rawdata[Rawdata[\"q2s7c5\"] == 0]\n",
    "Cam = Rawdata[Rawdata[\"q2s8c5\"] == 0]\n",
    "Art = Rawdata[Rawdata[\"q2s9c5\"] == 0]\n",
    "Cook = Rawdata[Rawdata[\"q2s10c5\"] == 0]\n",
    "Bea = Rawdata[Rawdata[\"q2s11c5\"] == 0]\n",
    "Dan = Rawdata[Rawdata[\"q2s12c5\"] == 0]\n",
    "Other = Rawdata[Rawdata[\"q2s13c5\"] == 0]"
   ]
  },
  {
   "cell_type": "code",
   "execution_count": null,
   "metadata": {},
   "outputs": [],
   "source": [
    "Gogaku_jushi = [0,0,0,0,0,0,0,0,0]\n",
    "Gogaku_jushi[0] = len(Gogaku[Gogaku[\"q6s1\"]==1]) + len(Gogaku[Gogaku[\"q7s1\"]==2])\n",
    "Gogaku_jushi[1] = len(Gogaku[Gogaku[\"q6s2\"]==1]) + len(Gogaku[Gogaku[\"q7s2\"]==2])\n",
    "Gogaku_jushi[2] = len(Gogaku[Gogaku[\"q6s3\"]==1]) + len(Gogaku[Gogaku[\"q7s3\"]==2])\n",
    "Gogaku_jushi[3] = len(Gogaku[Gogaku[\"q6s4\"]==1]) + len(Gogaku[Gogaku[\"q7s4\"]==2])\n",
    "Gogaku_jushi[4] = len(Gogaku[Gogaku[\"q6s5\"]==1]) + len(Gogaku[Gogaku[\"q7s5\"]==2])\n",
    "Gogaku_jushi[5] = len(Gogaku[Gogaku[\"q6s6\"]==1]) + len(Gogaku[Gogaku[\"q7s6\"]==2])\n",
    "Gogaku_jushi[6] = len(Gogaku[Gogaku[\"q6s7\"]==1]) + len(Gogaku[Gogaku[\"q7s7\"]==2])"
   ]
  },
  {
   "cell_type": "code",
   "execution_count": null,
   "metadata": {},
   "outputs": [],
   "source": [
    "Gogaku_jushi"
   ]
  },
  {
   "cell_type": "code",
   "execution_count": null,
   "metadata": {},
   "outputs": [],
   "source": [
    "Syumi_jushi = [0,0,0,0,0,0,0,0,0]\n",
    "Syumi_jushi[0] = len(Syumi[Syumi[\"q6s1\"]==1]) + len(Syumi[Syumi[\"q7s1\"]==2])\n",
    "Syumi_jushi[1] = len(Syumi[Syumi[\"q6s2\"]==1]) + len(Syumi[Syumi[\"q7s2\"]==2])\n",
    "Syumi_jushi[2] = len(Syumi[Syumi[\"q6s3\"]==1]) + len(Syumi[Syumi[\"q7s3\"]==2])\n",
    "Syumi_jushi[3] = len(Syumi[Syumi[\"q6s4\"]==1]) + len(Syumi[Syumi[\"q7s4\"]==2])\n",
    "Syumi_jushi[4] = len(Syumi[Syumi[\"q6s5\"]==1]) + len(Syumi[Syumi[\"q7s5\"]==2])\n",
    "Syumi_jushi[5] = len(Syumi[Syumi[\"q6s6\"]==1]) + len(Syumi[Syumi[\"q7s6\"]==2])\n",
    "Syumi_jushi[6] = len(Syumi[Syumi[\"q6s7\"]==1]) + len(Syumi[Syumi[\"q7s7\"]==2])\n",
    "Syumi_jushi"
   ]
  },
  {
   "cell_type": "code",
   "execution_count": null,
   "metadata": {},
   "outputs": [],
   "source": [
    "Bussiness_jushi = [0,0,0,0,0,0,0,0,0]\n",
    "Bussiness_jushi[0] = len(Bussiness[Bussiness[\"q6s1\"]==1]) + len(Bussiness[Bussiness[\"q7s1\"]==2])\n",
    "Bussiness_jushi[1] = len(Bussiness[Bussiness[\"q6s2\"]==1]) + len(Bussiness[Bussiness[\"q7s2\"]==2])\n",
    "Bussiness_jushi[2] = len(Bussiness[Bussiness[\"q6s3\"]==1]) + len(Bussiness[Bussiness[\"q7s3\"]==2])\n",
    "Bussiness_jushi[3] = len(Bussiness[Bussiness[\"q6s4\"]==1]) + len(Bussiness[Bussiness[\"q7s4\"]==2])\n",
    "Bussiness_jushi[4] = len(Bussiness[Bussiness[\"q6s5\"]==1]) + len(Bussiness[Bussiness[\"q7s5\"]==2])\n",
    "Bussiness_jushi[5] = len(Bussiness[Bussiness[\"q6s6\"]==1]) + len(Bussiness[Bussiness[\"q7s6\"]==2])\n",
    "Bussiness_jushi[6] = len(Bussiness[Bussiness[\"q6s7\"]==1]) + len(Bussiness[Bussiness[\"q7s7\"]==2])\n",
    "Bussiness_jushi"
   ]
  },
  {
   "cell_type": "code",
   "execution_count": null,
   "metadata": {},
   "outputs": [],
   "source": [
    "PC_jushi = [0,0,0,0,0,0,0,0,0]\n",
    "PC_jushi[0] = len(PC[PC[\"q6s1\"]==1]) + len(PC[PC[\"q7s1\"]==2])\n",
    "PC_jushi[1] = len(PC[PC[\"q6s2\"]==1]) + len(PC[PC[\"q7s2\"]==2])\n",
    "PC_jushi[2] = len(PC[PC[\"q6s3\"]==1]) + len(PC[PC[\"q7s3\"]==2])\n",
    "PC_jushi[3] = len(PC[PC[\"q6s4\"]==1]) + len(PC[PC[\"q7s4\"]==2])\n",
    "PC_jushi[4] = len(PC[PC[\"q6s5\"]==1]) + len(PC[PC[\"q7s5\"]==2])\n",
    "PC_jushi[5] = len(PC[PC[\"q6s6\"]==1]) + len(PC[PC[\"q7s6\"]==2])\n",
    "PC_jushi[6] = len(PC[PC[\"q6s7\"]==1]) + len(PC[PC[\"q7s7\"]==2])\n",
    "PC_jushi"
   ]
  },
  {
   "cell_type": "code",
   "execution_count": null,
   "metadata": {},
   "outputs": [],
   "source": [
    "Mus_jushi = [0,0,0,0,0,0,0,0,0]\n",
    "Mus_jushi[0] = len(Mus[Mus[\"q6s1\"]==1]) + len(Mus[Mus[\"q7s1\"]==2])\n",
    "Mus_jushi[1] = len(Mus[Mus[\"q6s2\"]==1]) + len(Mus[Mus[\"q7s2\"]==2])\n",
    "Mus_jushi[2] = len(Mus[Mus[\"q6s3\"]==1]) + len(Mus[Mus[\"q7s3\"]==2])\n",
    "Mus_jushi[3] = len(Mus[Mus[\"q6s4\"]==1]) + len(Mus[Mus[\"q7s4\"]==2])\n",
    "Mus_jushi[4] = len(Mus[Mus[\"q6s5\"]==1]) + len(Mus[Mus[\"q7s5\"]==2])\n",
    "Mus_jushi[5] = len(Mus[Mus[\"q6s6\"]==1]) + len(Mus[Mus[\"q7s6\"]==2])\n",
    "Mus_jushi[6] = len(Mus[Mus[\"q6s7\"]==1]) + len(Mus[Mus[\"q7s7\"]==2])\n",
    "Mus_jushi"
   ]
  },
  {
   "cell_type": "code",
   "execution_count": null,
   "metadata": {},
   "outputs": [],
   "source": [
    "Spo_jushi = [0,0,0,0,0,0,0,0,0]\n",
    "Spo_jushi[0] = len(Spo[Spo[\"q6s1\"]==1]) + len(Spo[Spo[\"q7s1\"]==2])\n",
    "Spo_jushi[1] = len(Spo[Spo[\"q6s2\"]==1]) + len(Spo[Spo[\"q7s2\"]==2])\n",
    "Spo_jushi[2] = len(Spo[Spo[\"q6s3\"]==1]) + len(Spo[Spo[\"q7s3\"]==2])\n",
    "Spo_jushi[3] = len(Spo[Spo[\"q6s4\"]==1]) + len(Spo[Spo[\"q7s4\"]==2])\n",
    "Spo_jushi[4] = len(Spo[Spo[\"q6s5\"]==1]) + len(Spo[Spo[\"q7s5\"]==2])\n",
    "Spo_jushi[5] = len(Spo[Spo[\"q6s6\"]==1]) + len(Spo[Spo[\"q7s6\"]==2])\n",
    "Spo_jushi[6] = len(Spo[Spo[\"q6s7\"]==1]) + len(Spo[Spo[\"q7s7\"]==2])\n",
    "Spo_jushi"
   ]
  },
  {
   "cell_type": "code",
   "execution_count": null,
   "metadata": {},
   "outputs": [],
   "source": [
    "survey2 = pd.read_csv(\"/Users/yuuki/Desktop/KantoMarketSurvey2.csv\")"
   ]
  },
  {
   "cell_type": "code",
   "execution_count": null,
   "metadata": {},
   "outputs": [],
   "source": [
    "survey2q4 = survey2[\"q4\"]"
   ]
  },
  {
   "cell_type": "code",
   "execution_count": null,
   "metadata": {},
   "outputs": [],
   "source": [
    "print(len(survey2q4))\n",
    "survey2q4.head()"
   ]
  },
  {
   "cell_type": "code",
   "execution_count": null,
   "metadata": {},
   "outputs": [],
   "source": [
    "q4cnt = [0,0,0,0,0,0,0,0]\n",
    "survey2q4 = survey2q4.fillna(0)\n",
    "survey2q4.head()"
   ]
  },
  {
   "cell_type": "code",
   "execution_count": null,
   "metadata": {},
   "outputs": [],
   "source": [
    "for i in range(409):\n",
    "    tmp = survey2q4[i]\n",
    "    tmp = int(tmp)\n",
    "    q4cnt[tmp] += 1\n",
    "    \n",
    "print(q4cnt)"
   ]
  },
  {
   "cell_type": "code",
   "execution_count": null,
   "metadata": {},
   "outputs": [],
   "source": [
    "import seaborn as sns"
   ]
  },
  {
   "cell_type": "code",
   "execution_count": null,
   "metadata": {},
   "outputs": [],
   "source": [
    "q6 = survey2.groupby('q6')"
   ]
  },
  {
   "cell_type": "code",
   "execution_count": null,
   "metadata": {},
   "outputs": [],
   "source": [
    "print(type(q6))"
   ]
  },
  {
   "cell_type": "code",
   "execution_count": null,
   "metadata": {},
   "outputs": [],
   "source": [
    "q6.head()"
   ]
  },
  {
   "cell_type": "code",
   "execution_count": null,
   "metadata": {},
   "outputs": [],
   "source": [
    "OmitSurvey2 = survey2.dropna()"
   ]
  },
  {
   "cell_type": "code",
   "execution_count": null,
   "metadata": {},
   "outputs": [],
   "source": [
    "OmitSurvey2.head()"
   ]
  },
  {
   "cell_type": "code",
   "execution_count": null,
   "metadata": {},
   "outputs": [],
   "source": [
    "OmitQ6 = OmitSurvey2.groupby('q6')"
   ]
  },
  {
   "cell_type": "code",
   "execution_count": null,
   "metadata": {},
   "outputs": [],
   "source": [
    "OmitQ6.head()"
   ]
  },
  {
   "cell_type": "code",
   "execution_count": null,
   "metadata": {},
   "outputs": [],
   "source": [
    "syuhu = Rawdata[Rawdata[\"JOB\"]==8]"
   ]
  },
  {
   "cell_type": "code",
   "execution_count": null,
   "metadata": {},
   "outputs": [],
   "source": [
    "syuhu.describe()"
   ]
  },
  {
   "cell_type": "code",
   "execution_count": null,
   "metadata": {},
   "outputs": [],
   "source": [
    "print(sum(syuhu[\"q7s1\"]))"
   ]
  },
  {
   "cell_type": "code",
   "execution_count": null,
   "metadata": {},
   "outputs": [],
   "source": [
    "print(sum(syuhu[\"q7s2\"]))\n",
    "print(sum(syuhu[\"q7s3\"]))\n",
    "print(sum(syuhu[\"q7s4\"]))\n",
    "print(sum(syuhu[\"q7s5\"]))\n",
    "print(sum(syuhu[\"q7s6\"]))\n",
    "print(sum(syuhu[\"q7s7\"]))\n",
    "print(sum(syuhu[\"q7s8\"]))\n",
    "print(sum(syuhu[\"q7s9\"]))"
   ]
  },
  {
   "cell_type": "code",
   "execution_count": null,
   "metadata": {},
   "outputs": [],
   "source": [
    "import numpy as np\n",
    "syuhu_li = np.array([164,185,216,226,209,204,208,218,196])\n",
    "all_li = np.array([786,869,912,954,946,947,961,1029,936])"
   ]
  },
  {
   "cell_type": "code",
   "execution_count": null,
   "metadata": {},
   "outputs": [],
   "source": [
    "ans = all_li - syuhu_li"
   ]
  },
  {
   "cell_type": "code",
   "execution_count": null,
   "metadata": {},
   "outputs": [],
   "source": [
    "ans"
   ]
  },
  {
   "cell_type": "code",
   "execution_count": null,
   "metadata": {},
   "outputs": [],
   "source": [
    "Rawdata.describe()"
   ]
  },
  {
   "cell_type": "code",
   "execution_count": null,
   "metadata": {},
   "outputs": [],
   "source": [
    "361-81"
   ]
  },
  {
   "cell_type": "code",
   "execution_count": null,
   "metadata": {},
   "outputs": [],
   "source": [
    "ans = ans/280"
   ]
  },
  {
   "cell_type": "code",
   "execution_count": null,
   "metadata": {},
   "outputs": [],
   "source": [
    "ans"
   ]
  },
  {
   "cell_type": "code",
   "execution_count": null,
   "metadata": {},
   "outputs": [],
   "source": [
    "label = [\"施設の立地\",\"時間の確保\",\"モチベーション\",\"コスパ\",\"教師スタッフの質\",\"習い事の内容の質\",\"教師や生徒との人間関係\",\"施設設備の水準\",\"支出の総額\"]\n",
    "label"
   ]
  },
  {
   "cell_type": "code",
   "execution_count": null,
   "metadata": {},
   "outputs": [],
   "source": [
    "for i in range(9):\n",
    "    print(label[i] + \": \" + str(ans[i]))"
   ]
  },
  {
   "cell_type": "code",
   "execution_count": null,
   "metadata": {},
   "outputs": [],
   "source": [
    "cnt_all = [0,0,0,0,0]\n",
    "cnt_syuhu = [0,0,0,0,0]\n",
    "for i in range(361):\n",
    "    tmp = Rawdata[\"q7s1\"][i]\n",
    "    tmp -= 1\n",
    "    cnt_all[tmp] += 1\n",
    "cnt_all"
   ]
  },
  {
   "cell_type": "code",
   "execution_count": null,
   "metadata": {},
   "outputs": [],
   "source": [
    "syuhu  = syuhu.reset_index(drop = True)\n",
    "for i in range(81):\n",
    "    tmp = syuhu[\"q7s1\"][i]\n",
    "    tmp -= 1\n",
    "    cnt_syuhu[tmp] += 1\n",
    "cnt_syuhu"
   ]
  },
  {
   "cell_type": "code",
   "execution_count": null,
   "metadata": {},
   "outputs": [],
   "source": [
    "cnt_all = np.array(cnt_all)"
   ]
  },
  {
   "cell_type": "code",
   "execution_count": null,
   "metadata": {},
   "outputs": [],
   "source": [
    "cnt_syuhu = np.array(cnt_syuhu)"
   ]
  },
  {
   "cell_type": "code",
   "execution_count": null,
   "metadata": {},
   "outputs": [],
   "source": [
    "cnt = cnt_all - cnt_syuhu\n",
    "cnt"
   ]
  },
  {
   "cell_type": "code",
   "execution_count": null,
   "metadata": {},
   "outputs": [],
   "source": [
    "tmp = 91*5 + 84*4 + 78*3 + 6 * 2 + 21*1\n",
    "tmp"
   ]
  },
  {
   "cell_type": "code",
   "execution_count": null,
   "metadata": {},
   "outputs": [],
   "source": [
    "ans = []\n",
    "ans.append(tmp/280)"
   ]
  },
  {
   "cell_type": "code",
   "execution_count": null,
   "metadata": {},
   "outputs": [],
   "source": [
    "ans"
   ]
  },
  {
   "cell_type": "code",
   "execution_count": null,
   "metadata": {},
   "outputs": [],
   "source": [
    "cnt_all = [0,0,0,0,0]\n",
    "cnt_syuhu = [0,0,0,0,0]\n",
    "for i in range(361):\n",
    "    tmp = Rawdata[\"q7s2\"][i]\n",
    "    tmp -= 1\n",
    "    cnt_all[tmp] += 1\n",
    "cnt_all\n",
    "\n",
    "syuhu  = syuhu.reset_index(drop = True)\n",
    "for i in range(81):\n",
    "    tmp = syuhu[\"q7s2\"][i]\n",
    "    tmp -= 1\n",
    "    cnt_syuhu[tmp] += 1\n",
    "cnt_syuhu\n",
    "\n",
    "cnt_all = np.array(cnt_all)\n",
    "cnt_syuhu = np.array(cnt_syuhu)\n",
    "\n",
    "cnt = cnt_all - cnt_syuhu\n",
    "cnt\n"
   ]
  },
  {
   "cell_type": "code",
   "execution_count": null,
   "metadata": {},
   "outputs": [],
   "source": [
    "tmp = 62*5 + 85*4 + 99*3 + 15*2 + 19\n",
    "ans.append(tmp/280)\n",
    "ans"
   ]
  },
  {
   "cell_type": "code",
   "execution_count": null,
   "metadata": {},
   "outputs": [],
   "source": [
    "cnt_all = [0,0,0,0,0]\n",
    "cnt_syuhu = [0,0,0,0,0]\n",
    "for i in range(361):\n",
    "    tmp = Rawdata[\"q7s3\"][i]\n",
    "    tmp -= 1\n",
    "    cnt_all[tmp] += 1\n",
    "cnt_all\n",
    "\n",
    "syuhu  = syuhu.reset_index(drop = True)\n",
    "for i in range(81):\n",
    "    tmp = syuhu[\"q7s3\"][i]\n",
    "    tmp -= 1\n",
    "    cnt_syuhu[tmp] += 1\n",
    "cnt_syuhu\n",
    "\n",
    "cnt_all = np.array(cnt_all)\n",
    "cnt_syuhu = np.array(cnt_syuhu)\n",
    "\n",
    "cnt = cnt_all - cnt_syuhu\n",
    "cnt"
   ]
  },
  {
   "cell_type": "code",
   "execution_count": null,
   "metadata": {},
   "outputs": [],
   "source": [
    "tmp = 52*5 + 94*4 + 99*3 + 16*2 + 19\n",
    "ans.append(tmp/280)\n",
    "ans"
   ]
  },
  {
   "cell_type": "code",
   "execution_count": null,
   "metadata": {},
   "outputs": [],
   "source": [
    "cnt_all = [0,0,0,0,0]\n",
    "cnt_syuhu = [0,0,0,0,0]\n",
    "for i in range(361):\n",
    "    tmp = Rawdata[\"q7s4\"][i]\n",
    "    tmp -= 1\n",
    "    cnt_all[tmp] += 1\n",
    "cnt_all\n",
    "\n",
    "syuhu  = syuhu.reset_index(drop = True)\n",
    "for i in range(81):\n",
    "    tmp = syuhu[\"q7s4\"][i]\n",
    "    tmp -= 1\n",
    "    cnt_syuhu[tmp] += 1\n",
    "cnt_syuhu\n",
    "\n",
    "cnt_all = np.array(cnt_all)\n",
    "cnt_syuhu = np.array(cnt_syuhu)\n",
    "\n",
    "cnt = cnt_all - cnt_syuhu\n",
    "cnt"
   ]
  },
  {
   "cell_type": "code",
   "execution_count": null,
   "metadata": {},
   "outputs": [],
   "source": [
    "tmp = 42*5 + 87*4 + 114*3 + 15*2 + 22\n",
    "ans.append(tmp/280)\n",
    "ans"
   ]
  },
  {
   "cell_type": "code",
   "execution_count": null,
   "metadata": {},
   "outputs": [],
   "source": [
    "cnt_all = [0,0,0,0,0]\n",
    "cnt_syuhu = [0,0,0,0,0]\n",
    "for i in range(361):\n",
    "    tmp = Rawdata[\"q7s5\"][i]\n",
    "    tmp -= 1\n",
    "    cnt_all[tmp] += 1\n",
    "cnt_all\n",
    "\n",
    "syuhu  = syuhu.reset_index(drop = True)\n",
    "for i in range(81):\n",
    "    tmp = syuhu[\"q7s5\"][i]\n",
    "    tmp -= 1\n",
    "    cnt_syuhu[tmp] += 1\n",
    "cnt_syuhu\n",
    "\n",
    "cnt_all = np.array(cnt_all)\n",
    "cnt_syuhu = np.array(cnt_syuhu)\n",
    "\n",
    "cnt = cnt_all - cnt_syuhu\n",
    "cnt"
   ]
  },
  {
   "cell_type": "code",
   "execution_count": null,
   "metadata": {},
   "outputs": [],
   "source": [
    "tmp = 43*5 + 80*4 + 117*3 + 17*2 + 23\n",
    "ans.append(tmp/280)\n",
    "ans"
   ]
  },
  {
   "cell_type": "code",
   "execution_count": null,
   "metadata": {},
   "outputs": [],
   "source": [
    "cnt_all = [0,0,0,0,0]\n",
    "cnt_syuhu = [0,0,0,0,0]\n",
    "for i in range(361):\n",
    "    tmp = Rawdata[\"q7s6\"][i]\n",
    "    tmp -= 1\n",
    "    cnt_all[tmp] += 1\n",
    "cnt_all\n",
    "\n",
    "syuhu  = syuhu.reset_index(drop = True)\n",
    "for i in range(81):\n",
    "    tmp = syuhu[\"q7s6\"][i]\n",
    "    tmp -= 1\n",
    "    cnt_syuhu[tmp] += 1\n",
    "cnt_syuhu\n",
    "\n",
    "cnt_all = np.array(cnt_all)\n",
    "cnt_syuhu = np.array(cnt_syuhu)\n",
    "\n",
    "cnt = cnt_all - cnt_syuhu\n",
    "cnt"
   ]
  },
  {
   "cell_type": "code",
   "execution_count": null,
   "metadata": {},
   "outputs": [],
   "source": [
    "tmp = 36*5 + 86*4 + 120*3 + 15*2 + 23\n",
    "ans.append(tmp/280)\n",
    "ans"
   ]
  },
  {
   "cell_type": "code",
   "execution_count": null,
   "metadata": {},
   "outputs": [],
   "source": [
    "cnt_all = [0,0,0,0,0]\n",
    "cnt_syuhu = [0,0,0,0,0]\n",
    "for i in range(361):\n",
    "    tmp = Rawdata[\"q7s7\"][i]\n",
    "    tmp -= 1\n",
    "    cnt_all[tmp] += 1\n",
    "cnt_all\n",
    "\n",
    "syuhu  = syuhu.reset_index(drop = True)\n",
    "for i in range(81):\n",
    "    tmp = syuhu[\"q7s7\"][i]\n",
    "    tmp -= 1\n",
    "    cnt_syuhu[tmp] += 1\n",
    "cnt_syuhu\n",
    "\n",
    "cnt_all = np.array(cnt_all)\n",
    "cnt_syuhu = np.array(cnt_syuhu)\n",
    "\n",
    "cnt = cnt_all - cnt_syuhu\n",
    "cnt"
   ]
  },
  {
   "cell_type": "code",
   "execution_count": null,
   "metadata": {},
   "outputs": [],
   "source": [
    "tmp = 42*5 + 71*4 + 123*3 + 20*2 + 24\n",
    "ans.append(tmp/280)\n",
    "ans"
   ]
  },
  {
   "cell_type": "code",
   "execution_count": null,
   "metadata": {},
   "outputs": [],
   "source": [
    "cnt_all = [0,0,0,0,0]\n",
    "cnt_syuhu = [0,0,0,0,0]\n",
    "for i in range(361):\n",
    "    tmp = Rawdata[\"q7s8\"][i]\n",
    "    tmp -= 1\n",
    "    cnt_all[tmp] += 1\n",
    "cnt_all\n",
    "\n",
    "syuhu  = syuhu.reset_index(drop = True)\n",
    "for i in range(81):\n",
    "    tmp = syuhu[\"q7s8\"][i]\n",
    "    tmp -= 1\n",
    "    cnt_syuhu[tmp] += 1\n",
    "cnt_syuhu\n",
    "\n",
    "cnt_all = np.array(cnt_all)\n",
    "cnt_syuhu = np.array(cnt_syuhu)\n",
    "\n",
    "cnt = cnt_all - cnt_syuhu\n",
    "cnt"
   ]
  },
  {
   "cell_type": "code",
   "execution_count": null,
   "metadata": {},
   "outputs": [],
   "source": [
    "tmp = 24*5 + 48*4 + 164*3 + 21*2 + 23\n",
    "ans.append(tmp/280)\n",
    "ans"
   ]
  },
  {
   "cell_type": "code",
   "execution_count": null,
   "metadata": {},
   "outputs": [],
   "source": [
    "cnt_all = [0,0,0,0,0]\n",
    "cnt_syuhu = [0,0,0,0,0]\n",
    "for i in range(361):\n",
    "    tmp = Rawdata[\"q7s9\"][i]\n",
    "    tmp -= 1\n",
    "    cnt_all[tmp] += 1\n",
    "cnt_all\n",
    "\n",
    "syuhu  = syuhu.reset_index(drop = True)\n",
    "for i in range(81):\n",
    "    tmp = syuhu[\"q7s9\"][i]\n",
    "    tmp -= 1\n",
    "    cnt_syuhu[tmp] += 1\n",
    "cnt_syuhu\n",
    "\n",
    "cnt_all = np.array(cnt_all)\n",
    "cnt_syuhu = np.array(cnt_syuhu)\n",
    "\n",
    "cnt = cnt_all - cnt_syuhu\n",
    "cnt"
   ]
  },
  {
   "cell_type": "code",
   "execution_count": null,
   "metadata": {},
   "outputs": [],
   "source": [
    "tmp = 39*5 + 86*4 + 112*3 + 22*2 + 21\n",
    "ans.append(tmp/280)\n",
    "\n",
    "ans"
   ]
  },
  {
   "cell_type": "code",
   "execution_count": null,
   "metadata": {},
   "outputs": [],
   "source": [
    "for i in range(9):\n",
    "    print(label[i] + \": \" + str(ans[i]) + \"\\n\")"
   ]
  },
  {
   "cell_type": "code",
   "execution_count": null,
   "metadata": {},
   "outputs": [],
   "source": [
    "score = np.array([5,4,3,2,1])"
   ]
  },
  {
   "cell_type": "code",
   "execution_count": null,
   "metadata": {},
   "outputs": [],
   "source": [
    "sum(score)"
   ]
  },
  {
   "cell_type": "code",
   "execution_count": null,
   "metadata": {},
   "outputs": [],
   "source": [
    "print(cnt*score)"
   ]
  },
  {
   "cell_type": "code",
   "execution_count": null,
   "metadata": {},
   "outputs": [],
   "source": [
    "sum(cnt*score)"
   ]
  },
  {
   "cell_type": "code",
   "execution_count": null,
   "metadata": {},
   "outputs": [],
   "source": [
    "print(sum(cnt*score) / 280)"
   ]
  },
  {
   "cell_type": "code",
   "execution_count": null,
   "metadata": {},
   "outputs": [],
   "source": [
    "cols = [\"q7s1\",\"q7s2\",\"q7s3\",\"q7s4\",\"q7s5\",\"q7s6\", \"q7s7\", \"q7s8\", \"q7s9\"]\n",
    "count = np.array([[0,0,0,0,0] for _ in range(9)])\n",
    "for i in range(9):\n",
    "    for num in range(361):\n",
    "        tmp = Rawdata[cols[i]][num]\n",
    "        tmp -= 1\n",
    "        count[i][tmp] += 1"
   ]
  },
  {
   "cell_type": "code",
   "execution_count": null,
   "metadata": {},
   "outputs": [],
   "source": [
    "count"
   ]
  },
  {
   "cell_type": "code",
   "execution_count": null,
   "metadata": {},
   "outputs": [],
   "source": [
    "count_syuhu = np.array([[0,0,0,0,0] for _ in range(9)])\n",
    "for i in range(9):\n",
    "    for num in range(81):\n",
    "        tmp = syuhu[cols[i]][num]\n",
    "        tmp -= 1\n",
    "        count_syuhu[i][tmp] += 1\n",
    "count_syuhu"
   ]
  },
  {
   "cell_type": "code",
   "execution_count": null,
   "metadata": {},
   "outputs": [],
   "source": [
    "count -= count_syuhu"
   ]
  },
  {
   "cell_type": "code",
   "execution_count": null,
   "metadata": {},
   "outputs": [],
   "source": [
    "answer = []\n",
    "for i in range(9):\n",
    "    answer.append(sum(count[i]*score)/280)\n",
    "answer"
   ]
  },
  {
   "cell_type": "code",
   "execution_count": null,
   "metadata": {},
   "outputs": [],
   "source": [
    "for i in range(9):\n",
    "    print(label[i] + \": \" + str(answer[i]) + \"\\n\")"
   ]
  },
  {
   "cell_type": "code",
   "execution_count": null,
   "metadata": {},
   "outputs": [],
   "source": [
    "sur2 = pd.read_csv(\"/Users/yuuki/Desktop/KantoMarketSurvey2.csv\")c"
   ]
  }
 ],
 "metadata": {
  "kernelspec": {
   "display_name": "Python 3",
   "language": "python",
   "name": "python3"
  },
  "language_info": {
   "codemirror_mode": {
    "name": "ipython",
    "version": 3
   },
   "file_extension": ".py",
   "mimetype": "text/x-python",
   "name": "python",
   "nbconvert_exporter": "python",
   "pygments_lexer": "ipython3",
   "version": "3.7.4"
  }
 },
 "nbformat": 4,
 "nbformat_minor": 2
}
